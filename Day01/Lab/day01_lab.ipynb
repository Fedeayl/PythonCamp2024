{
 "cells": [
  {
   "cell_type": "markdown",
   "metadata": {},
   "source": [
    "# Lab: Data Types, Loops, and Functions"
   ]
  },
  {
   "cell_type": "markdown",
   "metadata": {},
   "source": [
    "**Instructions**: \n",
    "\n",
    "Complete the following functions with your code\n",
    "- You can find information on how to convert numbers to a different base here:\n",
    "    - https://www.tutorialspoint.com/computer_logical_organization/number_system_conversion.htm\n",
    "- You can find information on how to convert numbers to roman numerals here:\n",
    "    - https://www.romannumerals.org/converter"
   ]
  },
  {
   "cell_type": "markdown",
   "metadata": {},
   "source": [
    "1. Convert positive integer to base 2"
   ]
  },
  {
   "cell_type": "code",
   "execution_count": 1,
   "metadata": {},
   "outputs": [
    {
     "name": "stdout",
     "output_type": "stream",
     "text": [
      "100011\n"
     ]
    }
   ],
   "source": [
    "\n",
    "def binarify(num):\n",
    "    if num <= 0: \n",
    "        return '0' # If the number is negative or 0, return 0\n",
    "    digits = [] # empty list to store digits\n",
    "    while num > 0:  # loop greater than 0\n",
    "        digits.append(str(num % 2)) # append: add to the end of a list\n",
    "        num = num // 2 # // get the integer of a division\n",
    "    digits.reverse()\n",
    "    return ''.join(digits)\n",
    "\n",
    "print(binarify(35))\n"
   ]
  },
  {
   "cell_type": "markdown",
   "metadata": {},
   "source": [
    "2. Convert positive integer to a string in any base"
   ]
  },
  {
   "cell_type": "code",
   "execution_count": 10,
   "metadata": {},
   "outputs": [
    {
     "data": {
      "text/plain": [
       "'2101'"
      ]
     },
     "execution_count": 10,
     "metadata": {},
     "output_type": "execute_result"
    }
   ],
   "source": [
    "\n",
    "def int_to_base(num, base):\n",
    "    if num <= 0: # If 0, return 0\n",
    "        return '0'\n",
    "    digits = [] # Empty list to store the str\n",
    "    while num > 0:\n",
    "        remainder = num % base\n",
    "        digits.append(str(remainder)) # Add the digit at the end of the list \n",
    "        num = num // base # Only the integer part\n",
    "    digits.reverse()\n",
    "    return ''.join(digits)\n",
    "\n",
    "int_to_base(145, 4)"
   ]
  },
  {
   "cell_type": "markdown",
   "metadata": {},
   "source": [
    " 3. Take a string-formatted number and its base and return the base-10 integer"
   ]
  },
  {
   "cell_type": "code",
   "execution_count": 6,
   "metadata": {},
   "outputs": [
    {
     "data": {
      "text/plain": [
       "35"
      ]
     },
     "execution_count": 6,
     "metadata": {},
     "output_type": "execute_result"
    }
   ],
   "source": [
    "def base_to_int(string, base):\n",
    "    if string == \"0\" or base <= 0 :\n",
    "        return 0\n",
    "    \n",
    "    result = 0 \n",
    "    power = len(string) - 1\n",
    "    \n",
    "    for char in string:\n",
    "        digit_value = int(char, base)  # Convert character to integer\n",
    "        result += digit_value * (base ** power) # Forumla, and sum\n",
    "        power -= 1 # substract 1 to the following loop \n",
    "        \n",
    "    return result\n",
    "\n",
    "base_to_int(\"100011\", 2)"
   ]
  },
  {
   "cell_type": "markdown",
   "metadata": {},
   "source": [
    "     4. Add two numbers of different bases and return the sum"
   ]
  },
  {
   "cell_type": "code",
   "execution_count": 12,
   "metadata": {},
   "outputs": [
    {
     "data": {
      "text/plain": [
       "70"
      ]
     },
     "execution_count": 12,
     "metadata": {},
     "output_type": "execute_result"
    }
   ],
   "source": [
    "def flexibase_add(str1, str2, base1, base2):\n",
    "\n",
    "    result1 = base_to_int(str1, base1)\n",
    "    result2 = base_to_int(str2, base2)\n",
    "\n",
    "    result = result1 + result2\n",
    "\n",
    "    return result \n",
    "\n",
    "flexibase_add(\"100011\", \"100011\", 2, 2)\n"
   ]
  },
  {
   "cell_type": "markdown",
   "metadata": {},
   "source": [
    "5. Multiply two numbers of different bases and return the product"
   ]
  },
  {
   "cell_type": "code",
   "execution_count": 14,
   "metadata": {},
   "outputs": [
    {
     "data": {
      "text/plain": [
       "1225"
      ]
     },
     "execution_count": 14,
     "metadata": {},
     "output_type": "execute_result"
    }
   ],
   "source": [
    " def flexibase_multiply(str1, str2, base1, base2):\n",
    "    result1 = base_to_int(str1, base1)\n",
    "    result2 = base_to_int(str2, base2)\n",
    "\n",
    "    result = result1 * result2\n",
    "\n",
    "    return result \n",
    "\n",
    "flexibase_multiply(\"100011\", \"100011\", 2, 2)\n"
   ]
  },
  {
   "cell_type": "markdown",
   "metadata": {},
   "source": [
    "6. Given an integer, return the Roman numeral version"
   ]
  },
  {
   "cell_type": "code",
   "execution_count": 33,
   "metadata": {},
   "outputs": [
    {
     "data": {
      "text/plain": [
       "'MCMXCII'"
      ]
     },
     "execution_count": 33,
     "metadata": {},
     "output_type": "execute_result"
    }
   ],
   "source": [
    "# Hint: Please use a dictionary in your solution. \n",
    "def romanify(num):\n",
    "    # Dictionary to map integer values to Roman numerals\n",
    "    roman_dict = {\n",
    "        1000: \"M\",\n",
    "        900: \"CM\",\n",
    "        500: \"D\",\n",
    "        400: \"CD\",\n",
    "        100: \"C\",\n",
    "        90: \"XC\",\n",
    "        50: \"L\",\n",
    "        40: \"XL\",\n",
    "        10: \"X\",\n",
    "        9: \"IX\",\n",
    "        5: \"V\",\n",
    "        4: \"IV\",\n",
    "        1: \"I\"\n",
    "    }\n",
    "    \n",
    "    # Initialize the result string\n",
    "    result = \"\"\n",
    "    \n",
    "    # Process the number using the dictionary keys directly\n",
    "    for value in sorted(roman_dict.keys(), reverse=True):\n",
    "        count = num // value  # Determine how many times the Roman numeral fits\n",
    "        result += roman_dict[value] * count  # Append the Roman numeral that many times\n",
    "        num -= value * count  # Reduce the number accordingly\n",
    "    \n",
    "    return result\n",
    "    \n",
    "romanify(1992)"
   ]
  },
  {
   "cell_type": "code",
   "execution_count": 1,
   "metadata": {},
   "outputs": [],
   "source": [
    "# Copyright (c) 2014 Matt Dickenson\n",
    "# \n",
    "# Permission is hereby granted, free of charge, to any person obtaining a copy\n",
    "# of this software and associated documentation files (the \"Software\"), to deal\n",
    "# in the Software without restriction, including without limitation the rights\n",
    "# to use, copy, modify, merge, publish, distribute, sublicense, and/or sell\n",
    "# copies of the Software, and to permit persons to whom the Software is\n",
    "# furnished to do so, subject to the following conditions:\n",
    "# \n",
    "# The above copyright notice and this permission notice shall be included in all\n",
    "# copies or substantial portions of the Software.\n",
    "# \n",
    "# THE SOFTWARE IS PROVIDED \"AS IS\", WITHOUT WARRANTY OF ANY KIND, EXPRESS OR\n",
    "# IMPLIED, INCLUDING BUT NOT LIMITED TO THE WARRANTIES OF MERCHANTABILITY,\n",
    "# FITNESS FOR A PARTICULAR PURPOSE AND NONINFRINGEMENT. IN NO EVENT SHALL THE\n",
    "# AUTHORS OR COPYRIGHT HOLDERS BE LIABLE FOR ANY CLAIM, DAMAGES OR OTHER\n",
    "# LIABILITY, WHETHER IN AN ACTION OF CONTRACT, TORT OR OTHERWISE, ARISING FROM,\n",
    "# OUT OF OR IN CONNECTION WITH THE SOFTWARE OR THE USE OR OTHER DEALINGS IN THE\n",
    "# SOFTWARE."
   ]
  }
 ],
 "metadata": {
  "kernelspec": {
   "display_name": "Python 3 (ipykernel)",
   "language": "python",
   "name": "python3"
  },
  "language_info": {
   "codemirror_mode": {
    "name": "ipython",
    "version": 3
   },
   "file_extension": ".py",
   "mimetype": "text/x-python",
   "name": "python",
   "nbconvert_exporter": "python",
   "pygments_lexer": "ipython3",
   "version": "3.12.4"
  }
 },
 "nbformat": 4,
 "nbformat_minor": 4
}
