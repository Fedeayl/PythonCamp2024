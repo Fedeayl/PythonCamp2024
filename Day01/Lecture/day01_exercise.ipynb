{
 "cells": [
  {
   "cell_type": "markdown",
   "metadata": {},
   "source": [
    "#  Exercise: Data Types, Loops, and Functions"
   ]
  },
  {
   "cell_type": "markdown",
   "metadata": {},
   "source": [
    "1. Write a `for` loop, `while` loop, or a `function` (or all three!) to create a list of the first 10 numbers of the Fibonacci sequence.\n"
   ]
  },
  {
   "cell_type": "markdown",
   "metadata": {},
   "source": [
    "- The Fibonacci sequence is defined as a sequence in which each term is the sum of the two previous terms:"
   ]
  },
  {
   "cell_type": "markdown",
   "metadata": {},
   "source": [
    "$$x_{i} = x_{i-1} + x_{i-2},$$ \n",
    "$$\\text{where} x_1 = 1, x_2 = 1$$"
   ]
  },
  {
   "cell_type": "code",
   "execution_count": 6,
   "metadata": {},
   "outputs": [
    {
     "name": "stdout",
     "output_type": "stream",
     "text": [
      "[0, 1, 1, 2, 3, 5, 8, 13, 21, 34]\n"
     ]
    }
   ],
   "source": [
    "\n",
    "fib = [0, 1]\n",
    "\n",
    "for i in range(8):\n",
    "    next_n = fib[-1] + fib[-2]\n",
    "    fib.append(next_n)\n",
    "\n",
    "print(fib)\n",
    "    "
   ]
  },
  {
   "cell_type": "markdown",
   "metadata": {},
   "source": [
    "2. Can you now do it for the first 30 numbers? "
   ]
  },
  {
   "cell_type": "code",
   "execution_count": 7,
   "metadata": {},
   "outputs": [
    {
     "name": "stdout",
     "output_type": "stream",
     "text": [
      "[0, 1, 1, 2, 3, 5, 8, 13, 21, 34, 55, 89, 144, 233, 377, 610, 987, 1597, 2584, 4181, 6765, 10946, 17711, 28657, 46368, 75025, 121393, 196418, 317811, 514229]\n"
     ]
    }
   ],
   "source": [
    "\n",
    "fib = [0, 1]\n",
    "\n",
    "for i in range(28):\n",
    "    next_n = fib[-1] + fib[-2]\n",
    "    fib.append(next_n)\n",
    "\n",
    "print(fib)"
   ]
  },
  {
   "cell_type": "markdown",
   "metadata": {},
   "source": [
    "3. Complete the functions below using your solutions "
   ]
  },
  {
   "cell_type": "code",
<<<<<<< HEAD
   "execution_count": 15,
=======
   "execution_count": 14,
>>>>>>> upstream/main
   "metadata": {},
   "outputs": [
    {
     "data": {
      "text/plain": [
       "True"
      ]
     },
     "execution_count": 15,
     "metadata": {},
     "output_type": "execute_result"
    }
   ],
   "source": [
    "# return true if there is no e in 'word', else false\n",
    "def has_no_e(word): \n",
    "    if 'e' not in word:\n",
    "        return  True \n",
    "    else: \n",
    "        return False\n",
    "\n",
    "has_no_e(\"Washington\")"
   ]
  },
  {
   "cell_type": "code",
   "execution_count": 27,
   "metadata": {},
   "outputs": [
    {
     "data": {
      "text/plain": [
       "False"
      ]
     },
     "execution_count": 27,
     "metadata": {},
     "output_type": "execute_result"
    }
   ],
   "source": [
    "# return true if there is e in 'word', else false\n",
    "def has_e(word): \n",
    "    if 'e' in word:\n",
    "        return  True \n",
    "    else: \n",
    "        return False\n",
    "\n",
    "has_e(\"Washington\")"
   ]
  },
  {
   "cell_type": "code",
   "execution_count": 38,
   "metadata": {},
   "outputs": [
    {
     "data": {
      "text/plain": [
       "True"
      ]
     },
     "execution_count": 38,
     "metadata": {},
     "output_type": "execute_result"
    }
   ],
   "source": [
    "# return true if word1 contains only letters from word2, else false\n",
    "def uses_only(word1, word2):\n",
    "    for characters in word1:\n",
    "        if characters not in word2:\n",
    "            return False\n",
    "    return True\n",
    "\n",
    "uses_only(\"ape\", \"apple\")"
   ]
  },
  {
   "cell_type": "code",
   "execution_count": 78,
   "metadata": {},
   "outputs": [
    {
     "data": {
      "text/plain": [
       "True"
      ]
     },
     "execution_count": 78,
     "metadata": {},
     "output_type": "execute_result"
    }
   ],
   "source": [
    "# return true if word1 uses all the letters in word2, else false\n",
    "def uses_all(word1, word2):\n",
    "    return all(characters in word1 for characters in word2)\n",
    "\n",
    "uses_all(\"apple\", \"alep\")"
   ]
  },
  {
   "cell_type": "code",
   "execution_count": 80,
   "metadata": {},
   "outputs": [
    {
     "data": {
      "text/plain": [
       "False"
      ]
     },
     "execution_count": 80,
     "metadata": {},
     "output_type": "execute_result"
    }
   ],
   "source": [
    "# return true or false \n",
    "# Is the word in alphabetical order? return True if yes, False if not. \n",
    "# Hint: check the methods for lists\n",
    "def is_abecedarian(word):\n",
    "    return list(word) is sorted(word)\n",
    "\n",
    "is_abecedarian(\"acbd\")"
   ]
  }
 ],
 "metadata": {
  "kernelspec": {
   "display_name": "Python 3 (ipykernel)",
   "language": "python",
   "name": "python3"
  },
  "language_info": {
   "codemirror_mode": {
    "name": "ipython",
    "version": 3
   },
   "file_extension": ".py",
   "mimetype": "text/x-python",
   "name": "python",
   "nbconvert_exporter": "python",
   "pygments_lexer": "ipython3",
   "version": "3.12.4"
  }
 },
 "nbformat": 4,
 "nbformat_minor": 4
}
