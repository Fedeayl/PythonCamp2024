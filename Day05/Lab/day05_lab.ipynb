{
 "cells": [
  {
   "cell_type": "markdown",
   "metadata": {},
   "source": [
    "# Lab: APIs"
   ]
  },
  {
   "cell_type": "code",
   "execution_count": 29,
   "metadata": {},
   "outputs": [
    {
     "name": "stdout",
     "output_type": "stream",
     "text": [
      "\u001b[31mERROR: Could not find a version that satisfies the requirement googleplaces (from versions: none)\u001b[0m\u001b[31m\n",
      "\u001b[0m\u001b[31mERROR: No matching distribution found for googleplaces\u001b[0m\u001b[31m\n",
      "\u001b[0m"
     ]
    }
   ],
   "source": [
    "#!pip install googleplaces"
   ]
  },
  {
   "cell_type": "markdown",
   "metadata": {},
   "source": [
    "##### Instructions: \n",
    "\n",
    "Write your own Python script to answer the following questions: \n",
    "1. Which of these embassies is closest to the White House in meters? What is the address? \n",
    "2. If I wanted to hold a morning meeting there, which cafe would you suggest (best rating and closest)?\n",
    "3. If I wanted to hold an upscale evening meeting there, which fancy bar would you suggest? \n",
    "\n",
    "Hint: \n",
    "- You will need to enable the `Google Places API`.\n",
    "- If your request gets denied, make sure\n",
    "    - 1. The API is enabled on your Google account\n",
    "      2. Your credential is unrestricted to all APIs \n",
    "- You may find this page useful to learn about different findinging nearby places https://www.geeksforgeeks.org/python-fetch-nearest-hospital-locations-using-googlemaps-api/"
   ]
  },
  {
   "cell_type": "code",
   "execution_count": 30,
   "metadata": {},
   "outputs": [],
   "source": [
    "import importlib\n",
    "import os\n",
    "import googlemaps\n",
    "import geopy.distance\n",
    "\n",
    "# os.chdir('you/key/dir')\n",
    "imported_items = importlib.import_module('start_google')\n",
    "gmaps = imported_items.client\n",
    "\n",
    "whitehouse = '1600 Pennsylvania Avenue, Washington, DC'\n",
    "white_house_coords = (38.8976763, -77.0365298)\n",
    "\n",
    "# Coordinates of the embassies\n",
    "embassies = [\n",
    "    (38.917228, -77.0522365), \n",
    "    (38.9076502, -77.0370427), \n",
    "    (38.916944, -77.048739)\n",
    "]\n"
   ]
  },
  {
   "cell_type": "code",
   "execution_count": 31,
   "metadata": {},
   "outputs": [
    {
     "name": "stdout",
     "output_type": "stream",
     "text": [
      "The closest embassy is located at coordinates (38.9076502, -77.0370427) which is approximately 1.11 k away from the White House.\n"
     ]
    }
   ],
   "source": [
    "\n",
    "\n",
    "def calculate_distance(coords1, coords2):\n",
    "    return geopy.distance.distance(coords1, coords2).kilometers\n",
    "\n",
    "distances = [calculate_distance(white_house_coords, embassy) for embassy in embassies]\n",
    "\n",
    "closest_embassy_index = distances.index(min(distances))\n",
    "closest_embassy_coords = embassies[closest_embassy_index]\n",
    "closest_distance = distances[closest_embassy_index]\n",
    "\n",
    "# Print results\n",
    "print(f\"The closest embassy is located at coordinates {closest_embassy_coords} which is approximately {closest_distance:.2f} k away from the White House.\")\n",
    "\n",
    "\n"
   ]
  },
  {
   "cell_type": "code",
   "execution_count": null,
   "metadata": {},
   "outputs": [],
   "source": []
  },
  {
   "cell_type": "code",
   "execution_count": 53,
   "metadata": {},
   "outputs": [
    {
     "name": "stdout",
     "output_type": "stream",
     "text": [
      "The best cafe for a morning meeting is 'Le Diplomate' located at 1601 14th Street Northwest, Washington.\n",
      "Rating: 4.6 | Distance: 1577.17 meters\n"
     ]
    }
   ],
   "source": [
    "# Search for cafés near the White House\n",
    "\n",
    "white_house_coords = (38.8976763, -77.0365298)\n",
    "\n",
    "query_result = gmaps.places_nearby( \n",
    "        location = white_house_coords, \n",
    "        radius =5000, \n",
    "        type ='cafe')\n",
    "\n",
    "cafes = query_result['results']\n",
    "\n",
    "def calculate_distance(coords1, coords2):\n",
    "    return geopy.distance.distance(coords1, coords2).meters # This calculates the distance bw coordinates\n",
    "\n",
    "# Create a list of cafes with their distance from the White House and their rating\n",
    "cafes_with_distance = []\n",
    "for cafe in cafes:\n",
    "    cafe_location = (cafe['geometry']['location']['lat'], cafe['geometry']['location']['lng'])\n",
    "    distance = calculate_distance(white_house_coords, cafe_location) \n",
    "    rating = cafe.get('rating', 0)  # Some cafes might not have a rating\n",
    "    cafes_with_distance.append({\n",
    "        'name': cafe['name'],\n",
    "        'address': cafe['vicinity'],\n",
    "        'rating': rating,\n",
    "        'distance': distance\n",
    "    })\n",
    "\n",
    "# Sort cafes by rating (descending) and then by distance (ascending)\n",
    "best_cafes = sorted(cafes_with_distance, key=lambda x: (-x['rating'], x['distance']))\n",
    "\n",
    "# Get the best-rated and closest cafe\n",
    "best_cafe = best_cafes[0]\n",
    "\n",
    "# Print the best cafe details\n",
    "print(f\"The best cafe for a morning meeting is '{best_cafe['name']}' located at {best_cafe['address']}.\")\n",
    "print(f\"Rating: {best_cafe['rating']} | Distance: {best_cafe['distance']:.2f} meters\")\n"
   ]
  },
  {
   "cell_type": "code",
   "execution_count": 47,
   "metadata": {},
   "outputs": [
    {
     "name": "stdout",
     "output_type": "stream",
     "text": [
      "Best Bar: Expat\n",
      "Address: Western Market, 2000 Pennsylvania Avenue Northwest, Washington\n",
      "Rating: 5\n",
      "Distance from White House: 1.3 km\n"
     ]
    }
   ],
   "source": [
    "whitehouse = (38.8976763, -77.0365298)\n",
    "\n",
    "places_result = gmaps.places_nearby(\n",
    "    location=whitehouse, \n",
    "    radius=500, \n",
    "    type='bar'\n",
    ")\n",
    "\n",
    "best_bar = None\n",
    "highest_rating = 0\n",
    "\n",
    "for place in places_result['results']:\n",
    "    if 'rating' in place and place['rating'] > highest_rating:\n",
    "        highest_rating = place['rating']\n",
    "        best_bar = place\n",
    "\n",
    "if best_bar:\n",
    "    bar_name = best_bar['name']\n",
    "    bar_address = best_bar['vicinity']\n",
    "    bar_rating = best_bar['rating']\n",
    "    \n",
    "    distance = gmaps.distance_matrix(whitehouse, best_bar['geometry']['location'])\n",
    "    distance_text2 = distance['rows'][0]['elements'][0]['distance']['text']\n",
    "    \n",
    "    print(f\"Best Bar: {bar_name}\")\n",
    "    print(f\"Address: {bar_address}\")\n",
    "    print(f\"Rating: {bar_rating}\")\n",
    "    print(f\"Distance from White House: {distance_text2}\")\n",
    "else:\n",
    "    print(\"No suitable bars found nearby.\")"
   ]
  },
  {
   "cell_type": "code",
   "execution_count": null,
   "metadata": {},
   "outputs": [],
   "source": []
  }
 ],
 "metadata": {
  "kernelspec": {
   "display_name": "Python 3 (ipykernel)",
   "language": "python",
   "name": "python3"
  },
  "language_info": {
   "codemirror_mode": {
    "name": "ipython",
    "version": 3
   },
   "file_extension": ".py",
   "mimetype": "text/x-python",
   "name": "python",
   "nbconvert_exporter": "python",
   "pygments_lexer": "ipython3",
   "version": "3.12.5"
  }
 },
 "nbformat": 4,
 "nbformat_minor": 4
}
