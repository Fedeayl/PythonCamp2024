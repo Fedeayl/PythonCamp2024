{
 "cells": [
  {
   "cell_type": "markdown",
   "metadata": {},
   "source": [
    "# Lab: Regular Expressions and Naive Bayes Classification"
   ]
  },
  {
   "cell_type": "markdown",
   "metadata": {},
   "source": [
    "1. Change to your working directory. Open text file of 2008 NH primary Obama speech"
   ]
  },
  {
   "cell_type": "code",
   "execution_count": 3,
   "metadata": {},
   "outputs": [],
   "source": [
    "import re\n",
    "import os\n",
    "\n",
    "os.chdir('/Users/Fede/Desktop/PhD - Courses/Python/PythonCamp2024/Day06/Lecture')\n",
    "\n",
    "with open(\"obama-nh.txt\", \"r\") as f:\n",
    "  text = f.readlines()\n",
    "    "
   ]
  },
  {
   "cell_type": "markdown",
   "metadata": {},
   "source": [
    "2. Print lines that do NOT contain 'the' using what we learned today. \n",
    "\n",
    "(Although you might think you could do something like `[l for l in obama if \"the\" not in l]`)"
   ]
  },
  {
   "cell_type": "code",
   "execution_count": 57,
   "metadata": {},
   "outputs": [
    {
     "ename": "TypeError",
     "evalue": "'int' object is not iterable",
     "output_type": "error",
     "traceback": [
      "\u001b[0;31m---------------------------------------------------------------------------\u001b[0m",
      "\u001b[0;31mTypeError\u001b[0m                                 Traceback (most recent call last)",
      "Cell \u001b[0;32mIn[57], line 7\u001b[0m\n\u001b[1;32m      4\u001b[0m \u001b[38;5;28;01mfor\u001b[39;00m line \u001b[38;5;129;01min\u001b[39;00m lines:\n\u001b[1;32m      5\u001b[0m     \u001b[38;5;66;03m# Use regular expression to check if 'the' is not in the line (case-insensitive)\u001b[39;00m\n\u001b[1;32m      6\u001b[0m     \u001b[38;5;28;01mif\u001b[39;00m \u001b[38;5;129;01mnot\u001b[39;00m re\u001b[38;5;241m.\u001b[39msearch(\u001b[38;5;124mr\u001b[39m\u001b[38;5;124m'\u001b[39m\u001b[38;5;124m\\\u001b[39m\u001b[38;5;124mb[Tt]he\u001b[39m\u001b[38;5;124m\\\u001b[39m\u001b[38;5;124mb\u001b[39m\u001b[38;5;124m'\u001b[39m, line, re\u001b[38;5;241m.\u001b[39mIGNORECASE):\n\u001b[0;32m----> 7\u001b[0m         \u001b[38;5;28mprint\u001b[39m(\u001b[38;5;28;43msum\u001b[39;49m\u001b[43m(\u001b[49m\u001b[38;5;28;43mlen\u001b[39;49m\u001b[43m(\u001b[49m\u001b[43mline\u001b[49m\u001b[38;5;241;43m.\u001b[39;49m\u001b[43mstrip\u001b[49m\u001b[43m(\u001b[49m\u001b[43m)\u001b[49m\u001b[43m)\u001b[49m\u001b[43m)\u001b[49m)\n",
      "\u001b[0;31mTypeError\u001b[0m: 'int' object is not iterable"
     ]
    }
   ],
   "source": [
    "lines =\n",
    "# Iterate through each line\n",
    "for line in lines:\n",
    "    # Use regular expression to check if 'the' is not in the line (case-insensitive)\n",
    "    if not re.search(r'\\bthe\\b', line, re.IGNORECASE):\n",
    "        print(line.strip())\n"
   ]
  },
  {
   "cell_type": "markdown",
   "metadata": {},
   "source": [
    "3. Print lines that contain a word of any length starting with `s` and ending with `e`"
   ]
  },
  {
   "cell_type": "code",
   "execution_count": 5,
   "metadata": {},
   "outputs": [
    {
     "name": "stdout",
     "output_type": "stream",
     "text": [
      "out and spoke up for change. And with your voices and your votes, you\n",
      "better, there's no problem we can't solve - no destiny we cannot\n",
      "We can stop sending our children to schools with corridors of shame and\n",
      "entrepreneurs to free this nation from the tyranny of oil and save our\n",
      "way to scare up votes, because it is not a tactic to win an election, it\n",
      "All of the candidates in this race share these goals. All have good\n",
      "ideas. And all are patriots who serve this country honorably.\n",
      "we can't, generations of Americans have responded with a simple creed\n",
      "of the little girl who goes to a crumbling school in Dillon are the same\n"
     ]
    }
   ],
   "source": [
    "for line in lines:\n",
    "    if re.search(r'\\bs\\w*e\\b', line, re.IGNORECASE):\n",
    "        print(line.strip())"
   ]
  },
  {
   "cell_type": "markdown",
   "metadata": {},
   "source": [
    "4. Naive Bayes Classification\n",
    "- Analyze the names that were wrongly predicted by our Naive Bayes classifier. \n",
    "- Identify at least one more features to extract. \n",
    "- Train the classifier again with your new feature extraction function. \n",
    "- Check whether the accuracy improved.  "
   ]
  },
  {
   "cell_type": "code",
   "execution_count": 17,
   "metadata": {},
   "outputs": [
    {
     "name": "stderr",
     "output_type": "stream",
     "text": [
      "[nltk_data] Downloading package names to /Users/Fede/nltk_data...\n",
      "[nltk_data]   Package names is already up-to-date!\n"
     ]
    }
   ],
   "source": []
  },
  {
   "cell_type": "code",
   "execution_count": 28,
   "metadata": {},
   "outputs": [
    {
     "name": "stdout",
     "output_type": "stream",
     "text": [
      "0.743546195652174\n"
     ]
    },
    {
     "name": "stderr",
     "output_type": "stream",
     "text": [
      "[nltk_data] Downloading package names to /Users/Fede/nltk_data...\n",
      "[nltk_data]   Package names is already up-to-date!\n"
     ]
    }
   ],
   "source": [
    "\n",
    "import nltk\n",
    "nltk.download('names')\n",
    "from nltk.corpus import names\n",
    "import random\n",
    "\n",
    "names = ([(name, 'male') for name in names.words('male.txt')] +\n",
    "        [(name, 'female') for name in names.words('female.txt')])\n",
    "\n",
    "random.shuffle(names)\n",
    "\n",
    "train_size = 5000\n",
    "\n",
    "train_names = names[:train_size]\n",
    "test_names = names[train_size:]\n",
    "\n",
    "def g_features1(name):\n",
    "  return {'last_letter': name[-1]}\n",
    "\n",
    "\n",
    "train_set = [(g_features1(n), g) for (n, g) in train_names]\n",
    "test_set = [(g_features1(n), g) for (n,g) in test_names]\n",
    "\n",
    "classifier = nltk.NaiveBayesClassifier.train(train_set)\n",
    "\n",
    "print(nltk.classify.accuracy(classifier, test_set))\n"
   ]
  },
  {
   "cell_type": "code",
   "execution_count": 39,
   "metadata": {},
   "outputs": [
    {
     "name": "stdout",
     "output_type": "stream",
     "text": [
      "0.7938179347826086\n"
     ]
    }
   ],
   "source": [
    "\n",
    "def g_features2(name):\n",
    "  features = {}\n",
    "  features[\"firstletter\"] = name[0].lower()\n",
    "  features[\"lastletter\"] = name[-1].lower()\n",
    "  for letter in 'abcdefghijklmnopqrstuvwxyz':\n",
    "      features[\"count(%s)\" % letter] = name.lower().count(letter)\n",
    "      features[\"has(%s)\" % letter] = (letter in name.lower())\n",
    "  return features\n",
    "\n",
    "train_set = [(g_features2(n), g) for (n,g) in train_names]\n",
    "test_set = [(g_features2(n), g) for (n,g) in test_names]\n",
    "classifier_new = nltk.NaiveBayesClassifier.train(train_set)\n",
    "print(nltk.classify.accuracy(classifier_new, test_set))"
   ]
  },
  {
   "cell_type": "code",
   "execution_count": 53,
   "metadata": {},
   "outputs": [
    {
     "name": "stdout",
     "output_type": "stream",
     "text": [
      "Lengths of misclassified male names: [5, 6, 8, 3, 6, 5, 5, 7, 5, 5, 6, 6, 7, 6, 8, 3, 7, 4, 6, 4, 5, 3, 8, 8, 5, 6, 4, 7, 3, 6, 6, 3, 7, 5, 7, 7, 9, 8, 3, 6, 7, 7, 3, 8, 5, 6, 6, 5, 8, 6, 9, 5, 4, 6, 8, 7, 5, 3, 7, 5, 5, 7, 8, 6, 5, 6, 5, 5, 8, 4, 7, 5, 8, 6, 6, 7, 7, 7, 9, 5, 5, 4, 6, 6, 6, 4, 6, 5, 7, 7, 7, 5, 7, 3, 8, 6, 8, 5, 4, 6, 4, 4, 4, 5, 4, 7, 6, 8, 7, 8, 4, 5, 7, 5, 5, 7, 4, 6, 5, 7, 4, 7, 5, 7, 6, 5, 5, 6, 5, 7, 6, 4, 5, 7, 3, 6, 6, 4, 5, 4, 8, 5, 7, 7, 6, 5, 6, 6, 6, 4, 6, 6, 6, 3, 7, 8, 4, 5, 7, 4, 7, 5, 7, 7, 8, 9, 7, 6, 5, 5, 4, 4, 7, 3, 8, 6, 8, 9, 7, 8, 4, 3, 6, 7, 7, 6, 6, 8, 4, 8, 5, 5, 6, 8, 5, 6, 5, 6, 5, 8, 4, 4, 9, 7, 4, 5, 8, 5, 5, 7, 7, 6, 5, 6, 6, 5, 6, 4, 6, 4, 5, 5, 7, 6, 6, 6, 6, 6, 7, 5, 6, 6, 8, 5, 6, 6, 4, 5, 5, 6, 8, 7, 4, 5, 6, 6, 3, 4, 5, 5, 8, 3, 4, 5, 7, 4, 6, 3, 6, 8, 6, 5, 5, 4, 5, 6, 5, 7, 6, 5, 6, 5, 7, 6, 6, 5, 5, 8, 4, 3, 9, 6, 10, 5, 3, 4, 5, 6, 9, 7, 6, 5, 6, 7, 6, 9, 4, 6, 6, 8, 7, 5, 7, 6, 4, 7, 4, 4, 6, 3, 7, 7, 6, 10, 6, 7, 9, 3, 7, 5, 7, 4, 7, 7, 6, 8, 4, 5, 5, 5, 9, 4, 6, 4, 5, 4, 5, 6, 4, 6, 6, 5, 7, 7, 6, 6, 5, 5, 4, 6, 7, 6, 4, 4, 6, 5, 6, 4, 6, 9, 6, 6, 5, 5, 7, 5, 4, 5, 6, 4, 5, 5, 5, 5, 5, 4, 6, 5, 7, 6, 6, 7, 6, 5, 4, 3, 6, 4, 6, 8, 3, 5, 5, 5, 6, 5, 7, 3, 4, 10, 9, 4, 6, 8, 6, 5, 6, 5, 9, 4, 4, 3, 5, 6, 5, 7, 10, 6, 10, 4, 8, 5, 8, 4, 8, 4, 7, 4, 6, 6, 6, 6, 4, 5, 7, 7, 5, 7, 4, 10, 9, 4, 9, 5, 3, 4, 5, 9, 5, 6, 5, 8, 5, 5, 6, 6, 6, 5, 7, 7, 5, 6, 6, 8, 6, 6, 4, 4, 5, 4, 6, 4, 7, 4, 9, 5, 6, 5, 4, 7, 6, 6, 4, 6, 7, 6, 5, 8, 6, 6, 6, 7, 5, 9, 8, 6, 8, 2, 6, 6, 6, 4, 3, 5, 6, 5, 5, 6, 6, 6, 8, 4, 4, 7, 7, 8, 4, 7, 6, 9, 8, 3, 5, 6, 5, 7, 5, 8, 6, 4, 3, 4, 3, 3, 10, 6, 7, 7, 4, 5, 6, 7, 4, 4, 4, 8, 6, 5, 5, 7, 7, 3, 6, 9, 4, 6, 6, 5, 8, 4, 6, 8, 6, 6, 7, 7, 4, 7, 4, 5, 6, 6, 4, 7, 5, 6, 4, 7, 6, 5, 5, 6, 8, 7, 5, 5, 7, 6, 6, 8, 4, 4, 6, 4, 5, 8, 8, 7, 4, 5, 5, 5, 7, 5, 6, 5, 6, 6, 6, 4, 5, 5, 8, 6, 5, 4, 6, 4, 6, 8, 8, 6, 5, 5, 5, 5, 3, 6, 6, 3, 6, 4, 7, 6, 7, 5, 4, 4, 7, 5, 7, 7, 6, 6, 7, 5, 7, 5, 7, 4, 4, 4, 6, 4, 8, 6, 4, 8, 8, 6, 6, 6, 5, 3, 7, 9, 10, 9, 8, 4, 8, 7, 4, 5, 3, 6, 6, 9, 4, 7, 5, 5, 4, 5, 4, 6, 4, 5, 5, 7, 6, 6, 7, 5, 5, 7, 7, 6, 5, 6, 8, 6, 8, 7, 6, 4, 3, 7, 4, 4, 4, 7, 3, 3, 9, 7, 7, 3, 7, 9, 3, 8, 2, 6, 8, 3, 4, 6, 8, 7, 7, 7, 5, 7, 6, 4, 7, 10, 2, 4, 6, 5, 5, 6, 5, 12, 4, 6, 8, 10, 5, 6, 5, 5, 6, 7, 5, 6, 7, 5, 5, 5, 7, 5, 4, 6, 5, 6, 6, 3, 8, 5, 6, 5, 8, 5, 9, 7, 3, 7, 5, 6, 7, 6, 8, 6, 6, 5, 6, 5, 5, 5, 4, 8, 8, 6, 5, 8, 9, 5, 5, 5, 6, 8, 6, 7, 4, 7, 6, 6, 7, 6, 8, 9, 4, 5, 4, 4, 6, 5, 8, 3, 4, 8, 4, 4, 6, 4, 6, 4, 6, 5, 7, 7, 6, 6, 7, 9, 6, 5, 4, 9, 7, 7, 5, 8, 8, 5, 8, 5, 6, 7, 6, 8, 7, 6, 5, 6, 3, 5, 9, 5, 5, 3, 8, 6, 6, 4, 7, 4, 6, 8, 5, 5, 6, 6, 5, 5, 8, 7, 6, 5, 6, 4, 8, 8, 7, 5, 5, 6, 8, 6, 7, 5, 5, 6, 5, 6, 6, 3, 6, 6, 7, 6, 6, 7, 5, 6, 7, 5, 5, 6, 8, 6, 6, 5, 5, 6, 6, 6, 4, 6, 5, 6, 6, 6, 6, 5, 7, 8, 7, 6, 5, 6, 6, 5, 5, 5, 6, 8, 6, 7, 4, 5, 3, 12, 5, 9, 4, 8, 8, 7, 8, 6, 10, 5, 4, 5, 6, 6, 6, 7, 4, 7, 7, 5, 6, 6, 5, 5, 7, 6, 8, 9, 11, 10, 5, 10, 6, 6, 7, 7, 9, 5, 8, 5, 9, 6, 5, 5, 6, 3, 5, 7, 6, 5, 5, 5, 7, 6, 6, 6, 8, 4, 4, 6, 6, 8, 6, 5, 6, 6, 6, 6, 7, 3, 8, 2, 7, 8, 4, 3, 7, 8, 6, 5, 8, 6, 6, 6, 5, 6, 5, 6, 5, 7, 3, 8, 6, 4, 7, 6, 7, 7, 8, 7, 5, 7, 7, 5, 7, 7, 7, 6, 8, 6, 5, 3, 7, 6, 4, 5, 6, 7, 6, 7, 5, 4, 4, 6, 7, 4, 9, 6, 6, 5, 5, 5, 4, 3, 7, 6, 5, 6, 5, 7, 7, 5, 5, 9, 9, 3, 3, 7, 6, 6, 5, 4, 6, 6, 6, 8, 5, 9, 8, 7, 5, 5, 6, 4, 6]\n",
      "Lengths of misclassified female names: []\n",
      "Average length of misclassified male names: 5.86\n",
      "Average length of misclassified female names: 0.00\n"
     ]
    }
   ],
   "source": [
    "errors = []\n",
    "for (name, label) in test_names:\n",
    "  guess = classifier.classify(g_features2(name))\n",
    "  if guess != label:\n",
    "    prob = classifier.prob_classify(g_features2(name)).prob(guess)\n",
    "    errors.append((label, guess, prob, name))\n",
    "\n",
    "# Initialize lists to hold the lengths of misclassified names by gender\n",
    "misclassified_male_lengths = []\n",
    "misclassified_female_lengths = []\n",
    "\n",
    "# Iterate through the errors to classify and count the lengths\n",
    "for (true_label, predicted_label, _, name) in errors:  # Use `_` to ignore the score\n",
    "    name_length = len(name)\n",
    "    \n",
    "    if true_label == \"male\":\n",
    "        misclassified_male_lengths.append(name_length)\n",
    "    elif true_label == \"female\":\n",
    "        misclassified_female_lengths.append(name_length)\n",
    "\n",
    "# Now, let's print the results or further analyze them\n",
    "print(\"Lengths of misclassified male names:\", misclassified_male_lengths)\n",
    "print(\"Lengths of misclassified female names:\", misclassified_female_lengths)\n",
    "\n",
    "# You can also calculate the average length, min, max, etc.\n",
    "average_male_length = sum(misclassified_male_lengths) / len(misclassified_male_lengths) if misclassified_male_lengths else 0\n",
    "average_female_length = sum(misclassified_female_lengths) / len(misclassified_female_lengths) if misclassified_female_lengths else 0\n",
    "\n",
    "print(f\"Average length of misclassified male names: {average_male_length:.2f}\")\n",
    "print(f\"Average length of misclassified female names: {average_female_length:.2f}\")\n",
    "\n"
   ]
  },
  {
   "cell_type": "code",
   "execution_count": 54,
   "metadata": {},
   "outputs": [
    {
     "name": "stdout",
     "output_type": "stream",
     "text": [
      "0.7921195652173914\n"
     ]
    }
   ],
   "source": [
    "# YOUR CODE HERE (Pre-requisite code need to be executed.)\n",
    "def g_features3(name):\n",
    "    features = {}\n",
    "    features[\"firstletter\"] = name[0].lower()\n",
    "    features[\"lastletter\"] = name[-1].lower()\n",
    "    features[\"name_length\"] = len(name)\n",
    "    for letter in 'abcdefghijklmnopqrstuvwxyz':\n",
    "        features[\"count(%s)\" % letter] = name.lower().count(letter)\n",
    "        features[\"has(%s)\" % letter] = (letter in name.lower())\n",
    "        \n",
    "    return features\n",
    "\n",
    "train_set = [(g_features3(n), g) for (n,g) in train_names]\n",
    "test_set = [(g_features3(n), g) for (n,g) in test_names]\n",
    "classifier_new = nltk.NaiveBayesClassifier.train(train_set)\n",
    "print(nltk.classify.accuracy(classifier_new, test_set))"
   ]
  },
  {
   "cell_type": "code",
   "execution_count": null,
   "metadata": {},
   "outputs": [],
   "source": []
  }
 ],
 "metadata": {
  "kernelspec": {
   "display_name": "Python 3 (ipykernel)",
   "language": "python",
   "name": "python3"
  },
  "language_info": {
   "codemirror_mode": {
    "name": "ipython",
    "version": 3
   },
   "file_extension": ".py",
   "mimetype": "text/x-python",
   "name": "python",
   "nbconvert_exporter": "python",
   "pygments_lexer": "ipython3",
   "version": "3.12.5"
  }
 },
 "nbformat": 4,
 "nbformat_minor": 4
}
