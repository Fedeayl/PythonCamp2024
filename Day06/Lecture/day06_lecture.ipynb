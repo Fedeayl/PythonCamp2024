{
 "cells": [
  {
   "cell_type": "markdown",
   "metadata": {
    "editable": true,
    "slideshow": {
     "slide_type": "slide"
    },
    "tags": []
   },
   "source": [
    "# Regular Expressions and Naive Bayes Classification"
   ]
  },
  {
   "cell_type": "markdown",
   "metadata": {
    "editable": true,
    "slideshow": {
     "slide_type": "slide"
    },
    "tags": []
   },
   "source": [
    "### 1. Regular Expressions"
   ]
  },
  {
   "cell_type": "markdown",
   "metadata": {
    "editable": true,
    "slideshow": {
     "slide_type": "fragment"
    },
    "tags": []
   },
   "source": [
    "- Regular expressions are useful for extracting information from text.\n",
    "- Set of “rules” to identify or match a particular sequence of characters.\n",
    "- Most text in utf-8 or utf-16: letters, digits, punctuation and symbols\n",
    "- In Python, mainly through library `re`"
   ]
  },
  {
   "cell_type": "code",
   "execution_count": 1,
   "metadata": {
    "editable": true,
    "slideshow": {
     "slide_type": "fragment"
    },
    "tags": []
   },
   "outputs": [],
   "source": [
    "# Set Directory\n",
    "import os\n",
    "# os.getcwd()\n",
    "os.chdir('/Users/Fede/Desktop/PhD - Courses/Python/PythonCamp2024/Day06/Lecture')"
   ]
  },
  {
   "cell_type": "code",
   "execution_count": 2,
   "metadata": {
    "editable": true,
    "slideshow": {
     "slide_type": "fragment"
    },
    "tags": []
   },
   "outputs": [],
   "source": [
    "# For regular expressions\n",
    "import re "
   ]
  },
  {
   "cell_type": "markdown",
   "metadata": {
    "editable": true,
    "slideshow": {
     "slide_type": "subslide"
    },
    "tags": []
   },
   "source": [
    "* As a demonstration, we will work with Obama's 2008 concession speech from New Hampshire primary.\n",
    "* Read in the sample text, and remember:\n",
    "    * `readlines` makes a list of each line break in file"
   ]
  },
  {
   "cell_type": "code",
   "execution_count": 3,
   "metadata": {
    "editable": true,
    "slideshow": {
     "slide_type": "fragment"
    },
    "tags": []
   },
   "outputs": [],
   "source": [
    "with open(\"obama-nh.txt\", \"r\") as f:\n",
    "  text = f.readlines()"
   ]
  },
  {
   "cell_type": "markdown",
   "metadata": {
    "editable": true,
    "slideshow": {
     "slide_type": "fragment"
    },
    "tags": []
   },
   "source": [
    "* Let's take a look at how this file is structured "
   ]
  },
  {
   "cell_type": "code",
   "execution_count": 4,
   "metadata": {
    "editable": true,
    "slideshow": {
     "slide_type": "fragment"
    },
    "tags": []
   },
   "outputs": [
    {
     "name": "stdout",
     "output_type": "stream",
     "text": [
      "I want to congratulate Senator Clinton on a hard-fought victory here in\n",
      "\n",
      "New Hampshire.\n",
      "\n"
     ]
    }
   ],
   "source": [
    "print(text[0])\n",
    "print(text[1])\n",
    "# print(text[2])\n",
    "\n",
    "# print(text[0:3])"
   ]
  },
  {
   "cell_type": "markdown",
   "metadata": {
    "editable": true,
    "slideshow": {
     "slide_type": "subslide"
    },
    "tags": []
   },
   "source": [
    "* We can also join all lines into one string"
   ]
  },
  {
   "cell_type": "code",
   "execution_count": 5,
   "metadata": {
    "editable": true,
    "slideshow": {
     "slide_type": "fragment"
    },
    "tags": []
   },
   "outputs": [],
   "source": [
    "alltext = ''.join(text) "
   ]
  },
  {
   "cell_type": "markdown",
   "metadata": {
    "editable": true,
    "slideshow": {
     "slide_type": "fragment"
    },
    "tags": []
   },
   "source": [
    "* What could we have done at the outset instead?"
   ]
  },
  {
   "cell_type": "code",
   "execution_count": 6,
   "metadata": {
    "editable": true,
    "slideshow": {
     "slide_type": "fragment"
    },
    "tags": []
   },
   "outputs": [],
   "source": [
    "with open(\"obama-nh.txt\", \"r\") as f:\n",
    "  alltext = f.read()"
   ]
  },
  {
   "cell_type": "markdown",
   "metadata": {
    "editable": true,
    "slideshow": {
     "slide_type": "slide"
    },
    "tags": []
   },
   "source": [
    "#### 1.1 Useful functions from the `re` module:"
   ]
  },
  {
   "cell_type": "markdown",
   "metadata": {
    "editable": true,
    "slideshow": {
     "slide_type": "fragment"
    },
    "tags": []
   },
   "source": [
    "- `re.findall`: Return all non-overlapping matches of pattern \n",
    "            in string, as a list of strings\n",
    "- `re.split`: Split string by the occurrences of pattern.\n",
    "- `re.match`: Search the beginning of the string for a\n",
    "          regular expression and return the first occurrence.\n",
    "          Returns a match object.\n",
    "- `re.search`: Like re.match, but will check all lines of the input string.\n",
    "- `re.compile`: Compile a regular expression pattern into a regular \n",
    "            expression object, which can be used for matching using\n",
    "            match(), search() and other methods\n",
    "\n",
    "Source: https://docs.python.org/3/library/re.html"
   ]
  },
  {
   "cell_type": "markdown",
   "metadata": {
    "editable": true,
    "slideshow": {
     "slide_type": "subslide"
    },
    "tags": []
   },
   "source": [
    "Let's run some examples!"
   ]
  },
  {
   "cell_type": "markdown",
   "metadata": {
    "editable": true,
    "slideshow": {
     "slide_type": "fragment"
    },
    "tags": []
   },
   "source": [
    "* Both lines find all instances of \"Yes we can\""
   ]
  },
  {
   "cell_type": "code",
   "execution_count": 12,
   "metadata": {
    "editable": true,
    "slideshow": {
     "slide_type": "fragment"
    },
    "tags": []
   },
   "outputs": [
    {
     "data": {
      "text/plain": [
       "['Yes we can',\n",
       " 'Yes we can',\n",
       " 'Yes we can',\n",
       " 'Yes we can',\n",
       " 'Yes we can',\n",
       " 'Yes we can',\n",
       " 'Yes we can',\n",
       " 'Yes we can',\n",
       " 'Yes we can']"
      ]
     },
     "execution_count": 12,
     "metadata": {},
     "output_type": "execute_result"
    }
   ],
   "source": [
    "# re.findall(pattern = \"Yes we can\", string= alltext) \n",
    "re.findall(\"Yes we can\", alltext) "
   ]
  },
  {
   "cell_type": "markdown",
   "metadata": {
    "editable": true,
    "slideshow": {
     "slide_type": "subslide"
    },
    "tags": []
   },
   "source": [
    "* Here we find all instances of \"American\""
   ]
  },
  {
   "cell_type": "code",
   "execution_count": 13,
   "metadata": {
    "editable": true,
    "slideshow": {
     "slide_type": "fragment"
    },
    "tags": []
   },
   "outputs": [
    {
     "data": {
      "text/plain": [
       "['American', 'American', 'American', 'American']"
      ]
     },
     "execution_count": 13,
     "metadata": {},
     "output_type": "execute_result"
    }
   ],
   "source": [
    "re.findall(\"American\", alltext)"
   ]
  },
  {
   "cell_type": "markdown",
   "metadata": {
    "editable": true,
    "slideshow": {
     "slide_type": "fragment"
    },
    "tags": []
   },
   "source": [
    "* ...And of all breaklines"
   ]
  },
  {
   "cell_type": "code",
   "execution_count": 27,
   "metadata": {
    "editable": true,
    "slideshow": {
     "slide_type": "fragment"
    },
    "tags": []
   },
   "outputs": [
    {
     "data": {
      "text/plain": [
       "['\\n', '\\n', '\\n', '\\n']"
      ]
     },
     "execution_count": 27,
     "metadata": {},
     "output_type": "execute_result"
    }
   ],
   "source": [
    "re.findall(\"\\n\", alltext)[0:4] #...but only print 4"
   ]
  },
  {
   "cell_type": "markdown",
   "metadata": {
    "editable": true,
    "slideshow": {
     "slide_type": "subslide"
    },
    "tags": []
   },
   "source": [
    "* Example of `re.split()`"
   ]
  },
  {
   "cell_type": "code",
   "execution_count": 31,
   "metadata": {
    "editable": true,
    "slideshow": {
     "slide_type": "fragment"
    },
    "tags": []
   },
   "outputs": [
    {
     "data": {
      "text/plain": [
       "[\" in\\nspirit - who have never before participated in politics - turn out in\\nnumbers we've never seen because they know in their hearts that this\\ntime must be different.\\n\\nThere is something happening when people vote not just for the party\\nthey belong to but the hopes they hold in common - that whether we are\\nrich or poor; black or white; Latino or Asian; whether we hail from Iowa\\nor New Hampshire, Nevada or South Carolina, we are ready to take this\\ncountry in a fundamentally new direction. That is what's happening in\\nAmerica right now. Change is what's happening in America.\\n\\nYou can be the new majority who can lead this nation out of a long\\npolitical darkness - Democrats, Independents \",\n",
       " ' Republicans who are\\ntired of the division ',\n",
       " ' distraction that has clouded Washington; who\\nknow that we can disagree without being disagreeable; who underst',\n",
       " '\\nthat if we mobilize our voices to challenge the money ',\n",
       " \" influence\\nthat's stood in our way \"]"
      ]
     },
     "execution_count": 31,
     "metadata": {},
     "output_type": "execute_result"
    }
   ],
   "source": [
    "re.split(\"and\", alltext)[7:12]"
   ]
  },
  {
   "cell_type": "markdown",
   "metadata": {
    "editable": true,
    "slideshow": {
     "slide_type": "subslide"
    },
    "tags": []
   },
   "source": [
    "#### 1.2 Backslash Characters"
   ]
  },
  {
   "cell_type": "markdown",
   "metadata": {
    "editable": true,
    "slideshow": {
     "slide_type": "fragment"
    },
    "tags": []
   },
   "source": [
    "* Regular expressions use the backslash character `\\` to indicte special forms, or to allow special characters to be used without invoking their special meaning. \n",
    "* This collides with Python's usage of the same character for the same purpose in string literals "
   ]
  },
  {
   "cell_type": "markdown",
   "metadata": {
    "editable": true,
    "slideshow": {
     "slide_type": "subslide"
    },
    "tags": []
   },
   "source": [
    "* How do we find the literal character `\\` in our file?\n",
    "* First 2 will give errors"
   ]
  },
  {
   "cell_type": "code",
   "execution_count": 36,
   "metadata": {
    "editable": true,
    "slideshow": {
     "slide_type": "fragment"
    },
    "tags": []
   },
   "outputs": [
    {
     "data": {
      "text/plain": [
       "['\\\\']"
      ]
     },
     "execution_count": 36,
     "metadata": {},
     "output_type": "execute_result"
    }
   ],
   "source": [
    "# re.findall(\"\\\", alltext)\n",
    "# re.findall(\"\\\\\", alltext)\n",
    "re.findall(\"\\\\\\\\\", alltext)"
   ]
  },
  {
   "cell_type": "markdown",
   "metadata": {
    "editable": true,
    "slideshow": {
     "slide_type": "subslide"
    },
    "tags": []
   },
   "source": [
    "##### Instead of typing 4 backslashes every time we need to find one..."
   ]
  },
  {
   "cell_type": "markdown",
   "metadata": {
    "editable": true,
    "slideshow": {
     "slide_type": "fragment"
    },
    "tags": []
   },
   "source": [
    "* Another way to address this is to use Python's *raw string notation* for regular expression patterns.\n",
    "* This looks like this`r\"\"`\n",
    "* Backslashes are not handled in any special way in a string prefixed with `r`.  "
   ]
  },
  {
   "cell_type": "markdown",
   "metadata": {
    "editable": true,
    "slideshow": {
     "slide_type": "fragment"
    },
    "tags": []
   },
   "source": [
    "##### So equivalently:"
   ]
  },
  {
   "cell_type": "code",
   "execution_count": 40,
   "metadata": {
    "editable": true,
    "slideshow": {
     "slide_type": "fragment"
    },
    "tags": []
   },
   "outputs": [
    {
     "data": {
      "text/plain": [
       "['\\\\']"
      ]
     },
     "execution_count": 40,
     "metadata": {},
     "output_type": "execute_result"
    }
   ],
   "source": [
    "re.findall(r\"\\\\\", alltext)"
   ]
  },
  {
   "cell_type": "markdown",
   "metadata": {
    "editable": true,
    "slideshow": {
     "slide_type": "subslide"
    },
    "tags": []
   },
   "source": [
    "##### We can also see it in action here:"
   ]
  },
  {
   "cell_type": "markdown",
   "metadata": {
    "editable": true,
    "slideshow": {
     "slide_type": "fragment"
    },
    "tags": []
   },
   "source": [
    "* Prints an actual linebreak"
   ]
  },
  {
   "cell_type": "code",
   "execution_count": 39,
   "metadata": {
    "editable": true,
    "slideshow": {
     "slide_type": "fragment"
    },
    "tags": []
   },
   "outputs": [
    {
     "name": "stdout",
     "output_type": "stream",
     "text": [
      "\n",
      "\n"
     ]
    }
   ],
   "source": [
    "print(\"\\n\")"
   ]
  },
  {
   "cell_type": "markdown",
   "metadata": {
    "editable": true,
    "slideshow": {
     "slide_type": "fragment"
    },
    "tags": []
   },
   "source": [
    "* Prints the character \"\\n\""
   ]
  },
  {
   "cell_type": "code",
   "execution_count": 38,
   "metadata": {
    "editable": true,
    "slideshow": {
     "slide_type": "fragment"
    },
    "tags": []
   },
   "outputs": [
    {
     "name": "stdout",
     "output_type": "stream",
     "text": [
      "\\n\n"
     ]
    }
   ],
   "source": [
    "print(r\"\\n\")"
   ]
  },
  {
   "cell_type": "markdown",
   "metadata": {
    "editable": true,
    "slideshow": {
     "slide_type": "fragment"
    },
    "tags": []
   },
   "source": [
    "* Also prints the character \"\\n\""
   ]
  },
  {
   "cell_type": "code",
   "execution_count": 37,
   "metadata": {
    "editable": true,
    "slideshow": {
     "slide_type": "fragment"
    },
    "tags": []
   },
   "outputs": [
    {
     "name": "stdout",
     "output_type": "stream",
     "text": [
      "\\n\n"
     ]
    }
   ],
   "source": [
    "print(\"\\\\n\")"
   ]
  },
  {
   "cell_type": "markdown",
   "metadata": {
    "editable": true,
    "jp-MarkdownHeadingCollapsed": true,
    "slideshow": {
     "slide_type": "slide"
    },
    "tags": []
   },
   "source": [
    "#### 1.3 Basic special characters"
   ]
  },
  {
   "cell_type": "markdown",
   "metadata": {
    "editable": true,
    "slideshow": {
     "slide_type": "fragment"
    },
    "tags": []
   },
   "source": [
    "* `\\d`: any decimal digit, equivalent to [0-9]"
   ]
  },
  {
   "cell_type": "code",
   "execution_count": 42,
   "metadata": {
    "editable": true,
    "slideshow": {
     "slide_type": "fragment"
    },
    "tags": []
   },
   "outputs": [
    {
     "data": {
      "text/plain": [
       "['9', '1', '1']"
      ]
     },
     "execution_count": 42,
     "metadata": {},
     "output_type": "execute_result"
    }
   ],
   "source": [
    "re.findall(r\"\\d\", alltext) "
   ]
  },
  {
   "cell_type": "markdown",
   "metadata": {
    "editable": true,
    "slideshow": {
     "slide_type": "fragment"
    },
    "tags": []
   },
   "source": [
    "* `\\D`: any character that is NOT a decimal digit, equivalent to ^[0-9]"
   ]
  },
  {
   "cell_type": "code",
   "execution_count": 45,
   "metadata": {
    "editable": true,
    "slideshow": {
     "slide_type": "fragment"
    },
    "tags": []
   },
   "outputs": [],
   "source": [
    "# re.findall(r\"\\D\", alltext) "
   ]
  },
  {
   "cell_type": "markdown",
   "metadata": {
    "editable": true,
    "slideshow": {
     "slide_type": "subslide"
    },
    "tags": []
   },
   "source": [
    "* `[]` can be used to indicate *a set* of characters\n",
    "* Line below returns all instances of *each* of the characters in `[]`"
   ]
  },
  {
   "cell_type": "code",
   "execution_count": 54,
   "metadata": {
    "editable": true,
    "slideshow": {
     "slide_type": "fragment"
    },
    "tags": []
   },
   "outputs": [
    {
     "data": {
      "text/plain": [
       "['a', 'r', 'a', 'a', 'a', 'r', 'a', 'a', 'r', 'r']"
      ]
     },
     "execution_count": 54,
     "metadata": {},
     "output_type": "execute_result"
    }
   ],
   "source": [
    "re.findall(\"[ar]\", alltext)[0:10] "
   ]
  },
  {
   "cell_type": "markdown",
   "metadata": {
    "editable": true,
    "slideshow": {
     "slide_type": "fragment"
    },
    "tags": []
   },
   "source": [
    "* All instances of the form \"char1 to char2\" in `[char1-char2]`"
   ]
  },
  {
   "cell_type": "code",
   "execution_count": 57,
   "metadata": {
    "editable": true,
    "slideshow": {
     "slide_type": "fragment"
    },
    "tags": []
   },
   "outputs": [
    {
     "data": {
      "text/plain": [
       "['a', 'c', 'a', 'a', 'a', 'a', 'a', 'd', 'c', 'a']"
      ]
     },
     "execution_count": 57,
     "metadata": {},
     "output_type": "execute_result"
    }
   ],
   "source": [
    "re.findall(\"[a-d]\", alltext)[0:10] "
   ]
  },
  {
   "cell_type": "markdown",
   "metadata": {
    "editable": true,
    "slideshow": {
     "slide_type": "subslide"
    },
    "tags": []
   },
   "source": [
    "* Returns all characters, `^`: *except* for those of the form \"char 1 to char 2\" in [^char1-char2]"
   ]
  },
  {
   "cell_type": "code",
   "execution_count": 59,
   "metadata": {
    "editable": true,
    "slideshow": {
     "slide_type": "fragment"
    },
    "tags": []
   },
   "outputs": [
    {
     "data": {
      "text/plain": [
       "['I',\n",
       " ' ',\n",
       " ' ',\n",
       " ' ',\n",
       " ' ',\n",
       " 'S',\n",
       " ' ',\n",
       " 'C',\n",
       " ' ',\n",
       " ' ',\n",
       " ' ',\n",
       " '-',\n",
       " ' ',\n",
       " ' ',\n",
       " ' ',\n",
       " '\\n',\n",
       " 'N',\n",
       " ' ',\n",
       " 'H',\n",
       " '.']"
      ]
     },
     "execution_count": 59,
     "metadata": {},
     "output_type": "execute_result"
    }
   ],
   "source": [
    "re.findall(\"[^a-z]\", alltext)[0:20] "
   ]
  },
  {
   "cell_type": "markdown",
   "metadata": {
    "editable": true,
    "slideshow": {
     "slide_type": "subslide"
    },
    "tags": []
   },
   "source": [
    "* All characters and digits (alphanumeric)"
   ]
  },
  {
   "cell_type": "code",
   "execution_count": 63,
   "metadata": {
    "editable": true,
    "slideshow": {
     "slide_type": "fragment"
    },
    "tags": []
   },
   "outputs": [
    {
     "data": {
      "text/plain": [
       "['I',\n",
       " 'w',\n",
       " 'a',\n",
       " 'n',\n",
       " 't',\n",
       " 't',\n",
       " 'o',\n",
       " 'c',\n",
       " 'o',\n",
       " 'n',\n",
       " 'g',\n",
       " 'r',\n",
       " 'a',\n",
       " 't',\n",
       " 'u',\n",
       " 'l',\n",
       " 'a',\n",
       " 't',\n",
       " 'e']"
      ]
     },
     "execution_count": 63,
     "metadata": {},
     "output_type": "execute_result"
    }
   ],
   "source": [
    "re.findall(\"[a-zA-Z0-9]\", alltext)[0:19]"
   ]
  },
  {
   "cell_type": "markdown",
   "metadata": {
    "editable": true,
    "slideshow": {
     "slide_type": "subslide"
    },
    "tags": []
   },
   "source": [
    "* `\\w`: Any alphanumeric, one word character"
   ]
  },
  {
   "cell_type": "code",
   "execution_count": 66,
   "metadata": {
    "editable": true,
    "slideshow": {
     "slide_type": "fragment"
    },
    "tags": []
   },
   "outputs": [
    {
     "data": {
      "text/plain": [
       "['I',\n",
       " 'w',\n",
       " 'a',\n",
       " 'n',\n",
       " 't',\n",
       " 't',\n",
       " 'o',\n",
       " 'c',\n",
       " 'o',\n",
       " 'n',\n",
       " 'g',\n",
       " 'r',\n",
       " 'a',\n",
       " 't',\n",
       " 'u',\n",
       " 'l',\n",
       " 'a',\n",
       " 't',\n",
       " 'e']"
      ]
     },
     "execution_count": 66,
     "metadata": {},
     "output_type": "execute_result"
    }
   ],
   "source": [
    "re.findall(r\"\\w\", alltext)[0:19] # same as above"
   ]
  },
  {
   "cell_type": "markdown",
   "metadata": {
    "editable": true,
    "slideshow": {
     "slide_type": "subslide"
    },
    "tags": []
   },
   "source": [
    "*  `\\W`: non-alphanumeric, the inverse of `\\w`"
   ]
  },
  {
   "cell_type": "code",
   "execution_count": 69,
   "metadata": {
    "editable": true,
    "slideshow": {
     "slide_type": "fragment"
    },
    "tags": []
   },
   "outputs": [
    {
     "data": {
      "text/plain": [
       "[' ', ' ', ' ', ' ', ' ', ' ', ' ', ' ', '-', ' ', ' ', ' ', '\\n', ' ', '.']"
      ]
     },
     "execution_count": 69,
     "metadata": {},
     "output_type": "execute_result"
    }
   ],
   "source": [
    "re.findall(r\"\\W\", alltext)[0:15] # same as re.findall(r\"[^a-zA-Z0-9]\", alltext)"
   ]
  },
  {
   "cell_type": "markdown",
   "metadata": {
    "editable": true,
    "slideshow": {
     "slide_type": "fragment"
    },
    "tags": []
   },
   "source": [
    "* `\\s`: whitespace"
   ]
  },
  {
   "cell_type": "code",
   "execution_count": 72,
   "metadata": {
    "editable": true,
    "slideshow": {
     "slide_type": "fragment"
    },
    "tags": []
   },
   "outputs": [
    {
     "data": {
      "text/plain": [
       "[' ', ' ', ' ', ' ', ' ']"
      ]
     },
     "execution_count": 72,
     "metadata": {},
     "output_type": "execute_result"
    }
   ],
   "source": [
    "re.findall(r\"\\s\", alltext)[0:5]"
   ]
  },
  {
   "cell_type": "markdown",
   "metadata": {
    "editable": true,
    "slideshow": {
     "slide_type": "fragment"
    },
    "tags": []
   },
   "source": [
    "* `\\S`: *non*-whitespace characters"
   ]
  },
  {
   "cell_type": "code",
   "execution_count": 208,
   "metadata": {
    "editable": true,
    "slideshow": {
     "slide_type": "fragment"
    },
    "tags": []
   },
   "outputs": [
    {
     "data": {
      "text/plain": [
       "['I', 'w', 'a', 'n', 't', 't', 'o']"
      ]
     },
     "execution_count": 208,
     "metadata": {},
     "output_type": "execute_result"
    }
   ],
   "source": [
    "re.findall(r\"\\S\", alltext)[0:7]"
   ]
  },
  {
   "cell_type": "markdown",
   "metadata": {
    "editable": true,
    "slideshow": {
     "slide_type": "subslide"
    },
    "tags": []
   },
   "source": [
    "* `.` any character (include white spaces, except a newline)"
   ]
  },
  {
   "cell_type": "code",
   "execution_count": 79,
   "metadata": {
    "editable": true,
    "scrolled": true,
    "slideshow": {
     "slide_type": "fragment"
    },
    "tags": []
   },
   "outputs": [
    {
     "data": {
      "text/plain": [
       "['I', ' ', 'w', 'a', 'n', 't', ' ', 't', 'o', ' ']"
      ]
     },
     "execution_count": 79,
     "metadata": {},
     "output_type": "execute_result"
    }
   ],
   "source": [
    "re.findall(\".\", alltext)[0:10]"
   ]
  },
  {
   "cell_type": "markdown",
   "metadata": {
    "editable": true,
    "slideshow": {
     "slide_type": "fragment"
    },
    "tags": []
   },
   "source": [
    " * `\\` is an escape character (`.` has a special use)"
   ]
  },
  {
   "cell_type": "code",
   "execution_count": 82,
   "metadata": {
    "editable": true,
    "slideshow": {
     "slide_type": "fragment"
    },
    "tags": []
   },
   "outputs": [
    {
     "data": {
      "text/plain": [
       "['.', '.', '.', '.', '.', '.', '.', '.', '.', '.']"
      ]
     },
     "execution_count": 82,
     "metadata": {},
     "output_type": "execute_result"
    }
   ],
   "source": [
    "re.findall(r\"\\.\", alltext)[0:10]"
   ]
  },
  {
   "cell_type": "markdown",
   "metadata": {
    "editable": true,
    "slideshow": {
     "slide_type": "subslide"
    },
    "tags": []
   },
   "source": [
    "* `?`: Makes the preceding expression optional; match 0 or 1 repetitions of the preceding expression"
   ]
  },
  {
   "cell_type": "code",
   "execution_count": 84,
   "metadata": {
    "editable": true,
    "slideshow": {
     "slide_type": "fragment"
    },
    "tags": []
   },
   "outputs": [
    {
     "data": {
      "text/plain": [
       "['A', 'A', 'Am', 'Am', 'A']"
      ]
     },
     "execution_count": 84,
     "metadata": {},
     "output_type": "execute_result"
    }
   ],
   "source": [
    "re.findall(\"Am?\", alltext)[0:5] # This would match A or Am where m is optional"
   ]
  },
  {
   "cell_type": "markdown",
   "metadata": {
    "editable": true,
    "slideshow": {
     "slide_type": "fragment"
    },
    "tags": []
   },
   "source": [
    "* `+`: match 1 or more repetitions of the preceding expression"
   ]
  },
  {
   "cell_type": "code",
   "execution_count": 88,
   "metadata": {
    "editable": true,
    "slideshow": {
     "slide_type": "fragment"
    },
    "tags": []
   },
   "outputs": [
    {
     "data": {
      "text/plain": [
       "['9', '11']"
      ]
     },
     "execution_count": 88,
     "metadata": {},
     "output_type": "execute_result"
    }
   ],
   "source": [
    "re.findall(r\"\\d+\", alltext)\n",
    "# re.findall(\"am+\", alltext)"
   ]
  },
  {
   "cell_type": "markdown",
   "metadata": {
    "editable": true,
    "slideshow": {
     "slide_type": "fragment"
    },
    "tags": []
   },
   "source": [
    "* `*`: match 0 or more repetitions of the preceding expression"
   ]
  },
  {
   "cell_type": "code",
   "execution_count": 90,
   "metadata": {
    "editable": true,
    "slideshow": {
     "slide_type": "fragment"
    },
    "tags": []
   },
   "outputs": [
    {
     "data": {
      "text/plain": [
       "['a', 'a', 'a', 'a', 'a', 'a', 'am', 'a']"
      ]
     },
     "execution_count": 90,
     "metadata": {},
     "output_type": "execute_result"
    }
   ],
   "source": [
    "re.findall(\"am*\", alltext)[0:8] # match a, am, or a followed by any number of m's "
   ]
  },
  {
   "cell_type": "markdown",
   "metadata": {
    "editable": true,
    "slideshow": {
     "slide_type": "subslide"
    },
    "tags": []
   },
   "source": [
    "* Get any word that starts with America"
   ]
  },
  {
   "cell_type": "code",
   "execution_count": 91,
   "metadata": {
    "editable": true,
    "slideshow": {
     "slide_type": "fragment"
    },
    "tags": []
   },
   "outputs": [
    {
     "data": {
      "text/plain": [
       "['America',\n",
       " 'Americans',\n",
       " 'America',\n",
       " 'America',\n",
       " 'American',\n",
       " 'Americans',\n",
       " 'America',\n",
       " 'America',\n",
       " 'Americans',\n",
       " 'America',\n",
       " 'America']"
      ]
     },
     "execution_count": 91,
     "metadata": {},
     "output_type": "execute_result"
    }
   ],
   "source": [
    "re.findall(r\"America[a-z]*\", alltext) "
   ]
  },
  {
   "cell_type": "markdown",
   "metadata": {
    "editable": true,
    "slideshow": {
     "slide_type": "subslide"
    },
    "tags": []
   },
   "source": [
    "* `{m}` specifies exactly m copies of the previous expression should be matched"
   ]
  },
  {
   "cell_type": "code",
   "execution_count": 93,
   "metadata": {
    "editable": true,
    "slideshow": {
     "slide_type": "fragment"
    },
    "tags": []
   },
   "outputs": [
    {
     "data": {
      "text/plain": [
       "['11']"
      ]
     },
     "execution_count": 93,
     "metadata": {},
     "output_type": "execute_result"
    }
   ],
   "source": [
    "# {x} exactly x times (numbers with exact number of digits)\n",
    "re.findall(r\"\\d{2}\", alltext) "
   ]
  },
  {
   "cell_type": "markdown",
   "metadata": {
    "editable": true,
    "slideshow": {
     "slide_type": "fragment"
    },
    "tags": []
   },
   "source": [
    "* `{m,n}` matches from m to n repetitions of the preceding expression, while attempting to match as many repetitions as possible"
   ]
  },
  {
   "cell_type": "code",
   "execution_count": 99,
   "metadata": {
    "editable": true,
    "slideshow": {
     "slide_type": "fragment"
    },
    "tags": []
   },
   "outputs": [
    {
     "data": {
      "text/plain": [
       "['oo', 'oo', 'oo', 'oo', 'oo', 'oo', 'oo', 'oo']"
      ]
     },
     "execution_count": 99,
     "metadata": {},
     "output_type": "execute_result"
    }
   ],
   "source": [
    "re.findall(\"o{2,3}\", alltext) "
   ]
  },
  {
   "cell_type": "markdown",
   "metadata": {
    "editable": true,
    "slideshow": {
     "slide_type": "subslide"
    },
    "tags": []
   },
   "source": [
    "- There are so many more special characters\n",
    "- Regex can be super powerful and complicated \n",
    "- Use parenthese to group things together when using operators like `+`, `*`, `?`, `^`"
   ]
  },
  {
   "cell_type": "markdown",
   "metadata": {
    "editable": true,
    "slideshow": {
     "slide_type": "fragment"
    },
    "tags": []
   },
   "source": [
    "##### Short Exercise: \n",
    "How would we grab 10/10 and 19/18 as they appear in the text using `re.findall()`? "
   ]
  },
  {
   "cell_type": "code",
   "execution_count": 100,
   "metadata": {
    "editable": true,
    "slideshow": {
     "slide_type": "fragment"
    },
    "tags": []
   },
   "outputs": [],
   "source": [
    "x = \"Hi 10/10 hello 19/18 asdf 7/6 and 1/10 or 10/1 \""
   ]
  },
  {
   "cell_type": "markdown",
   "metadata": {
    "editable": true,
    "slideshow": {
     "slide_type": "fragment"
    },
    "tags": []
   },
   "source": [
    "<br>\n",
    "<br>\n",
    "<br>\n",
    "<br>\n",
    "<br>\n",
    "<br>\n",
    "<br>\n",
    "<br>\n",
    "<br>\n",
    "<br>\n",
    "<br>\n",
    "<br>"
   ]
  },
  {
   "cell_type": "markdown",
   "metadata": {
    "editable": true,
    "slideshow": {
     "slide_type": "subslide"
    },
    "tags": []
   },
   "source": [
    "##### Answer"
   ]
  },
  {
   "cell_type": "code",
   "execution_count": 102,
   "metadata": {
    "editable": true,
    "slideshow": {
     "slide_type": "fragment"
    },
    "tags": []
   },
   "outputs": [
    {
     "data": {
      "text/plain": [
       "['10/10', '19/18']"
      ]
     },
     "execution_count": 102,
     "metadata": {},
     "output_type": "execute_result"
    }
   ],
   "source": [
    "re.findall(r\"\\d{2}/\\d{2}\", x) "
   ]
  },
  {
   "cell_type": "markdown",
   "metadata": {
    "editable": true,
    "slideshow": {
     "slide_type": "slide"
    },
    "tags": []
   },
   "source": [
    "#### 1.4 `re.split()`"
   ]
  },
  {
   "cell_type": "markdown",
   "metadata": {
    "editable": true,
    "slideshow": {
     "slide_type": "fragment"
    },
    "tags": []
   },
   "source": [
    "##### Split string by the occurrences of pattern. "
   ]
  },
  {
   "cell_type": "code",
   "execution_count": 108,
   "metadata": {
    "editable": true,
    "slideshow": {
     "slide_type": "fragment"
    },
    "tags": []
   },
   "outputs": [
    {
     "data": {
      "text/plain": [
       "['I want to congratulate Senat',\n",
       " ' Clinton on a hard-fought vict',\n",
       " \"y here in\\nNew Hampshire.\\n\\nA few weeks ago, no one imagined that we'd have accomplished what we did\\nhere tonight. F\",\n",
       " ' most of this campaign, we were far behind, and we\\nalways knew our climb would be steep. But in rec']"
      ]
     },
     "execution_count": 108,
     "metadata": {},
     "output_type": "execute_result"
    }
   ],
   "source": [
    "# splits at 'or', deletes 'or'\n",
    "re.split(\"or\", alltext)[0:4]"
   ]
  },
  {
   "cell_type": "code",
   "execution_count": 111,
   "metadata": {
    "editable": true,
    "slideshow": {
     "slide_type": "subslide"
    },
    "tags": []
   },
   "outputs": [
    {
     "data": {
      "text/plain": [
       "[\"I want to congratulate Senator Clinton on a hard-fought victory here in\\nNew Hampshire.\\n\\nA few weeks ago, no one imagined that we'd have accomplished what we did\\nhere tonight. For most of this campaign, we were far behind, and we\\nalways knew our climb would be steep. But in record numbers, you came\\nout and spoke up for change. And with your voices and your votes, you\\nmade it clear that at this moment - in this election - there is\\nsomething happening in \",\n",
       " '.\\n\\nThere is something happening when men and women in Des Moines and\\nDavenport; in Lebanon and Concord come out in the snows of January to\\nwait in lines that stretch block after block because they believe in\\nwhat this country can be.\\n\\nThere is something happening when ',\n",
       " \"ns who are young in age and in\\nspirit - who have never before participated in politics - turn out in\\nnumbers we've never seen because they know in their hearts that this\\ntime must be different.\\n\\nThere is something happening when people vote not just for the party\\nthey belong to but the hopes they hold in common - that whether we are\\nrich or poor; black or white; Latino or Asian; whether we hail from Iowa\\nor New Hampshire, Nevada or South Carolina, we are ready to take this\\ncountry in a fundamentally new direction. That is what's happening in\\n\"]"
      ]
     },
     "execution_count": 111,
     "metadata": {},
     "output_type": "execute_result"
    }
   ],
   "source": [
    "re.split(\"America*\", alltext)[0:3]"
   ]
  },
  {
   "cell_type": "markdown",
   "metadata": {
    "editable": true,
    "slideshow": {
     "slide_type": "slide"
    },
    "tags": []
   },
   "source": [
    "#### 1.5 `re.compile()`"
   ]
  },
  {
   "cell_type": "markdown",
   "metadata": {
    "editable": true,
    "slideshow": {
     "slide_type": "fragment"
    },
    "tags": []
   },
   "source": [
    "##### Compile a regular expression pattern into a RE object, which can then be used for matching using the `match()` and `search()` methods. "
   ]
  },
  {
   "cell_type": "code",
   "execution_count": 112,
   "metadata": {
    "editable": true,
    "slideshow": {
     "slide_type": "fragment"
    },
    "tags": []
   },
   "outputs": [],
   "source": [
    "keyword = re.compile(\"America[a-z]*\")"
   ]
  },
  {
   "cell_type": "code",
   "execution_count": 113,
   "metadata": {
    "editable": true,
    "slideshow": {
     "slide_type": "subslide"
    },
    "tags": []
   },
   "outputs": [
    {
     "name": "stdout",
     "output_type": "stream",
     "text": [
      "something happening in America.\n",
      "\n",
      "There is something happening when Americans who are young in age and in\n",
      "\n",
      "America right now. Change is what's happening in America.\n",
      "\n",
      "Our new American majority can end the outrage of unaffordable,\n",
      "\n",
      "working Americans who deserve it.\n",
      "\n",
      "is a challenge that should unite America and the world against the\n",
      "\n",
      "But in the unlikely story that is America, there has never been anything\n",
      "\n",
      "we can't, generations of Americans have responded with a simple creed\n",
      "\n",
      "remember that there is something happening in America; that we are not\n",
      "\n",
      "nation; and together, we will begin the next great chapter in America's\n",
      "\n"
     ]
    }
   ],
   "source": [
    "# search file for keyword in line by line version\n",
    "for l in text: \n",
    "    if keyword.search(l): # reuse the RE here\n",
    "        print(l)"
   ]
  },
  {
   "cell_type": "markdown",
   "metadata": {
    "editable": true,
    "slideshow": {
     "slide_type": "subslide"
    },
    "tags": []
   },
   "source": [
    "* Create a regex object"
   ]
  },
  {
   "cell_type": "code",
   "execution_count": 115,
   "metadata": {
    "editable": true,
    "slideshow": {
     "slide_type": "fragment"
    },
    "tags": []
   },
   "outputs": [],
   "source": [
    "pattern = re.compile(r'\\d+')"
   ]
  },
  {
   "cell_type": "code",
   "execution_count": 116,
   "metadata": {
    "editable": true,
    "slideshow": {
     "slide_type": "fragment"
    },
    "tags": []
   },
   "outputs": [
    {
     "data": {
      "text/plain": [
       "['9', '11']"
      ]
     },
     "execution_count": 116,
     "metadata": {},
     "output_type": "execute_result"
    }
   ],
   "source": [
    "pattern.findall(alltext) # equivalent to the earlier but longer version using RE"
   ]
  },
  {
   "cell_type": "code",
   "execution_count": 119,
   "metadata": {
    "editable": true,
    "slideshow": {
     "slide_type": "fragment"
    },
    "tags": []
   },
   "outputs": [],
   "source": [
    "# pattern.split(alltext)"
   ]
  },
  {
   "cell_type": "markdown",
   "metadata": {
    "editable": true,
    "jp-MarkdownHeadingCollapsed": true,
    "slideshow": {
     "slide_type": "slide"
    },
    "tags": []
   },
   "source": [
    "#### 1.6 `re.MULTILINE` or `re.M`"
   ]
  },
  {
   "cell_type": "markdown",
   "metadata": {
    "editable": true,
    "slideshow": {
     "slide_type": "fragment"
    },
    "tags": []
   },
   "source": [
    "\n",
    "\n",
    "##### When specified, it helps to search across lines in a single string. "
   ]
  },
  {
   "cell_type": "code",
   "execution_count": 120,
   "metadata": {
    "editable": true,
    "slideshow": {
     "slide_type": "fragment"
    },
    "tags": []
   },
   "outputs": [
    {
     "name": "stdout",
     "output_type": "stream",
     "text": [
      "python\n",
      "is\n",
      "fun\n"
     ]
    }
   ],
   "source": [
    "mline = \"python\\nis\\nfun\"\n",
    "print(mline)"
   ]
  },
  {
   "cell_type": "markdown",
   "metadata": {
    "editable": true,
    "slideshow": {
     "slide_type": "subslide"
    },
    "tags": []
   },
   "source": [
    "I want to search for \"fun\" in the third line, where it starts with an \"f\"\n",
    "\n",
    "- We can use `^` to search the start of a string\n",
    "- Be careful, `^` when used in `[]` means negating characters\n",
    "- `$` can be used to match the end of a string"
   ]
  },
  {
   "cell_type": "code",
   "execution_count": 133,
   "metadata": {
    "editable": true,
    "slideshow": {
     "slide_type": "fragment"
    },
    "tags": []
   },
   "outputs": [
    {
     "data": {
      "text/plain": [
       "[]"
      ]
     },
     "execution_count": 133,
     "metadata": {},
     "output_type": "execute_result"
    }
   ],
   "source": [
    "re.findall(r\"^f\\w*\", mline)"
   ]
  },
  {
   "cell_type": "code",
   "execution_count": 131,
   "metadata": {
    "editable": true,
    "slideshow": {
     "slide_type": "fragment"
    },
    "tags": []
   },
   "outputs": [
    {
     "data": {
      "text/plain": [
       "['fun']"
      ]
     },
     "execution_count": 131,
     "metadata": {},
     "output_type": "execute_result"
    }
   ],
   "source": [
    "# re.findall(\"^f\\w*\", mline, re.M)\n",
    "re.findall(r\"^f\\w*\", mline, re.MULTILINE)"
   ]
  },
  {
   "cell_type": "markdown",
   "metadata": {
    "editable": true,
    "slideshow": {
     "slide_type": "slide"
    },
    "tags": []
   },
   "source": [
    "#### Short Exercise: \n",
    "\n",
    "What does the following code search for? "
   ]
  },
  {
   "cell_type": "code",
   "execution_count": null,
   "metadata": {},
   "outputs": [],
   "source": []
  },
  {
   "cell_type": "code",
   "execution_count": 136,
   "metadata": {
    "editable": true,
    "slideshow": {
     "slide_type": "fragment"
    },
    "tags": []
   },
   "outputs": [
    {
     "data": {
      "text/plain": [
       "['New Hampshire.',\n",
       " 'something happening in America.',\n",
       " 'what this country can be.',\n",
       " 'time must be different.',\n",
       " \"America right now. Change is what's happening in America.\",\n",
       " 'fulfill.',\n",
       " 'working Americans who deserve it.',\n",
       " 'can do this with our new majority.',\n",
       " 'weapons; climate change and poverty; genocide and disease.',\n",
       " 'ideas. And all are patriots who serve this country honorably.',\n",
       " 'the people who love this country, can do to change it.',\n",
       " \"That's why tonight belongs to you.\",\n",
       " 'believed in our improbable journey and rallied so many others to join.',\n",
       " 'in the weeks to come.',\n",
       " 'offering the people of this nation false hope.']"
      ]
     },
     "execution_count": 136,
     "metadata": {},
     "output_type": "execute_result"
    }
   ],
   "source": [
    "re.findall(r\"^.*\\.$\", alltext, re.MULTILINE)[0:15]"
   ]
  },
  {
   "cell_type": "markdown",
   "metadata": {
    "editable": true,
    "slideshow": {
     "slide_type": "slide"
    },
    "tags": []
   },
   "source": [
    "### 2. Naive Bayes Classification"
   ]
  },
  {
   "cell_type": "markdown",
   "metadata": {
    "editable": true,
    "slideshow": {
     "slide_type": "fragment"
    },
    "tags": []
   },
   "source": [
    "* A conditional probability model that assigns probabilities for each class $k$ to an observation based on its $n$ features or $p(C_k|x_1, ...x_n)$.\n",
    "* The central assumption: all $n$ features are independent of each other, conditional on the class/category $C_k$.\n",
    "* Algorithm relies on Bayes' Theorem + a decision rule $$p(C_k|\\mathbf{x}) = \\dfrac{p(C_k)p(\\mathbf{x}|C_k)}{p(\\mathbf{x})}$$"
   ]
  },
  {
   "cell_type": "markdown",
   "metadata": {
    "editable": true,
    "slideshow": {
     "slide_type": "fragment"
    },
    "tags": []
   },
   "source": [
    "Read more about it: https://en.wikipedia.org/wiki/Naive_Bayes_classifier"
   ]
  },
  {
   "cell_type": "markdown",
   "metadata": {
    "editable": true,
    "slideshow": {
     "slide_type": "subslide"
    },
    "tags": []
   },
   "source": [
    "##### Why/When Naive Bayes"
   ]
  },
  {
   "cell_type": "markdown",
   "metadata": {
    "editable": true,
    "slideshow": {
     "slide_type": "fragment"
    },
    "tags": []
   },
   "source": [
    "* Great first classifier to try, relatively fast, requires less data than other classifiers, and can be very accurate provided assumptions hold\n",
    "* Popular in text classification problems"
   ]
  },
  {
   "cell_type": "markdown",
   "metadata": {
    "editable": true,
    "slideshow": {
     "slide_type": "fragment"
    },
    "tags": []
   },
   "source": [
    "More resources: https://www.analyticsvidhya.com/blog/2017/09/naive-bayes-explained/"
   ]
  },
  {
   "cell_type": "markdown",
   "metadata": {
    "editable": true,
    "slideshow": {
     "slide_type": "subslide"
    },
    "tags": []
   },
   "source": [
    "#### 2.1 Installation and Import Libraries"
   ]
  },
  {
   "cell_type": "code",
   "execution_count": 12,
   "metadata": {
    "editable": true,
    "slideshow": {
     "slide_type": "fragment"
    },
    "tags": []
   },
   "outputs": [
    {
     "name": "stdout",
     "output_type": "stream",
     "text": [
      "Requirement already satisfied: nltk in /Library/Frameworks/Python.framework/Versions/3.12/lib/python3.12/site-packages (3.9.1)\n",
      "Requirement already satisfied: click in /Library/Frameworks/Python.framework/Versions/3.12/lib/python3.12/site-packages (from nltk) (8.1.7)\n",
      "Requirement already satisfied: joblib in /Library/Frameworks/Python.framework/Versions/3.12/lib/python3.12/site-packages (from nltk) (1.4.2)\n",
      "Requirement already satisfied: regex>=2021.8.3 in /Library/Frameworks/Python.framework/Versions/3.12/lib/python3.12/site-packages (from nltk) (2024.7.24)\n",
      "Requirement already satisfied: tqdm in /Library/Frameworks/Python.framework/Versions/3.12/lib/python3.12/site-packages (from nltk) (4.66.5)\n"
     ]
    }
   ],
   "source": [
    "#!pip3 install nltk"
   ]
  },
  {
   "cell_type": "code",
   "execution_count": 84,
   "metadata": {
    "editable": true,
    "slideshow": {
     "slide_type": "fragment"
    },
    "tags": []
   },
   "outputs": [
    {
     "name": "stderr",
     "output_type": "stream",
     "text": [
      "[nltk_data] Downloading package names to /Users/Fede/nltk_data...\n",
      "[nltk_data]   Package names is already up-to-date!\n"
     ]
    }
   ],
   "source": [
    "import nltk\n",
    "nltk.download('names')\n",
    "from nltk.corpus import names\n",
    "import random"
   ]
  },
  {
   "cell_type": "markdown",
   "metadata": {
    "editable": true,
    "slideshow": {
     "slide_type": "fragment"
    },
    "tags": []
   },
   "source": [
    "Docs for this library: https://www.nltk.org/api/nltk.classify.naivebayes.html"
   ]
  },
  {
   "cell_type": "markdown",
   "metadata": {
    "editable": true,
    "slideshow": {
     "slide_type": "subslide"
    },
    "tags": []
   },
   "source": [
    "* Create a list of tuples with names"
   ]
  },
  {
   "cell_type": "code",
   "execution_count": 85,
   "metadata": {
    "editable": true,
    "slideshow": {
     "slide_type": "fragment"
    },
    "tags": []
   },
   "outputs": [],
   "source": [
    "names = ([(name, 'male') for name in names.words('male.txt')] +\n",
    "        [(name, 'female') for name in names.words('female.txt')])"
   ]
  },
  {
   "cell_type": "code",
   "execution_count": 26,
   "metadata": {
    "editable": true,
    "slideshow": {
     "slide_type": "subslide"
    },
    "tags": []
   },
   "outputs": [
    {
     "data": {
      "text/plain": [
       "7944"
      ]
     },
     "execution_count": 26,
     "metadata": {},
     "output_type": "execute_result"
    }
   ],
   "source": [
    "names[0:20]"
   ]
  },
  {
   "cell_type": "markdown",
   "metadata": {
    "editable": true,
    "slideshow": {
     "slide_type": "subslide"
    },
    "tags": []
   },
   "source": [
    "##### Now, we shuffle"
   ]
  },
  {
   "cell_type": "code",
   "execution_count": 27,
   "metadata": {
    "editable": true,
    "slideshow": {
     "slide_type": "fragment"
    },
    "tags": []
   },
   "outputs": [
    {
     "data": {
      "text/plain": [
       "[('Sawyer', 'male'),\n",
       " ('Hamlen', 'male'),\n",
       " ('Lebbie', 'female'),\n",
       " ('Olivia', 'female'),\n",
       " ('Alfonse', 'male')]"
      ]
     },
     "execution_count": 27,
     "metadata": {},
     "output_type": "execute_result"
    }
   ],
   "source": [
    "random.shuffle(names)\n",
    "names[0:5]"
   ]
  },
  {
   "cell_type": "markdown",
   "metadata": {
    "editable": true,
    "slideshow": {
     "slide_type": "subslide"
    },
    "tags": []
   },
   "source": [
    "#### 2.2 Split Training and Test Sets"
   ]
  },
  {
   "cell_type": "code",
   "execution_count": 16,
   "metadata": {
    "editable": true,
    "slideshow": {
     "slide_type": "fragment"
    },
    "tags": []
   },
   "outputs": [
    {
     "data": {
      "text/plain": [
       "7944"
      ]
     },
     "execution_count": 16,
     "metadata": {},
     "output_type": "execute_result"
    }
   ],
   "source": [
    "len(names) # N total observations"
   ]
  },
  {
   "cell_type": "markdown",
   "metadata": {
    "editable": true,
    "slideshow": {
     "slide_type": "fragment"
    },
    "tags": []
   },
   "source": [
    "* Define training and test set sizes"
   ]
  },
  {
   "cell_type": "code",
   "execution_count": 28,
   "metadata": {
    "editable": true,
    "slideshow": {
     "slide_type": "fragment"
    },
    "tags": []
   },
   "outputs": [],
   "source": [
    "train_size = 5000"
   ]
  },
  {
   "cell_type": "markdown",
   "metadata": {
    "editable": true,
    "slideshow": {
     "slide_type": "fragment"
    },
    "tags": []
   },
   "source": [
    "* Split train and test objects"
   ]
  },
  {
   "cell_type": "code",
   "execution_count": 29,
   "metadata": {
    "editable": true,
    "slideshow": {
     "slide_type": "fragment"
    },
    "tags": []
   },
   "outputs": [],
   "source": [
    "train_names = names[:train_size]\n",
    "test_names = names[train_size:]"
   ]
  },
  {
   "cell_type": "markdown",
   "metadata": {
    "editable": true,
    "slideshow": {
     "slide_type": "subslide"
    },
    "tags": []
   },
   "source": [
    "#### 2.3 Define Features"
   ]
  },
  {
   "cell_type": "markdown",
   "metadata": {
    "editable": true,
    "slideshow": {
     "slide_type": "fragment"
    },
    "tags": []
   },
   "source": [
    "* A simple feature: get the last letter of the name"
   ]
  },
  {
   "cell_type": "code",
   "execution_count": 30,
   "metadata": {
    "editable": true,
    "slideshow": {
     "slide_type": "fragment"
    },
    "tags": []
   },
   "outputs": [],
   "source": [
    "def g_features1(name):\n",
    "  return {'last_letter': name[-1]}"
   ]
  },
  {
   "cell_type": "markdown",
   "metadata": {
    "editable": true,
    "slideshow": {
     "slide_type": "fragment"
    },
    "tags": []
   },
   "source": [
    "Tips: Python functions can return multiple values"
   ]
  },
  {
   "cell_type": "code",
   "execution_count": 20,
   "metadata": {
    "editable": true,
    "slideshow": {
     "slide_type": "fragment"
    },
    "tags": []
   },
   "outputs": [
    {
     "data": {
      "text/plain": [
       "(5, 10)"
      ]
     },
     "execution_count": 20,
     "metadata": {},
     "output_type": "execute_result"
    }
   ],
   "source": [
    "# Quick break — some syntax:\n",
    "def return_two():\n",
    "  return 5, 10\n",
    "\n",
    "# When a method returns two values, we can use this format: \n",
    "x, y = return_two()\n",
    "x, y"
   ]
  },
  {
   "cell_type": "markdown",
   "metadata": {
    "editable": true,
    "slideshow": {
     "slide_type": "subslide"
    },
    "tags": []
   },
   "source": [
    "#### 2.4 Data Preparation"
   ]
  },
  {
   "cell_type": "markdown",
   "metadata": {
    "editable": true,
    "slideshow": {
     "slide_type": "fragment"
    },
    "tags": []
   },
   "source": [
    "Loop over names, and return tuple of dictionary and label"
   ]
  },
  {
   "cell_type": "code",
   "execution_count": 31,
   "metadata": {
    "editable": true,
    "slideshow": {
     "slide_type": "fragment"
    },
    "tags": []
   },
   "outputs": [],
   "source": [
    "train_set = [(g_features1(n), g) for (n, g) in train_names]\n",
    "test_set = [(g_features1(n), g) for (n,g) in test_names]"
   ]
  },
  {
   "cell_type": "code",
   "execution_count": 212,
   "metadata": {
    "editable": true,
    "scrolled": true,
    "slideshow": {
     "slide_type": "fragment"
    },
    "tags": []
   },
   "outputs": [],
   "source": [
    "# train_set[0]"
   ]
  },
  {
   "cell_type": "markdown",
   "metadata": {
    "editable": true,
    "slideshow": {
     "slide_type": "subslide"
    },
    "tags": []
   },
   "source": [
    "#### 2.5 Train the Classifier"
   ]
  },
  {
   "cell_type": "markdown",
   "metadata": {
    "editable": true,
    "slideshow": {
     "slide_type": "fragment"
    },
    "tags": []
   },
   "source": [
    "##### Run the naive Bayes classifier for the train set"
   ]
  },
  {
   "cell_type": "code",
   "execution_count": 32,
   "metadata": {
    "editable": true,
    "slideshow": {
     "slide_type": "fragment"
    },
    "tags": []
   },
   "outputs": [],
   "source": [
    "classifier = nltk.NaiveBayesClassifier.train(train_set)"
   ]
  },
  {
   "cell_type": "markdown",
   "metadata": {
    "editable": true,
    "slideshow": {
     "slide_type": "subslide"
    },
    "tags": []
   },
   "source": [
    "#### 2.6 Test your Classifier"
   ]
  },
  {
   "cell_type": "markdown",
   "metadata": {
    "editable": true,
    "slideshow": {
     "slide_type": "fragment"
    },
    "tags": []
   },
   "source": [
    "* Apply the classifier to some names"
   ]
  },
  {
   "cell_type": "code",
   "execution_count": 49,
   "metadata": {
    "editable": true,
    "slideshow": {
     "slide_type": "fragment"
    },
    "tags": []
   },
   "outputs": [
    {
     "data": {
      "text/plain": [
       "'female'"
      ]
     },
     "execution_count": 49,
     "metadata": {},
     "output_type": "execute_result"
    }
   ],
   "source": [
    "classifier.classify(g_features1('Alma'))"
   ]
  },
  {
   "cell_type": "code",
   "execution_count": 34,
   "metadata": {
    "editable": true,
    "slideshow": {
     "slide_type": "fragment"
    },
    "tags": []
   },
   "outputs": [
    {
     "data": {
      "text/plain": [
       "'female'"
      ]
     },
     "execution_count": 34,
     "metadata": {},
     "output_type": "execute_result"
    }
   ],
   "source": [
    "classifier.classify(g_features1('Masanori'))"
   ]
  },
  {
   "cell_type": "code",
   "execution_count": 43,
   "metadata": {
    "editable": true,
    "slideshow": {
     "slide_type": "fragment"
    },
    "tags": []
   },
   "outputs": [
    {
     "data": {
      "text/plain": [
       "'male'"
      ]
     },
     "execution_count": 43,
     "metadata": {},
     "output_type": "execute_result"
    }
   ],
   "source": [
    "classifier.classify(g_features1('Federico'))"
   ]
  },
  {
   "cell_type": "markdown",
   "metadata": {
    "editable": true,
    "slideshow": {
     "slide_type": "subslide"
    },
    "tags": []
   },
   "source": [
    "* Get probabilities"
   ]
  },
  {
   "cell_type": "code",
   "execution_count": 44,
   "metadata": {
    "editable": true,
    "slideshow": {
     "slide_type": "fragment"
    },
    "tags": []
   },
   "outputs": [
    {
     "data": {
      "text/plain": [
       "0.9851742055538553"
      ]
     },
     "execution_count": 44,
     "metadata": {},
     "output_type": "execute_result"
    }
   ],
   "source": [
    "classifier.prob_classify(g_features1('Alma')).prob(\"female\")"
   ]
  },
  {
   "cell_type": "code",
   "execution_count": 45,
   "metadata": {
    "editable": true,
    "slideshow": {
     "slide_type": "fragment"
    },
    "tags": []
   },
   "outputs": [
    {
     "data": {
      "text/plain": [
       "0.16058377115842454"
      ]
     },
     "execution_count": 45,
     "metadata": {},
     "output_type": "execute_result"
    }
   ],
   "source": [
    "classifier.prob_classify(g_features1('Masanori')).prob(\"male\")"
   ]
  },
  {
   "cell_type": "markdown",
   "metadata": {
    "editable": true,
    "slideshow": {
     "slide_type": "subslide"
    },
    "tags": []
   },
   "source": [
    "##### We can check the overall accuracy with our test set. \n",
    "\n",
    "More on accuracy, F1, precision, recall: https://towardsdatascience.com/accuracy-precision-recall-or-f1-331fb37c5cb9"
   ]
  },
  {
   "cell_type": "code",
   "execution_count": 46,
   "metadata": {
    "editable": true,
    "slideshow": {
     "slide_type": "fragment"
    },
    "tags": []
   },
   "outputs": [
    {
     "name": "stdout",
     "output_type": "stream",
     "text": [
      "0.7612092391304348\n"
     ]
    }
   ],
   "source": [
    "print(nltk.classify.accuracy(classifier, test_set))"
   ]
  },
  {
   "cell_type": "markdown",
   "metadata": {
    "editable": true,
    "slideshow": {
     "slide_type": "subslide"
    },
    "tags": []
   },
   "source": [
    "#### 2.7 Feature Attribution"
   ]
  },
  {
   "cell_type": "markdown",
   "metadata": {
    "editable": true,
    "slideshow": {
     "slide_type": "fragment"
    },
    "tags": []
   },
   "source": [
    "* Lets see what is driving this"
   ]
  },
  {
   "cell_type": "code",
   "execution_count": 50,
   "metadata": {
    "editable": true,
    "slideshow": {
     "slide_type": "fragment"
    },
    "tags": []
   },
   "outputs": [
    {
     "name": "stdout",
     "output_type": "stream",
     "text": [
      "Most Informative Features\n",
      "             last_letter = 'a'            female : male   =     39.0 : 1.0\n",
      "             last_letter = 'k'              male : female =     31.0 : 1.0\n",
      "             last_letter = 'f'              male : female =     13.9 : 1.0\n",
      "             last_letter = 'd'              male : female =      9.7 : 1.0\n",
      "             last_letter = 'o'              male : female =      7.9 : 1.0\n"
     ]
    }
   ],
   "source": [
    "classifier.show_most_informative_features(5)"
   ]
  },
  {
   "cell_type": "markdown",
   "metadata": {
    "editable": true,
    "slideshow": {
     "slide_type": "subslide"
    },
    "tags": []
   },
   "source": [
    "Let's be smarter and add more features!"
   ]
  },
  {
   "cell_type": "code",
   "execution_count": 51,
   "metadata": {
    "editable": true,
    "slideshow": {
     "slide_type": "fragment"
    },
    "tags": []
   },
   "outputs": [],
   "source": [
    "# What all are we including now?\n",
    "def g_features2(name):\n",
    "  features = {}\n",
    "  features[\"firstletter\"] = name[0].lower()\n",
    "  features[\"lastletter\"] = name[-1].lower()\n",
    "  for letter in 'abcdefghijklmnopqrstuvwxyz':\n",
    "      features[\"count(%s)\" % letter] = name.lower().count(letter)\n",
    "      features[\"has(%s)\" % letter] = (letter in name.lower())\n",
    "  return features"
   ]
  },
  {
   "cell_type": "code",
   "execution_count": 53,
   "metadata": {
    "editable": true,
    "scrolled": true,
    "slideshow": {
     "slide_type": "fragment"
    },
    "tags": []
   },
   "outputs": [
    {
     "data": {
      "text/plain": [
       "{'firstletter': 'a',\n",
       " 'lastletter': 'a',\n",
       " 'count(a)': 2,\n",
       " 'has(a)': True,\n",
       " 'count(b)': 0,\n",
       " 'has(b)': False,\n",
       " 'count(c)': 0,\n",
       " 'has(c)': False,\n",
       " 'count(d)': 0,\n",
       " 'has(d)': False,\n",
       " 'count(e)': 0,\n",
       " 'has(e)': False,\n",
       " 'count(f)': 0,\n",
       " 'has(f)': False,\n",
       " 'count(g)': 0,\n",
       " 'has(g)': False,\n",
       " 'count(h)': 0,\n",
       " 'has(h)': False,\n",
       " 'count(i)': 0,\n",
       " 'has(i)': False,\n",
       " 'count(j)': 0,\n",
       " 'has(j)': False,\n",
       " 'count(k)': 0,\n",
       " 'has(k)': False,\n",
       " 'count(l)': 1,\n",
       " 'has(l)': True,\n",
       " 'count(m)': 1,\n",
       " 'has(m)': True,\n",
       " 'count(n)': 0,\n",
       " 'has(n)': False,\n",
       " 'count(o)': 0,\n",
       " 'has(o)': False,\n",
       " 'count(p)': 0,\n",
       " 'has(p)': False,\n",
       " 'count(q)': 0,\n",
       " 'has(q)': False,\n",
       " 'count(r)': 0,\n",
       " 'has(r)': False,\n",
       " 'count(s)': 0,\n",
       " 'has(s)': False,\n",
       " 'count(t)': 0,\n",
       " 'has(t)': False,\n",
       " 'count(u)': 0,\n",
       " 'has(u)': False,\n",
       " 'count(v)': 0,\n",
       " 'has(v)': False,\n",
       " 'count(w)': 0,\n",
       " 'has(w)': False,\n",
       " 'count(x)': 0,\n",
       " 'has(x)': False,\n",
       " 'count(y)': 0,\n",
       " 'has(y)': False,\n",
       " 'count(z)': 0,\n",
       " 'has(z)': False}"
      ]
     },
     "execution_count": 53,
     "metadata": {},
     "output_type": "execute_result"
    }
   ],
   "source": [
    "# g_features2('Alma')"
   ]
  },
  {
   "cell_type": "markdown",
   "metadata": {
    "editable": true,
    "slideshow": {
     "slide_type": "subslide"
    },
    "tags": []
   },
   "source": [
    "* Run for train set"
   ]
  },
  {
   "cell_type": "code",
   "execution_count": 54,
   "metadata": {
    "editable": true,
    "slideshow": {
     "slide_type": "fragment"
    },
    "tags": []
   },
   "outputs": [],
   "source": [
    "train_set = [(g_features2(n), g) for (n,g) in train_names]"
   ]
  },
  {
   "cell_type": "markdown",
   "metadata": {
    "editable": true,
    "slideshow": {
     "slide_type": "fragment"
    },
    "tags": []
   },
   "source": [
    "* Run for test set"
   ]
  },
  {
   "cell_type": "code",
   "execution_count": 55,
   "metadata": {
    "editable": true,
    "slideshow": {
     "slide_type": "fragment"
    },
    "tags": []
   },
   "outputs": [],
   "source": [
    "test_set = [(g_features2(n), g) for (n,g) in test_names]"
   ]
  },
  {
   "cell_type": "markdown",
   "metadata": {
    "editable": true,
    "slideshow": {
     "slide_type": "fragment"
    },
    "tags": []
   },
   "source": [
    "* Run new classifier"
   ]
  },
  {
   "cell_type": "code",
   "execution_count": 56,
   "metadata": {
    "editable": true,
    "slideshow": {
     "slide_type": "fragment"
    },
    "tags": []
   },
   "outputs": [],
   "source": [
    "classifier_new = nltk.NaiveBayesClassifier.train(train_set)"
   ]
  },
  {
   "cell_type": "markdown",
   "metadata": {
    "editable": true,
    "slideshow": {
     "slide_type": "fragment"
    },
    "tags": []
   },
   "source": [
    "* Check the overall accuracy with test set"
   ]
  },
  {
   "cell_type": "code",
   "execution_count": 57,
   "metadata": {
    "editable": true,
    "slideshow": {
     "slide_type": "fragment"
    },
    "tags": []
   },
   "outputs": [
    {
     "name": "stdout",
     "output_type": "stream",
     "text": [
      "0.7768342391304348\n"
     ]
    }
   ],
   "source": [
    "print(nltk.classify.accuracy(classifier_new, test_set))"
   ]
  },
  {
   "cell_type": "markdown",
   "metadata": {
    "editable": true,
    "slideshow": {
     "slide_type": "subslide"
    },
    "tags": []
   },
   "source": [
    "* Lets see what is driving this"
   ]
  },
  {
   "cell_type": "code",
   "execution_count": 58,
   "metadata": {
    "editable": true,
    "slideshow": {
     "slide_type": "fragment"
    },
    "tags": []
   },
   "outputs": [
    {
     "name": "stdout",
     "output_type": "stream",
     "text": [
      "Most Informative Features\n",
      "              lastletter = 'a'            female : male   =     39.0 : 1.0\n",
      "              lastletter = 'k'              male : female =     31.0 : 1.0\n",
      "              lastletter = 'f'              male : female =     13.9 : 1.0\n",
      "              lastletter = 'd'              male : female =      9.7 : 1.0\n",
      "              lastletter = 'o'              male : female =      7.9 : 1.0\n",
      "              lastletter = 'm'              male : female =      7.5 : 1.0\n",
      "              lastletter = 'p'              male : female =      7.1 : 1.0\n",
      "              lastletter = 'v'              male : female =      7.1 : 1.0\n",
      "             firstletter = 'q'              male : female =      7.1 : 1.0\n",
      "              lastletter = 'r'              male : female =      7.0 : 1.0\n",
      "                count(v) = 2              female : male   =      6.5 : 1.0\n",
      "              lastletter = 'g'              male : female =      6.0 : 1.0\n",
      "                count(l) = 3              female : male   =      5.7 : 1.0\n",
      "                count(w) = 2                male : female =      5.1 : 1.0\n",
      "             firstletter = 'w'              male : female =      4.7 : 1.0\n",
      "              lastletter = 'w'              male : female =      4.3 : 1.0\n",
      "                  has(w) = True             male : female =      4.3 : 1.0\n",
      "              lastletter = 't'              male : female =      4.2 : 1.0\n",
      "                count(w) = 1                male : female =      4.2 : 1.0\n",
      "              lastletter = 's'              male : female =      4.2 : 1.0\n"
     ]
    }
   ],
   "source": [
    "classifier_new.show_most_informative_features(20)"
   ]
  },
  {
   "cell_type": "markdown",
   "metadata": {
    "editable": true,
    "slideshow": {
     "slide_type": "subslide"
    },
    "tags": []
   },
   "source": [
    "* Worse? Better? How can we refine?\n",
    "* Lets look at the errors from this model and see if we can do better"
   ]
  },
  {
   "cell_type": "code",
   "execution_count": 60,
   "metadata": {
    "editable": true,
    "slideshow": {
     "slide_type": "fragment"
    },
    "tags": []
   },
   "outputs": [],
   "source": [
    "errors = []\n",
    "for (name, label) in test_names:\n",
    "  guess = classifier.classify(g_features2(name))\n",
    "  if guess != label:\n",
    "    prob = classifier.prob_classify(g_features2(name)).prob(guess)\n",
    "    errors.append((label, guess, prob, name))"
   ]
  },
  {
   "cell_type": "code",
   "execution_count": 188,
   "metadata": {
    "editable": true,
    "slideshow": {
     "slide_type": "fragment"
    },
    "tags": []
   },
   "outputs": [],
   "source": [
    "for (label, guess, prob, name) in sorted(errors):\n",
    "print('correct={} guess={} prob={:.2f} name={}'.format(label, guess, prob, name))"
   ]
  },
  {
   "cell_type": "markdown",
   "metadata": {
    "editable": true,
    "slideshow": {
     "slide_type": "fragment"
    },
    "tags": []
   },
   "source": [
    "What could we do to improve it? (Lab Assignment)"
   ]
  },
  {
   "cell_type": "markdown",
   "metadata": {
    "editable": true,
    "slideshow": {
     "slide_type": "subslide"
    },
    "tags": []
   },
   "source": [
    "##### Now lets look at some bigger documents\n",
    "* This may take a while to download."
   ]
  },
  {
   "cell_type": "code",
   "execution_count": 70,
   "metadata": {
    "editable": true,
    "slideshow": {
     "slide_type": "fragment"
    },
    "tags": []
   },
   "outputs": [
    {
     "name": "stderr",
     "output_type": "stream",
     "text": [
      "[nltk_data] Downloading package movie_reviews to\n",
      "[nltk_data]     /Users/Fede/nltk_data...\n",
      "[nltk_data]   Package movie_reviews is already up-to-date!\n"
     ]
    },
    {
     "data": {
      "text/plain": [
       "True"
      ]
     },
     "execution_count": 70,
     "metadata": {},
     "output_type": "execute_result"
    }
   ],
   "source": [
    "from nltk.corpus import movie_reviews\n",
    "nltk.download('movie_reviews')"
   ]
  },
  {
   "cell_type": "code",
   "execution_count": 71,
   "metadata": {
    "editable": true,
    "slideshow": {
     "slide_type": "fragment"
    },
    "tags": []
   },
   "outputs": [],
   "source": [
    "# list of tuples\n",
    "# ([words], label)\n",
    "documents = [(list(movie_reviews.words(fileid)), category)\n",
    "              for category in movie_reviews.categories()\n",
    "              for fileid in movie_reviews.fileids(category)]\n"
   ]
  },
  {
   "cell_type": "code",
   "execution_count": 72,
   "metadata": {
    "editable": true,
    "slideshow": {
     "slide_type": "fragment"
    },
    "tags": []
   },
   "outputs": [
    {
     "data": {
      "text/plain": [
       "'neg'"
      ]
     },
     "execution_count": 72,
     "metadata": {},
     "output_type": "execute_result"
    }
   ],
   "source": [
    "# type(documents[0])\n",
    "# type(documents)\n",
    "documents[0][1] # only neg & pos"
   ]
  },
  {
   "cell_type": "code",
   "execution_count": 73,
   "metadata": {
    "editable": true,
    "slideshow": {
     "slide_type": "subslide"
    },
    "tags": []
   },
   "outputs": [],
   "source": [
    "random.shuffle(documents)"
   ]
  },
  {
   "cell_type": "markdown",
   "metadata": {
    "editable": true,
    "slideshow": {
     "slide_type": "fragment"
    },
    "tags": []
   },
   "source": [
    "* Dictionary of words and number of instances"
   ]
  },
  {
   "cell_type": "code",
   "execution_count": 74,
   "metadata": {
    "editable": true,
    "slideshow": {
     "slide_type": "fragment"
    },
    "tags": []
   },
   "outputs": [
    {
     "data": {
      "text/plain": [
       "39768"
      ]
     },
     "execution_count": 74,
     "metadata": {},
     "output_type": "execute_result"
    }
   ],
   "source": [
    "all_words = nltk.FreqDist(w.lower() for w in movie_reviews.words())\n",
    "len(all_words)"
   ]
  },
  {
   "cell_type": "code",
   "execution_count": 66,
   "metadata": {
    "editable": true,
    "slideshow": {
     "slide_type": "fragment"
    },
    "tags": []
   },
   "outputs": [
    {
     "data": {
      "text/plain": [
       "FreqDist({',': 77717, 'the': 76529, '.': 65876, 'a': 38106, 'and': 35576, 'of': 34123, 'to': 31937, \"'\": 30585, 'is': 25195, 'in': 21822, ...})"
      ]
     },
     "execution_count": 66,
     "metadata": {},
     "output_type": "execute_result"
    }
   ],
   "source": [
    "all_words"
   ]
  },
  {
   "cell_type": "markdown",
   "metadata": {
    "editable": true,
    "slideshow": {
     "slide_type": "subslide"
    },
    "tags": []
   },
   "source": [
    "* Check the frequency of `,`"
   ]
  },
  {
   "cell_type": "code",
   "execution_count": 75,
   "metadata": {
    "editable": true,
    "slideshow": {
     "slide_type": "fragment"
    },
    "tags": []
   },
   "outputs": [
    {
     "data": {
      "text/plain": [
       "77717"
      ]
     },
     "execution_count": 75,
     "metadata": {},
     "output_type": "execute_result"
    }
   ],
   "source": [
    "all_words[',']"
   ]
  },
  {
   "cell_type": "code",
   "execution_count": 76,
   "metadata": {
    "editable": true,
    "slideshow": {
     "slide_type": "fragment"
    },
    "tags": []
   },
   "outputs": [],
   "source": [
    "word_features = [k for k in all_words.keys() if all_words[k] > 5]"
   ]
  },
  {
   "cell_type": "code",
   "execution_count": 77,
   "metadata": {
    "editable": true,
    "slideshow": {
     "slide_type": "fragment"
    },
    "tags": []
   },
   "outputs": [
    {
     "data": {
      "text/plain": [
       "13214"
      ]
     },
     "execution_count": 77,
     "metadata": {},
     "output_type": "execute_result"
    }
   ],
   "source": [
    "len(word_features)"
   ]
  },
  {
   "cell_type": "markdown",
   "metadata": {
    "editable": true,
    "slideshow": {
     "slide_type": "subslide"
    },
    "tags": []
   },
   "source": [
    "* Define function to get document features"
   ]
  },
  {
   "cell_type": "code",
   "execution_count": 78,
   "metadata": {
    "editable": true,
    "slideshow": {
     "slide_type": "fragment"
    },
    "tags": []
   },
   "outputs": [],
   "source": [
    "def document_features(document):\n",
    "  document_words = set(document)\n",
    "  features = {}\n",
    "  for word in word_features:\n",
    "      features['contains(%s)' % word] = (word in document_words)\n",
    "  return features"
   ]
  },
  {
   "cell_type": "code",
   "execution_count": 79,
   "metadata": {
    "editable": true,
    "slideshow": {
     "slide_type": "fragment"
    },
    "tags": []
   },
   "outputs": [
    {
     "data": {
      "text/plain": [
       "{'contains(plot)': False,\n",
       " 'contains(:)': False,\n",
       " 'contains(two)': False,\n",
       " 'contains(teen)': False,\n",
       " 'contains(couples)': False,\n",
       " 'contains(go)': False,\n",
       " 'contains(to)': False,\n",
       " 'contains(a)': True,\n",
       " 'contains(church)': False,\n",
       " 'contains(party)': False,\n",
       " 'contains(,)': False,\n",
       " 'contains(drink)': False,\n",
       " 'contains(and)': False,\n",
       " 'contains(then)': False,\n",
       " 'contains(drive)': False,\n",
       " 'contains(.)': False,\n",
       " 'contains(they)': False,\n",
       " 'contains(get)': False,\n",
       " 'contains(into)': False,\n",
       " 'contains(an)': False,\n",
       " 'contains(accident)': False,\n",
       " 'contains(one)': False,\n",
       " 'contains(of)': False,\n",
       " 'contains(the)': False,\n",
       " 'contains(guys)': False,\n",
       " 'contains(dies)': False,\n",
       " 'contains(but)': False,\n",
       " 'contains(his)': False,\n",
       " 'contains(girlfriend)': False,\n",
       " 'contains(continues)': False,\n",
       " 'contains(see)': False,\n",
       " 'contains(him)': False,\n",
       " 'contains(in)': False,\n",
       " 'contains(her)': False,\n",
       " 'contains(life)': False,\n",
       " 'contains(has)': False,\n",
       " 'contains(nightmares)': False,\n",
       " 'contains(what)': False,\n",
       " \"contains(')\": False,\n",
       " 'contains(s)': False,\n",
       " 'contains(deal)': False,\n",
       " 'contains(?)': False,\n",
       " 'contains(watch)': False,\n",
       " 'contains(movie)': True,\n",
       " 'contains(\")': False,\n",
       " 'contains(sorta)': False,\n",
       " 'contains(find)': False,\n",
       " 'contains(out)': False,\n",
       " 'contains(critique)': False,\n",
       " 'contains(mind)': False,\n",
       " 'contains(-)': False,\n",
       " 'contains(fuck)': False,\n",
       " 'contains(for)': False,\n",
       " 'contains(generation)': False,\n",
       " 'contains(that)': False,\n",
       " 'contains(touches)': False,\n",
       " 'contains(on)': False,\n",
       " 'contains(very)': False,\n",
       " 'contains(cool)': False,\n",
       " 'contains(idea)': False,\n",
       " 'contains(presents)': False,\n",
       " 'contains(it)': False,\n",
       " 'contains(bad)': False,\n",
       " 'contains(package)': False,\n",
       " 'contains(which)': False,\n",
       " 'contains(is)': True,\n",
       " 'contains(makes)': False,\n",
       " 'contains(this)': False,\n",
       " 'contains(review)': False,\n",
       " 'contains(even)': False,\n",
       " 'contains(harder)': False,\n",
       " 'contains(write)': False,\n",
       " 'contains(since)': False,\n",
       " 'contains(i)': False,\n",
       " 'contains(generally)': False,\n",
       " 'contains(applaud)': False,\n",
       " 'contains(films)': False,\n",
       " 'contains(attempt)': False,\n",
       " 'contains(break)': False,\n",
       " 'contains(mold)': False,\n",
       " 'contains(mess)': False,\n",
       " 'contains(with)': False,\n",
       " 'contains(your)': False,\n",
       " 'contains(head)': False,\n",
       " 'contains(such)': False,\n",
       " 'contains(()': False,\n",
       " 'contains(lost)': False,\n",
       " 'contains(highway)': False,\n",
       " 'contains(&)': False,\n",
       " 'contains(memento)': False,\n",
       " 'contains())': False,\n",
       " 'contains(there)': False,\n",
       " 'contains(are)': False,\n",
       " 'contains(good)': False,\n",
       " 'contains(ways)': False,\n",
       " 'contains(making)': False,\n",
       " 'contains(all)': False,\n",
       " 'contains(types)': False,\n",
       " 'contains(these)': False,\n",
       " 'contains(folks)': False,\n",
       " 'contains(just)': False,\n",
       " 'contains(didn)': False,\n",
       " 'contains(t)': False,\n",
       " 'contains(correctly)': False,\n",
       " 'contains(seem)': False,\n",
       " 'contains(have)': False,\n",
       " 'contains(taken)': False,\n",
       " 'contains(pretty)': False,\n",
       " 'contains(neat)': False,\n",
       " 'contains(concept)': False,\n",
       " 'contains(executed)': False,\n",
       " 'contains(terribly)': False,\n",
       " 'contains(so)': False,\n",
       " 'contains(problems)': False,\n",
       " 'contains(well)': False,\n",
       " 'contains(its)': False,\n",
       " 'contains(main)': False,\n",
       " 'contains(problem)': False,\n",
       " 'contains(simply)': False,\n",
       " 'contains(too)': False,\n",
       " 'contains(jumbled)': False,\n",
       " 'contains(starts)': False,\n",
       " 'contains(off)': False,\n",
       " 'contains(normal)': False,\n",
       " 'contains(fantasy)': False,\n",
       " 'contains(world)': False,\n",
       " 'contains(you)': False,\n",
       " 'contains(as)': False,\n",
       " 'contains(audience)': False,\n",
       " 'contains(member)': False,\n",
       " 'contains(no)': False,\n",
       " 'contains(going)': False,\n",
       " 'contains(dreams)': False,\n",
       " 'contains(characters)': False,\n",
       " 'contains(coming)': False,\n",
       " 'contains(back)': False,\n",
       " 'contains(from)': False,\n",
       " 'contains(dead)': False,\n",
       " 'contains(others)': False,\n",
       " 'contains(who)': False,\n",
       " 'contains(look)': False,\n",
       " 'contains(like)': False,\n",
       " 'contains(strange)': False,\n",
       " 'contains(chase)': False,\n",
       " 'contains(scenes)': False,\n",
       " 'contains(tons)': False,\n",
       " 'contains(weird)': False,\n",
       " 'contains(things)': False,\n",
       " 'contains(happen)': False,\n",
       " 'contains(most)': False,\n",
       " 'contains(not)': False,\n",
       " 'contains(explained)': False,\n",
       " 'contains(now)': False,\n",
       " 'contains(personally)': False,\n",
       " 'contains(don)': False,\n",
       " 'contains(trying)': False,\n",
       " 'contains(unravel)': False,\n",
       " 'contains(film)': False,\n",
       " 'contains(every)': False,\n",
       " 'contains(when)': False,\n",
       " 'contains(does)': False,\n",
       " 'contains(give)': False,\n",
       " 'contains(me)': False,\n",
       " 'contains(same)': False,\n",
       " 'contains(clue)': False,\n",
       " 'contains(over)': False,\n",
       " 'contains(again)': False,\n",
       " 'contains(kind)': False,\n",
       " 'contains(fed)': False,\n",
       " 'contains(up)': False,\n",
       " 'contains(after)': False,\n",
       " 'contains(while)': False,\n",
       " 'contains(biggest)': False,\n",
       " 'contains(obviously)': False,\n",
       " 'contains(got)': False,\n",
       " 'contains(big)': False,\n",
       " 'contains(secret)': False,\n",
       " 'contains(hide)': False,\n",
       " 'contains(seems)': False,\n",
       " 'contains(want)': False,\n",
       " 'contains(completely)': False,\n",
       " 'contains(until)': False,\n",
       " 'contains(final)': False,\n",
       " 'contains(five)': False,\n",
       " 'contains(minutes)': False,\n",
       " 'contains(do)': False,\n",
       " 'contains(make)': False,\n",
       " 'contains(entertaining)': False,\n",
       " 'contains(thrilling)': False,\n",
       " 'contains(or)': False,\n",
       " 'contains(engaging)': False,\n",
       " 'contains(meantime)': False,\n",
       " 'contains(really)': False,\n",
       " 'contains(sad)': False,\n",
       " 'contains(part)': False,\n",
       " 'contains(arrow)': False,\n",
       " 'contains(both)': False,\n",
       " 'contains(dig)': False,\n",
       " 'contains(flicks)': False,\n",
       " 'contains(we)': False,\n",
       " 'contains(actually)': False,\n",
       " 'contains(figured)': False,\n",
       " 'contains(by)': False,\n",
       " 'contains(half)': False,\n",
       " 'contains(way)': False,\n",
       " 'contains(point)': False,\n",
       " 'contains(strangeness)': False,\n",
       " 'contains(did)': False,\n",
       " 'contains(start)': False,\n",
       " 'contains(little)': False,\n",
       " 'contains(bit)': False,\n",
       " 'contains(sense)': False,\n",
       " 'contains(still)': False,\n",
       " 'contains(more)': False,\n",
       " 'contains(guess)': False,\n",
       " 'contains(bottom)': False,\n",
       " 'contains(line)': False,\n",
       " 'contains(movies)': False,\n",
       " 'contains(should)': False,\n",
       " 'contains(always)': False,\n",
       " 'contains(sure)': False,\n",
       " 'contains(before)': False,\n",
       " 'contains(given)': False,\n",
       " 'contains(enter)': False,\n",
       " 'contains(understanding)': False,\n",
       " 'contains(mean)': False,\n",
       " 'contains(showing)': False,\n",
       " 'contains(melissa)': False,\n",
       " 'contains(sagemiller)': False,\n",
       " 'contains(running)': False,\n",
       " 'contains(away)': False,\n",
       " 'contains(visions)': False,\n",
       " 'contains(about)': False,\n",
       " 'contains(20)': False,\n",
       " 'contains(throughout)': False,\n",
       " 'contains(plain)': False,\n",
       " 'contains(lazy)': False,\n",
       " 'contains(!)': False,\n",
       " 'contains(okay)': False,\n",
       " 'contains(people)': False,\n",
       " 'contains(chasing)': False,\n",
       " 'contains(know)': False,\n",
       " 'contains(need)': False,\n",
       " 'contains(how)': False,\n",
       " 'contains(giving)': False,\n",
       " 'contains(us)': False,\n",
       " 'contains(different)': False,\n",
       " 'contains(offering)': False,\n",
       " 'contains(further)': False,\n",
       " 'contains(insight)': False,\n",
       " 'contains(down)': False,\n",
       " 'contains(apparently)': False,\n",
       " 'contains(studio)': False,\n",
       " 'contains(took)': False,\n",
       " 'contains(director)': False,\n",
       " 'contains(themselves)': False,\n",
       " 'contains(shows)': False,\n",
       " 'contains(might)': False,\n",
       " 'contains(ve)': False,\n",
       " 'contains(been)': False,\n",
       " 'contains(decent)': False,\n",
       " 'contains(here)': False,\n",
       " 'contains(somewhere)': False,\n",
       " 'contains(suits)': False,\n",
       " 'contains(decided)': False,\n",
       " 'contains(turning)': False,\n",
       " 'contains(music)': False,\n",
       " 'contains(video)': False,\n",
       " 'contains(edge)': False,\n",
       " 'contains(would)': False,\n",
       " 'contains(actors)': False,\n",
       " 'contains(although)': False,\n",
       " 'contains(wes)': False,\n",
       " 'contains(bentley)': False,\n",
       " 'contains(seemed)': False,\n",
       " 'contains(be)': False,\n",
       " 'contains(playing)': False,\n",
       " 'contains(exact)': False,\n",
       " 'contains(character)': False,\n",
       " 'contains(he)': False,\n",
       " 'contains(american)': False,\n",
       " 'contains(beauty)': False,\n",
       " 'contains(only)': False,\n",
       " 'contains(new)': False,\n",
       " 'contains(neighborhood)': False,\n",
       " 'contains(my)': False,\n",
       " 'contains(kudos)': False,\n",
       " 'contains(holds)': False,\n",
       " 'contains(own)': False,\n",
       " 'contains(entire)': False,\n",
       " 'contains(feeling)': False,\n",
       " 'contains(overall)': False,\n",
       " 'contains(doesn)': False,\n",
       " 'contains(stick)': False,\n",
       " 'contains(because)': False,\n",
       " 'contains(entertain)': False,\n",
       " 'contains(confusing)': False,\n",
       " 'contains(rarely)': False,\n",
       " 'contains(feels)': False,\n",
       " 'contains(redundant)': False,\n",
       " 'contains(runtime)': False,\n",
       " 'contains(despite)': False,\n",
       " 'contains(ending)': False,\n",
       " 'contains(explanation)': False,\n",
       " 'contains(came)': False,\n",
       " 'contains(oh)': False,\n",
       " 'contains(horror)': False,\n",
       " 'contains(slasher)': False,\n",
       " 'contains(flick)': False,\n",
       " 'contains(someone)': False,\n",
       " 'contains(assuming)': False,\n",
       " 'contains(genre)': False,\n",
       " 'contains(hot)': False,\n",
       " 'contains(kids)': False,\n",
       " 'contains(also)': False,\n",
       " 'contains(wrapped)': False,\n",
       " 'contains(production)': False,\n",
       " 'contains(years)': False,\n",
       " 'contains(ago)': False,\n",
       " 'contains(sitting)': False,\n",
       " 'contains(shelves)': False,\n",
       " 'contains(ever)': False,\n",
       " 'contains(whatever)': False,\n",
       " 'contains(skip)': False,\n",
       " 'contains(where)': False,\n",
       " 'contains(joblo)': False,\n",
       " 'contains(nightmare)': False,\n",
       " 'contains(elm)': False,\n",
       " 'contains(street)': False,\n",
       " 'contains(3)': False,\n",
       " 'contains(7)': False,\n",
       " 'contains(/)': False,\n",
       " 'contains(10)': False,\n",
       " 'contains(blair)': False,\n",
       " 'contains(witch)': False,\n",
       " 'contains(2)': False,\n",
       " 'contains(crow)': False,\n",
       " 'contains(9)': False,\n",
       " 'contains(salvation)': False,\n",
       " 'contains(4)': False,\n",
       " 'contains(stir)': False,\n",
       " 'contains(echoes)': False,\n",
       " 'contains(8)': False,\n",
       " 'contains(happy)': False,\n",
       " 'contains(bastard)': False,\n",
       " 'contains(quick)': False,\n",
       " 'contains(damn)': False,\n",
       " 'contains(bug)': False,\n",
       " 'contains(starring)': False,\n",
       " 'contains(jamie)': False,\n",
       " 'contains(lee)': False,\n",
       " 'contains(curtis)': False,\n",
       " 'contains(another)': False,\n",
       " 'contains(baldwin)': False,\n",
       " 'contains(brother)': False,\n",
       " 'contains(william)': False,\n",
       " 'contains(time)': False,\n",
       " 'contains(story)': False,\n",
       " 'contains(regarding)': False,\n",
       " 'contains(crew)': False,\n",
       " 'contains(comes)': False,\n",
       " 'contains(across)': False,\n",
       " 'contains(deserted)': False,\n",
       " 'contains(russian)': False,\n",
       " 'contains(tech)': False,\n",
       " 'contains(ship)': False,\n",
       " 'contains(kick)': False,\n",
       " 'contains(power)': False,\n",
       " 'contains(within)': False,\n",
       " 'contains(gore)': False,\n",
       " 'contains(bringing)': False,\n",
       " 'contains(few)': False,\n",
       " 'contains(action)': False,\n",
       " 'contains(sequences)': False,\n",
       " 'contains(virus)': False,\n",
       " 'contains(empty)': False,\n",
       " 'contains(flash)': False,\n",
       " 'contains(substance)': False,\n",
       " 'contains(why)': False,\n",
       " 'contains(was)': False,\n",
       " 'contains(middle)': False,\n",
       " 'contains(nowhere)': False,\n",
       " 'contains(origin)': False,\n",
       " 'contains(pink)': False,\n",
       " 'contains(flashy)': False,\n",
       " 'contains(thing)': False,\n",
       " 'contains(hit)': False,\n",
       " 'contains(mir)': False,\n",
       " 'contains(course)': False,\n",
       " 'contains(donald)': False,\n",
       " 'contains(sutherland)': False,\n",
       " 'contains(stumbling)': False,\n",
       " 'contains(around)': False,\n",
       " 'contains(hey)': False,\n",
       " 'contains(let)': False,\n",
       " 'contains(some)': False,\n",
       " 'contains(robots)': False,\n",
       " 'contains(acting)': False,\n",
       " 'contains(below)': False,\n",
       " 'contains(average)': False,\n",
       " 'contains(likes)': False,\n",
       " 'contains(re)': False,\n",
       " 'contains(likely)': False,\n",
       " 'contains(work)': False,\n",
       " 'contains(halloween)': False,\n",
       " 'contains(h20)': False,\n",
       " 'contains(wasted)': False,\n",
       " 'contains(real)': False,\n",
       " 'contains(star)': False,\n",
       " 'contains(stan)': False,\n",
       " 'contains(robot)': False,\n",
       " 'contains(design)': False,\n",
       " 'contains(cgi)': False,\n",
       " 'contains(occasional)': False,\n",
       " 'contains(shot)': False,\n",
       " 'contains(picking)': False,\n",
       " 'contains(brain)': False,\n",
       " 'contains(if)': False,\n",
       " 'contains(body)': False,\n",
       " 'contains(parts)': False,\n",
       " 'contains(turn)': False,\n",
       " 'contains(otherwise)': False,\n",
       " 'contains(much)': False,\n",
       " 'contains(jaded)': False,\n",
       " 'contains(viewer)': False,\n",
       " 'contains(thankful)': False,\n",
       " 'contains(invention)': False,\n",
       " 'contains(based)': False,\n",
       " 'contains(late)': False,\n",
       " 'contains(1960)': False,\n",
       " 'contains(television)': False,\n",
       " 'contains(show)': False,\n",
       " 'contains(name)': False,\n",
       " 'contains(mod)': False,\n",
       " 'contains(squad)': False,\n",
       " 'contains(tells)': False,\n",
       " 'contains(tale)': False,\n",
       " 'contains(three)': False,\n",
       " 'contains(reformed)': False,\n",
       " 'contains(criminals)': False,\n",
       " 'contains(under)': False,\n",
       " 'contains(employ)': False,\n",
       " 'contains(police)': False,\n",
       " 'contains(undercover)': False,\n",
       " 'contains(however)': False,\n",
       " 'contains(wrong)': False,\n",
       " 'contains(evidence)': False,\n",
       " 'contains(gets)': False,\n",
       " 'contains(stolen)': False,\n",
       " 'contains(immediately)': False,\n",
       " 'contains(suspicion)': False,\n",
       " 'contains(ads)': False,\n",
       " 'contains(cuts)': False,\n",
       " 'contains(claire)': False,\n",
       " 'contains(nice)': False,\n",
       " 'contains(hair)': False,\n",
       " 'contains(cute)': False,\n",
       " 'contains(outfits)': False,\n",
       " 'contains(car)': False,\n",
       " 'contains(chases)': False,\n",
       " 'contains(stuff)': False,\n",
       " 'contains(blowing)': False,\n",
       " 'contains(sounds)': False,\n",
       " 'contains(first)': False,\n",
       " 'contains(fifteen)': False,\n",
       " 'contains(quickly)': False,\n",
       " 'contains(becomes)': False,\n",
       " 'contains(apparent)': False,\n",
       " 'contains(certainly)': False,\n",
       " 'contains(slick)': False,\n",
       " 'contains(looking)': False,\n",
       " 'contains(complete)': False,\n",
       " 'contains(costumes)': False,\n",
       " 'contains(isn)': False,\n",
       " 'contains(enough)': False,\n",
       " 'contains(best)': False,\n",
       " 'contains(described)': False,\n",
       " 'contains(cross)': False,\n",
       " 'contains(between)': False,\n",
       " 'contains(hour)': False,\n",
       " 'contains(long)': False,\n",
       " 'contains(cop)': False,\n",
       " 'contains(stretched)': False,\n",
       " 'contains(span)': False,\n",
       " 'contains(single)': False,\n",
       " 'contains(clich)': False,\n",
       " 'contains(matter)': False,\n",
       " 'contains(elements)': False,\n",
       " 'contains(recycled)': False,\n",
       " 'contains(everything)': False,\n",
       " 'contains(already)': False,\n",
       " 'contains(seen)': False,\n",
       " 'contains(nothing)': False,\n",
       " 'contains(spectacular)': False,\n",
       " 'contains(sometimes)': False,\n",
       " 'contains(bordering)': False,\n",
       " 'contains(wooden)': False,\n",
       " 'contains(danes)': False,\n",
       " 'contains(omar)': False,\n",
       " 'contains(epps)': False,\n",
       " 'contains(deliver)': False,\n",
       " 'contains(their)': False,\n",
       " 'contains(lines)': False,\n",
       " 'contains(bored)': False,\n",
       " 'contains(onto)': False,\n",
       " 'contains(escape)': False,\n",
       " 'contains(relatively)': False,\n",
       " 'contains(unscathed)': False,\n",
       " 'contains(giovanni)': False,\n",
       " 'contains(ribisi)': False,\n",
       " 'contains(plays)': False,\n",
       " 'contains(resident)': False,\n",
       " 'contains(crazy)': False,\n",
       " 'contains(man)': False,\n",
       " 'contains(ultimately)': False,\n",
       " 'contains(being)': False,\n",
       " 'contains(worth)': False,\n",
       " 'contains(watching)': False,\n",
       " 'contains(unfortunately)': False,\n",
       " 'contains(save)': False,\n",
       " 'contains(convoluted)': False,\n",
       " 'contains(apart)': False,\n",
       " 'contains(screen)': False,\n",
       " 'contains(young)': False,\n",
       " 'contains(cast)': False,\n",
       " 'contains(clothes)': False,\n",
       " 'contains(hip)': False,\n",
       " 'contains(soundtrack)': False,\n",
       " 'contains(appears)': False,\n",
       " 'contains(geared)': False,\n",
       " 'contains(towards)': False,\n",
       " 'contains(teenage)': False,\n",
       " 'contains(mindset)': False,\n",
       " 'contains(r)': False,\n",
       " 'contains(rating)': False,\n",
       " 'contains(content)': False,\n",
       " 'contains(justify)': False,\n",
       " 'contains(juvenile)': False,\n",
       " 'contains(older)': False,\n",
       " 'contains(information)': False,\n",
       " 'contains(literally)': False,\n",
       " 'contains(spoon)': False,\n",
       " 'contains(hard)': False,\n",
       " 'contains(instead)': False,\n",
       " 'contains(telling)': False,\n",
       " 'contains(dialogue)': False,\n",
       " 'contains(poorly)': False,\n",
       " 'contains(written)': False,\n",
       " 'contains(extremely)': False,\n",
       " 'contains(predictable)': False,\n",
       " 'contains(progresses)': False,\n",
       " 'contains(won)': False,\n",
       " 'contains(care)': False,\n",
       " 'contains(heroes)': False,\n",
       " 'contains(any)': False,\n",
       " 'contains(jeopardy)': False,\n",
       " 'contains(ll)': False,\n",
       " 'contains(aren)': False,\n",
       " 'contains(nobody)': False,\n",
       " 'contains(remembers)': False,\n",
       " 'contains(questionable)': False,\n",
       " 'contains(wisdom)': False,\n",
       " 'contains(especially)': False,\n",
       " 'contains(considers)': False,\n",
       " 'contains(target)': False,\n",
       " 'contains(fact)': False,\n",
       " 'contains(number)': False,\n",
       " 'contains(memorable)': False,\n",
       " 'contains(can)': False,\n",
       " 'contains(counted)': False,\n",
       " 'contains(hand)': False,\n",
       " 'contains(missing)': False,\n",
       " 'contains(finger)': False,\n",
       " 'contains(times)': False,\n",
       " 'contains(checked)': False,\n",
       " 'contains(six)': False,\n",
       " 'contains(clear)': False,\n",
       " 'contains(indication)': False,\n",
       " 'contains(them)': False,\n",
       " 'contains(than)': False,\n",
       " 'contains(cash)': False,\n",
       " 'contains(spending)': False,\n",
       " 'contains(dollar)': False,\n",
       " 'contains(judging)': False,\n",
       " 'contains(rash)': False,\n",
       " 'contains(awful)': False,\n",
       " 'contains(seeing)': False,\n",
       " 'contains(avoid)': False,\n",
       " 'contains(at)': False,\n",
       " 'contains(costs)': False,\n",
       " 'contains(quest)': False,\n",
       " 'contains(camelot)': False,\n",
       " 'contains(warner)': False,\n",
       " 'contains(bros)': False,\n",
       " 'contains(feature)': False,\n",
       " 'contains(length)': False,\n",
       " 'contains(fully)': False,\n",
       " 'contains(animated)': False,\n",
       " 'contains(steal)': False,\n",
       " 'contains(clout)': False,\n",
       " 'contains(disney)': False,\n",
       " 'contains(cartoon)': False,\n",
       " 'contains(empire)': False,\n",
       " 'contains(mouse)': False,\n",
       " 'contains(reason)': False,\n",
       " 'contains(worried)': False,\n",
       " 'contains(other)': False,\n",
       " 'contains(recent)': False,\n",
       " 'contains(throne)': False,\n",
       " 'contains(last)': False,\n",
       " 'contains(fall)': False,\n",
       " 'contains(promising)': False,\n",
       " 'contains(flawed)': False,\n",
       " 'contains(20th)': False,\n",
       " 'contains(century)': False,\n",
       " 'contains(fox)': False,\n",
       " 'contains(anastasia)': False,\n",
       " 'contains(hercules)': False,\n",
       " 'contains(lively)': False,\n",
       " 'contains(colorful)': False,\n",
       " 'contains(had)': False,\n",
       " 'contains(beat)': False,\n",
       " 'contains(hands)': False,\n",
       " 'contains(crown)': False,\n",
       " 'contains(1997)': False,\n",
       " 'contains(piece)': False,\n",
       " 'contains(animation)': False,\n",
       " 'contains(year)': False,\n",
       " 'contains(contest)': False,\n",
       " 'contains(arrival)': False,\n",
       " 'contains(magic)': False,\n",
       " 'contains(kingdom)': False,\n",
       " 'contains(mediocre)': False,\n",
       " 'contains(--)': False,\n",
       " 'contains(d)': False,\n",
       " 'contains(pocahontas)': False,\n",
       " 'contains(those)': False,\n",
       " 'contains(keeping)': False,\n",
       " 'contains(score)': False,\n",
       " 'contains(nearly)': False,\n",
       " 'contains(dull)': False,\n",
       " 'contains(revolves)': False,\n",
       " 'contains(adventures)': False,\n",
       " 'contains(free)': False,\n",
       " 'contains(spirited)': False,\n",
       " 'contains(voiced)': False,\n",
       " 'contains(early)': False,\n",
       " 'contains(daughter)': False,\n",
       " 'contains(knight)': False,\n",
       " 'contains(king)': False,\n",
       " 'contains(arthur)': False,\n",
       " 'contains(round)': False,\n",
       " 'contains(table)': False,\n",
       " 'contains(dream)': False,\n",
       " 'contains(follow)': False,\n",
       " 'contains(father)': False,\n",
       " 'contains(footsteps)': False,\n",
       " 'contains(she)': False,\n",
       " 'contains(chance)': False,\n",
       " 'contains(evil)': False,\n",
       " 'contains(gary)': False,\n",
       " 'contains(oldman)': False,\n",
       " 'contains(ex)': False,\n",
       " 'contains(gone)': False,\n",
       " 'contains(steals)': False,\n",
       " 'contains(magical)': False,\n",
       " 'contains(sword)': False,\n",
       " 'contains(accidentally)': False,\n",
       " 'contains(loses)': False,\n",
       " 'contains(dangerous)': False,\n",
       " 'contains(trapped)': False,\n",
       " 'contains(forest)': False,\n",
       " 'contains(help)': False,\n",
       " 'contains(hunky)': False,\n",
       " 'contains(blind)': False,\n",
       " 'contains(garrett)': False,\n",
       " 'contains(carey)': False,\n",
       " 'contains(elwes)': False,\n",
       " 'contains(headed)': False,\n",
       " 'contains(dragon)': False,\n",
       " 'contains(eric)': False,\n",
       " 'contains(idle)': False,\n",
       " 'contains(arguing)': False,\n",
       " 'contains(itself)': False,\n",
       " 'contains(able)': False,\n",
       " 'contains(medieval)': False,\n",
       " 'contains(sexist)': False,\n",
       " 'contains(prove)': False,\n",
       " 'contains(fighter)': False,\n",
       " 'contains(side)': False,\n",
       " 'contains(pure)': False,\n",
       " 'contains(essential)': False,\n",
       " 'contains(element)': False,\n",
       " 'contains(expected)': False,\n",
       " 'contains(climb)': False,\n",
       " 'contains(high)': False,\n",
       " 'contains(ranks)': False,\n",
       " 'contains(something)': False,\n",
       " 'contains(saturday)': False,\n",
       " 'contains(morning)': False,\n",
       " 'contains(instantly)': False,\n",
       " 'contains(forgettable)': False,\n",
       " 'contains(songs)': False,\n",
       " 'contains(integrated)': False,\n",
       " 'contains(footage)': False,\n",
       " 'contains(compare)': False,\n",
       " 'contains(run)': False,\n",
       " 'contains(angry)': False,\n",
       " 'contains(ogre)': False,\n",
       " 'contains(battle)': False,\n",
       " 'contains(rest)': False,\n",
       " 'contains(case)': False,\n",
       " 'contains(none)': False,\n",
       " 'contains(remotely)': False,\n",
       " 'contains(interesting)': False,\n",
       " 'contains(race)': False,\n",
       " 'contains(bland)': False,\n",
       " 'contains(end)': False,\n",
       " 'contains(tie)': False,\n",
       " 'contains(win)': False,\n",
       " 'contains(comedy)': False,\n",
       " 'contains(shtick)': False,\n",
       " 'contains(awfully)': False,\n",
       " 'contains(least)': False,\n",
       " 'contains(signs)': False,\n",
       " 'contains(pulse)': False,\n",
       " 'contains(fans)': False,\n",
       " 'contains(90s)': False,\n",
       " 'contains(will)': False,\n",
       " 'contains(thrilled)': False,\n",
       " 'contains(white)': False,\n",
       " 'contains(bronson)': False,\n",
       " 'contains(sharing)': False,\n",
       " 'contains(nicely)': False,\n",
       " 'contains(realized)': False,\n",
       " 'contains(though)': False,\n",
       " 'contains(m)': False,\n",
       " 'contains(loss)': False,\n",
       " 'contains(recall)': False,\n",
       " 'contains(specific)': False,\n",
       " 'contains(providing)': False,\n",
       " 'contains(voice)': False,\n",
       " 'contains(talent)': False,\n",
       " 'contains(enthusiastic)': False,\n",
       " 'contains(paired)': False,\n",
       " 'contains(singers)': False,\n",
       " 'contains(sound)': False,\n",
       " 'contains(musical)': False,\n",
       " 'contains(moments)': False,\n",
       " 'contains(jane)': False,\n",
       " 'contains(seymour)': False,\n",
       " 'contains(celine)': False,\n",
       " 'contains(must)': False,\n",
       " 'contains(strain)': False,\n",
       " 'contains(through)': False,\n",
       " 'contains(aside)': False,\n",
       " 'contains(children)': False,\n",
       " 'contains(probably)': False,\n",
       " 'contains(adults)': False,\n",
       " 'contains(error)': False,\n",
       " 'contains(lack)': False,\n",
       " 'contains(personality)': False,\n",
       " 'contains(learn)': False,\n",
       " 'contains(goes)': False,\n",
       " 'contains(synopsis)': False,\n",
       " 'contains(mentally)': False,\n",
       " 'contains(unstable)': False,\n",
       " 'contains(saves)': False,\n",
       " 'contains(boy)': False,\n",
       " 'contains(potentially)': False,\n",
       " 'contains(fatal)': False,\n",
       " 'contains(falls)': False,\n",
       " 'contains(love)': False,\n",
       " 'contains(mother)': False,\n",
       " 'contains(fledgling)': False,\n",
       " 'contains(unsuccessfully)': False,\n",
       " 'contains(attempting)': False,\n",
       " 'contains(gain)': False,\n",
       " 'contains(woman)': False,\n",
       " 'contains(favor)': False,\n",
       " 'contains(takes)': False,\n",
       " 'contains(pictures)': False,\n",
       " 'contains(kills)': False,\n",
       " 'contains(comments)': False,\n",
       " 'contains(stalked)': False,\n",
       " 'contains(yet)': False,\n",
       " 'contains(seemingly)': False,\n",
       " 'contains(endless)': False,\n",
       " 'contains(string)': False,\n",
       " 'contains(getting)': False,\n",
       " 'contains(revenge)': False,\n",
       " 'contains(type)': False,\n",
       " 'contains(stable)': False,\n",
       " 'contains(category)': False,\n",
       " 'contains(1990s)': False,\n",
       " 'contains(industry)': False,\n",
       " 'contains(theatrical)': False,\n",
       " 'contains(direct)': False,\n",
       " 'contains(may)': False,\n",
       " 'contains(due)': False,\n",
       " 'contains(typically)': False,\n",
       " 'contains(produce)': False,\n",
       " 'contains(special)': False,\n",
       " 'contains(effects)': False,\n",
       " 'contains(stars)': False,\n",
       " 'contains(serve)': False,\n",
       " 'contains(vehicles)': False,\n",
       " 'contains(nudity)': False,\n",
       " 'contains(allowing)': False,\n",
       " 'contains(frequent)': False,\n",
       " 'contains(night)': False,\n",
       " 'contains(cable)': False,\n",
       " 'contains(slightly)': False,\n",
       " 'contains(norm)': False,\n",
       " 'contains(respect)': False,\n",
       " 'contains(psycho)': False,\n",
       " 'contains(never)': False,\n",
       " 'contains(affair)': False,\n",
       " 'contains(;)': False,\n",
       " 'contains(contrary)': False,\n",
       " 'contains(rejected)': False,\n",
       " 'contains(rather)': False,\n",
       " 'contains(lover)': False,\n",
       " 'contains(wife)': False,\n",
       " 'contains(husband)': False,\n",
       " 'contains(entry)': False,\n",
       " 'contains(doomed)': False,\n",
       " 'contains(collect)': False,\n",
       " 'contains(dust)': False,\n",
       " 'contains(viewed)': False,\n",
       " 'contains(midnight)': False,\n",
       " 'contains(provide)': False,\n",
       " 'contains(suspense)': False,\n",
       " 'contains(sets)': False,\n",
       " 'contains(opening)': False,\n",
       " 'contains(credits)': False,\n",
       " 'contains(instance)': False,\n",
       " 'contains(serious)': False,\n",
       " 'contains(sounding)': False,\n",
       " 'contains(narrator)': False,\n",
       " 'contains(ponders)': False,\n",
       " 'contains(cause)': False,\n",
       " 'contains(implied)': False,\n",
       " 'contains(men)': False,\n",
       " 'contains(shown)': False,\n",
       " 'contains(actor)': False,\n",
       " 'contains(jay)': False,\n",
       " 'contains(underwood)': False,\n",
       " 'contains(states)': False,\n",
       " 'contains(daryl)': False,\n",
       " 'contains(stalker)': False,\n",
       " 'contains(brooke)': False,\n",
       " 'contains(daniels)': False,\n",
       " 'contains(meant)': False,\n",
       " 'contains(called)': False,\n",
       " 'contains(required)': False,\n",
       " 'contains(proceeds)': False,\n",
       " 'contains(begins)': False,\n",
       " 'contains(obvious)': False,\n",
       " 'contains(sequence)': False,\n",
       " 'contains(contrived)': False,\n",
       " 'contains(quite)': False,\n",
       " 'contains(brings)': False,\n",
       " 'contains(victim)': False,\n",
       " 'contains(together)': False,\n",
       " 'contains(follows)': False,\n",
       " 'contains(tries)': False,\n",
       " 'contains(woo)': False,\n",
       " 'contains(plans)': False,\n",
       " 'contains(become)': False,\n",
       " 'contains(desperate)': False,\n",
       " 'contains(elaborate)': False,\n",
       " 'contains(include)': False,\n",
       " 'contains(cliche)': False,\n",
       " 'contains(murdered)': False,\n",
       " 'contains(pet)': False,\n",
       " 'contains(require)': False,\n",
       " 'contains(found)': False,\n",
       " 'contains(exception)': False,\n",
       " 'contains(cat)': False,\n",
       " 'contains(shower)': False,\n",
       " 'contains(events)': False,\n",
       " 'contains(lead)': False,\n",
       " 'contains(inevitable)': False,\n",
       " 'contains(showdown)': False,\n",
       " 'contains(survives)': False,\n",
       " 'contains(invariably)': False,\n",
       " 'contains(conclusion)': False,\n",
       " 'contains(turkey)': False,\n",
       " 'contains(uniformly)': False,\n",
       " 'contains(adequate)': False,\n",
       " 'contains(anything)': False,\n",
       " 'contains(home)': False,\n",
       " 'contains(either)': False,\n",
       " 'contains(turns)': False,\n",
       " 'contains(toward)': False,\n",
       " 'contains(melodrama)': False,\n",
       " 'contains(words)': False,\n",
       " 'contains(manages)': False,\n",
       " 'contains(creepy)': False,\n",
       " 'contains(pass)': False,\n",
       " 'contains(demands)': False,\n",
       " 'contains(close)': False,\n",
       " 'contains(played)': False,\n",
       " 'contains(bond)': False,\n",
       " 'contains(chick)': False,\n",
       " 'contains(living)': False,\n",
       " 'contains(equally)': False,\n",
       " 'contains(title)': False,\n",
       " 'contains(ditzy)': False,\n",
       " 'contains(strong)': False,\n",
       " 'contains(independent)': False,\n",
       " 'contains(business)': False,\n",
       " 'contains(owner)': False,\n",
       " 'contains(needs)': False,\n",
       " 'contains(proceed)': False,\n",
       " 'contains(example)': False,\n",
       " 'contains(ensure)': False,\n",
       " 'contains(use)': False,\n",
       " 'contains(excuse)': False,\n",
       " 'contains(decides)': False,\n",
       " 'contains(return)': False,\n",
       " 'contains(left)': False,\n",
       " 'contains(place)': False,\n",
       " 'contains(house)': False,\n",
       " 'contains(leave)': False,\n",
       " 'contains(door)': False,\n",
       " 'contains(answers)': False,\n",
       " 'contains(opens)': False,\n",
       " 'contains(wanders)': False,\n",
       " 'contains(returns)': False,\n",
       " 'contains(enters)': False,\n",
       " 'contains(our)': False,\n",
       " 'contains(heroine)': False,\n",
       " 'contains(danger)': False,\n",
       " 'contains(somehow)': False,\n",
       " 'contains(front)': False,\n",
       " 'contains(right)': False,\n",
       " 'contains(oblivious)': False,\n",
       " 'contains(presence)': False,\n",
       " 'contains(inside)': False,\n",
       " 'contains(whole)': False,\n",
       " 'contains(episode)': False,\n",
       " 'contains(places)': False,\n",
       " 'contains(incredible)': False,\n",
       " 'contains(suspension)': False,\n",
       " 'contains(disbelief)': False,\n",
       " 'contains(questions)': False,\n",
       " 'contains(intelligence)': False,\n",
       " 'contains(receives)': False,\n",
       " 'contains(highly)': False,\n",
       " 'contains(derivative)': False,\n",
       " 'contains(somewhat)': False,\n",
       " 'contains(boring)': False,\n",
       " 'contains(cannot)': False,\n",
       " 'contains(watched)': False,\n",
       " 'contains(rated)': False,\n",
       " 'contains(mostly)': False,\n",
       " 'contains(several)': False,\n",
       " 'contains(murder)': False,\n",
       " 'contains(brief)': False,\n",
       " 'contains(strip)': False,\n",
       " 'contains(bar)': False,\n",
       " 'contains(offensive)': False,\n",
       " 'contains(many)': False,\n",
       " 'contains(thrillers)': False,\n",
       " 'contains(mood)': False,\n",
       " 'contains(stake)': False,\n",
       " 'contains(else)': False,\n",
       " 'contains(capsule)': False,\n",
       " 'contains(planet)': False,\n",
       " 'contains(mars)': False,\n",
       " 'contains(taking)': False,\n",
       " 'contains(custody)': False,\n",
       " 'contains(accused)': False,\n",
       " 'contains(murderer)': False,\n",
       " 'contains(face)': False,\n",
       " 'contains(menace)': False,\n",
       " 'contains(lot)': False,\n",
       " 'contains(fighting)': False,\n",
       " 'contains(john)': False,\n",
       " 'contains(carpenter)': False,\n",
       " 'contains(reprises)': False,\n",
       " 'contains(ideas)': False,\n",
       " 'contains(previous)': False,\n",
       " 'contains(assault)': False,\n",
       " 'contains(precinct)': False,\n",
       " 'contains(13)': False,\n",
       " 'contains(homage)': False,\n",
       " 'contains(himself)': False,\n",
       " 'contains(0)': False,\n",
       " 'contains(+)': False,\n",
       " 'contains(believes)': False,\n",
       " 'contains(fight)': False,\n",
       " 'contains(horrible)': True,\n",
       " 'contains(writer)': False,\n",
       " 'contains(supposedly)': False,\n",
       " 'contains(expert)': False,\n",
       " 'contains(mistake)': False,\n",
       " 'contains(ghosts)': False,\n",
       " ...}"
      ]
     },
     "execution_count": 79,
     "metadata": {},
     "output_type": "execute_result"
    }
   ],
   "source": [
    "#document_features(['This', 'is', 'a', 'horrible', 'movie'])"
   ]
  },
  {
   "cell_type": "code",
   "execution_count": 80,
   "metadata": {
    "editable": true,
    "slideshow": {
     "slide_type": "fragment"
    },
    "tags": []
   },
   "outputs": [
    {
     "data": {
      "text/plain": [
       "{'contains(plot)': True,\n",
       " 'contains(:)': True,\n",
       " 'contains(two)': True,\n",
       " 'contains(teen)': False,\n",
       " 'contains(couples)': False,\n",
       " 'contains(go)': False,\n",
       " 'contains(to)': True,\n",
       " 'contains(a)': True,\n",
       " 'contains(church)': False,\n",
       " 'contains(party)': False,\n",
       " 'contains(,)': True,\n",
       " 'contains(drink)': False,\n",
       " 'contains(and)': True,\n",
       " 'contains(then)': True,\n",
       " 'contains(drive)': False,\n",
       " 'contains(.)': True,\n",
       " 'contains(they)': True,\n",
       " 'contains(get)': True,\n",
       " 'contains(into)': True,\n",
       " 'contains(an)': True,\n",
       " 'contains(accident)': False,\n",
       " 'contains(one)': True,\n",
       " 'contains(of)': True,\n",
       " 'contains(the)': True,\n",
       " 'contains(guys)': False,\n",
       " 'contains(dies)': False,\n",
       " 'contains(but)': True,\n",
       " 'contains(his)': True,\n",
       " 'contains(girlfriend)': True,\n",
       " 'contains(continues)': False,\n",
       " 'contains(see)': False,\n",
       " 'contains(him)': True,\n",
       " 'contains(in)': True,\n",
       " 'contains(her)': False,\n",
       " 'contains(life)': False,\n",
       " 'contains(has)': True,\n",
       " 'contains(nightmares)': False,\n",
       " 'contains(what)': True,\n",
       " \"contains(')\": True,\n",
       " 'contains(s)': True,\n",
       " 'contains(deal)': False,\n",
       " 'contains(?)': False,\n",
       " 'contains(watch)': True,\n",
       " 'contains(movie)': True,\n",
       " 'contains(\")': True,\n",
       " 'contains(sorta)': False,\n",
       " 'contains(find)': False,\n",
       " 'contains(out)': True,\n",
       " 'contains(critique)': False,\n",
       " 'contains(mind)': False,\n",
       " 'contains(-)': True,\n",
       " 'contains(fuck)': False,\n",
       " 'contains(for)': True,\n",
       " 'contains(generation)': False,\n",
       " 'contains(that)': True,\n",
       " 'contains(touches)': False,\n",
       " 'contains(on)': True,\n",
       " 'contains(very)': True,\n",
       " 'contains(cool)': False,\n",
       " 'contains(idea)': True,\n",
       " 'contains(presents)': False,\n",
       " 'contains(it)': True,\n",
       " 'contains(bad)': False,\n",
       " 'contains(package)': False,\n",
       " 'contains(which)': True,\n",
       " 'contains(is)': True,\n",
       " 'contains(makes)': False,\n",
       " 'contains(this)': True,\n",
       " 'contains(review)': False,\n",
       " 'contains(even)': False,\n",
       " 'contains(harder)': False,\n",
       " 'contains(write)': False,\n",
       " 'contains(since)': False,\n",
       " 'contains(i)': False,\n",
       " 'contains(generally)': False,\n",
       " 'contains(applaud)': False,\n",
       " 'contains(films)': False,\n",
       " 'contains(attempt)': False,\n",
       " 'contains(break)': False,\n",
       " 'contains(mold)': False,\n",
       " 'contains(mess)': False,\n",
       " 'contains(with)': True,\n",
       " 'contains(your)': False,\n",
       " 'contains(head)': False,\n",
       " 'contains(such)': False,\n",
       " 'contains(()': True,\n",
       " 'contains(lost)': False,\n",
       " 'contains(highway)': False,\n",
       " 'contains(&)': False,\n",
       " 'contains(memento)': False,\n",
       " 'contains())': True,\n",
       " 'contains(there)': True,\n",
       " 'contains(are)': True,\n",
       " 'contains(good)': False,\n",
       " 'contains(ways)': False,\n",
       " 'contains(making)': True,\n",
       " 'contains(all)': True,\n",
       " 'contains(types)': False,\n",
       " 'contains(these)': False,\n",
       " 'contains(folks)': False,\n",
       " 'contains(just)': True,\n",
       " 'contains(didn)': False,\n",
       " 'contains(t)': False,\n",
       " 'contains(correctly)': False,\n",
       " 'contains(seem)': False,\n",
       " 'contains(have)': True,\n",
       " 'contains(taken)': False,\n",
       " 'contains(pretty)': False,\n",
       " 'contains(neat)': False,\n",
       " 'contains(concept)': False,\n",
       " 'contains(executed)': False,\n",
       " 'contains(terribly)': False,\n",
       " 'contains(so)': False,\n",
       " 'contains(problems)': True,\n",
       " 'contains(well)': True,\n",
       " 'contains(its)': False,\n",
       " 'contains(main)': False,\n",
       " 'contains(problem)': False,\n",
       " 'contains(simply)': False,\n",
       " 'contains(too)': False,\n",
       " 'contains(jumbled)': False,\n",
       " 'contains(starts)': False,\n",
       " 'contains(off)': False,\n",
       " 'contains(normal)': False,\n",
       " 'contains(fantasy)': False,\n",
       " 'contains(world)': True,\n",
       " 'contains(you)': True,\n",
       " 'contains(as)': True,\n",
       " 'contains(audience)': False,\n",
       " 'contains(member)': False,\n",
       " 'contains(no)': False,\n",
       " 'contains(going)': False,\n",
       " 'contains(dreams)': False,\n",
       " 'contains(characters)': False,\n",
       " 'contains(coming)': False,\n",
       " 'contains(back)': False,\n",
       " 'contains(from)': True,\n",
       " 'contains(dead)': False,\n",
       " 'contains(others)': True,\n",
       " 'contains(who)': True,\n",
       " 'contains(look)': True,\n",
       " 'contains(like)': True,\n",
       " 'contains(strange)': False,\n",
       " 'contains(chase)': True,\n",
       " 'contains(scenes)': False,\n",
       " 'contains(tons)': False,\n",
       " 'contains(weird)': False,\n",
       " 'contains(things)': True,\n",
       " 'contains(happen)': False,\n",
       " 'contains(most)': True,\n",
       " 'contains(not)': True,\n",
       " 'contains(explained)': False,\n",
       " 'contains(now)': False,\n",
       " 'contains(personally)': False,\n",
       " 'contains(don)': False,\n",
       " 'contains(trying)': False,\n",
       " 'contains(unravel)': False,\n",
       " 'contains(film)': False,\n",
       " 'contains(every)': False,\n",
       " 'contains(when)': True,\n",
       " 'contains(does)': False,\n",
       " 'contains(give)': False,\n",
       " 'contains(me)': True,\n",
       " 'contains(same)': True,\n",
       " 'contains(clue)': False,\n",
       " 'contains(over)': False,\n",
       " 'contains(again)': False,\n",
       " 'contains(kind)': True,\n",
       " 'contains(fed)': False,\n",
       " 'contains(up)': False,\n",
       " 'contains(after)': False,\n",
       " 'contains(while)': True,\n",
       " 'contains(biggest)': False,\n",
       " 'contains(obviously)': False,\n",
       " 'contains(got)': True,\n",
       " 'contains(big)': False,\n",
       " 'contains(secret)': False,\n",
       " 'contains(hide)': False,\n",
       " 'contains(seems)': False,\n",
       " 'contains(want)': False,\n",
       " 'contains(completely)': False,\n",
       " 'contains(until)': False,\n",
       " 'contains(final)': False,\n",
       " 'contains(five)': False,\n",
       " 'contains(minutes)': False,\n",
       " 'contains(do)': True,\n",
       " 'contains(make)': True,\n",
       " 'contains(entertaining)': False,\n",
       " 'contains(thrilling)': False,\n",
       " 'contains(or)': False,\n",
       " 'contains(engaging)': False,\n",
       " 'contains(meantime)': False,\n",
       " 'contains(really)': False,\n",
       " 'contains(sad)': False,\n",
       " 'contains(part)': False,\n",
       " 'contains(arrow)': False,\n",
       " 'contains(both)': False,\n",
       " 'contains(dig)': False,\n",
       " 'contains(flicks)': False,\n",
       " 'contains(we)': False,\n",
       " 'contains(actually)': True,\n",
       " 'contains(figured)': False,\n",
       " 'contains(by)': True,\n",
       " 'contains(half)': False,\n",
       " 'contains(way)': True,\n",
       " 'contains(point)': False,\n",
       " 'contains(strangeness)': False,\n",
       " 'contains(did)': False,\n",
       " 'contains(start)': True,\n",
       " 'contains(little)': True,\n",
       " 'contains(bit)': False,\n",
       " 'contains(sense)': False,\n",
       " 'contains(still)': False,\n",
       " 'contains(more)': False,\n",
       " 'contains(guess)': False,\n",
       " 'contains(bottom)': False,\n",
       " 'contains(line)': False,\n",
       " 'contains(movies)': True,\n",
       " 'contains(should)': False,\n",
       " 'contains(always)': False,\n",
       " 'contains(sure)': False,\n",
       " 'contains(before)': False,\n",
       " 'contains(given)': False,\n",
       " 'contains(enter)': False,\n",
       " 'contains(understanding)': False,\n",
       " 'contains(mean)': False,\n",
       " 'contains(showing)': False,\n",
       " 'contains(melissa)': False,\n",
       " 'contains(sagemiller)': False,\n",
       " 'contains(running)': False,\n",
       " 'contains(away)': False,\n",
       " 'contains(visions)': False,\n",
       " 'contains(about)': True,\n",
       " 'contains(20)': False,\n",
       " 'contains(throughout)': False,\n",
       " 'contains(plain)': False,\n",
       " 'contains(lazy)': False,\n",
       " 'contains(!)': True,\n",
       " 'contains(okay)': False,\n",
       " 'contains(people)': False,\n",
       " 'contains(chasing)': False,\n",
       " 'contains(know)': False,\n",
       " 'contains(need)': False,\n",
       " 'contains(how)': True,\n",
       " 'contains(giving)': False,\n",
       " 'contains(us)': True,\n",
       " 'contains(different)': False,\n",
       " 'contains(offering)': False,\n",
       " 'contains(further)': False,\n",
       " 'contains(insight)': False,\n",
       " 'contains(down)': False,\n",
       " 'contains(apparently)': False,\n",
       " 'contains(studio)': False,\n",
       " 'contains(took)': False,\n",
       " 'contains(director)': False,\n",
       " 'contains(themselves)': False,\n",
       " 'contains(shows)': False,\n",
       " 'contains(might)': False,\n",
       " 'contains(ve)': False,\n",
       " 'contains(been)': False,\n",
       " 'contains(decent)': False,\n",
       " 'contains(here)': True,\n",
       " 'contains(somewhere)': False,\n",
       " 'contains(suits)': False,\n",
       " 'contains(decided)': False,\n",
       " 'contains(turning)': False,\n",
       " 'contains(music)': False,\n",
       " 'contains(video)': False,\n",
       " 'contains(edge)': False,\n",
       " 'contains(would)': False,\n",
       " 'contains(actors)': False,\n",
       " 'contains(although)': False,\n",
       " 'contains(wes)': False,\n",
       " 'contains(bentley)': False,\n",
       " 'contains(seemed)': False,\n",
       " 'contains(be)': True,\n",
       " 'contains(playing)': True,\n",
       " 'contains(exact)': False,\n",
       " 'contains(character)': False,\n",
       " 'contains(he)': True,\n",
       " 'contains(american)': False,\n",
       " 'contains(beauty)': False,\n",
       " 'contains(only)': True,\n",
       " 'contains(new)': False,\n",
       " 'contains(neighborhood)': False,\n",
       " 'contains(my)': False,\n",
       " 'contains(kudos)': False,\n",
       " 'contains(holds)': False,\n",
       " 'contains(own)': True,\n",
       " 'contains(entire)': False,\n",
       " 'contains(feeling)': False,\n",
       " 'contains(overall)': False,\n",
       " 'contains(doesn)': False,\n",
       " 'contains(stick)': False,\n",
       " 'contains(because)': False,\n",
       " 'contains(entertain)': False,\n",
       " 'contains(confusing)': False,\n",
       " 'contains(rarely)': False,\n",
       " 'contains(feels)': False,\n",
       " 'contains(redundant)': False,\n",
       " 'contains(runtime)': False,\n",
       " 'contains(despite)': False,\n",
       " 'contains(ending)': False,\n",
       " 'contains(explanation)': False,\n",
       " 'contains(came)': False,\n",
       " 'contains(oh)': False,\n",
       " 'contains(horror)': False,\n",
       " 'contains(slasher)': False,\n",
       " 'contains(flick)': False,\n",
       " 'contains(someone)': False,\n",
       " 'contains(assuming)': False,\n",
       " 'contains(genre)': False,\n",
       " 'contains(hot)': False,\n",
       " 'contains(kids)': False,\n",
       " 'contains(also)': True,\n",
       " 'contains(wrapped)': False,\n",
       " 'contains(production)': False,\n",
       " 'contains(years)': False,\n",
       " 'contains(ago)': False,\n",
       " 'contains(sitting)': False,\n",
       " 'contains(shelves)': False,\n",
       " 'contains(ever)': True,\n",
       " 'contains(whatever)': False,\n",
       " 'contains(skip)': False,\n",
       " 'contains(where)': True,\n",
       " 'contains(joblo)': False,\n",
       " 'contains(nightmare)': False,\n",
       " 'contains(elm)': False,\n",
       " 'contains(street)': False,\n",
       " 'contains(3)': False,\n",
       " 'contains(7)': False,\n",
       " 'contains(/)': False,\n",
       " 'contains(10)': False,\n",
       " 'contains(blair)': False,\n",
       " 'contains(witch)': False,\n",
       " 'contains(2)': False,\n",
       " 'contains(crow)': False,\n",
       " 'contains(9)': False,\n",
       " 'contains(salvation)': False,\n",
       " 'contains(4)': False,\n",
       " 'contains(stir)': False,\n",
       " 'contains(echoes)': False,\n",
       " 'contains(8)': False,\n",
       " 'contains(happy)': False,\n",
       " 'contains(bastard)': False,\n",
       " 'contains(quick)': True,\n",
       " 'contains(damn)': False,\n",
       " 'contains(bug)': False,\n",
       " 'contains(starring)': False,\n",
       " 'contains(jamie)': False,\n",
       " 'contains(lee)': False,\n",
       " 'contains(curtis)': False,\n",
       " 'contains(another)': False,\n",
       " 'contains(baldwin)': False,\n",
       " 'contains(brother)': False,\n",
       " 'contains(william)': False,\n",
       " 'contains(time)': False,\n",
       " 'contains(story)': False,\n",
       " 'contains(regarding)': False,\n",
       " 'contains(crew)': False,\n",
       " 'contains(comes)': False,\n",
       " 'contains(across)': False,\n",
       " 'contains(deserted)': False,\n",
       " 'contains(russian)': False,\n",
       " 'contains(tech)': False,\n",
       " 'contains(ship)': False,\n",
       " 'contains(kick)': False,\n",
       " 'contains(power)': False,\n",
       " 'contains(within)': False,\n",
       " 'contains(gore)': False,\n",
       " 'contains(bringing)': False,\n",
       " 'contains(few)': False,\n",
       " 'contains(action)': True,\n",
       " 'contains(sequences)': False,\n",
       " 'contains(virus)': False,\n",
       " 'contains(empty)': False,\n",
       " 'contains(flash)': False,\n",
       " 'contains(substance)': False,\n",
       " 'contains(why)': False,\n",
       " 'contains(was)': False,\n",
       " 'contains(middle)': False,\n",
       " 'contains(nowhere)': False,\n",
       " 'contains(origin)': False,\n",
       " 'contains(pink)': False,\n",
       " 'contains(flashy)': False,\n",
       " 'contains(thing)': False,\n",
       " 'contains(hit)': False,\n",
       " 'contains(mir)': False,\n",
       " 'contains(course)': True,\n",
       " 'contains(donald)': False,\n",
       " 'contains(sutherland)': False,\n",
       " 'contains(stumbling)': False,\n",
       " 'contains(around)': False,\n",
       " 'contains(hey)': False,\n",
       " 'contains(let)': False,\n",
       " 'contains(some)': False,\n",
       " 'contains(robots)': False,\n",
       " 'contains(acting)': False,\n",
       " 'contains(below)': False,\n",
       " 'contains(average)': False,\n",
       " 'contains(likes)': False,\n",
       " 'contains(re)': True,\n",
       " 'contains(likely)': False,\n",
       " 'contains(work)': False,\n",
       " 'contains(halloween)': False,\n",
       " 'contains(h20)': False,\n",
       " 'contains(wasted)': False,\n",
       " 'contains(real)': False,\n",
       " 'contains(star)': False,\n",
       " 'contains(stan)': False,\n",
       " 'contains(robot)': False,\n",
       " 'contains(design)': False,\n",
       " 'contains(cgi)': False,\n",
       " 'contains(occasional)': False,\n",
       " 'contains(shot)': False,\n",
       " 'contains(picking)': False,\n",
       " 'contains(brain)': False,\n",
       " 'contains(if)': True,\n",
       " 'contains(body)': False,\n",
       " 'contains(parts)': False,\n",
       " 'contains(turn)': False,\n",
       " 'contains(otherwise)': False,\n",
       " 'contains(much)': False,\n",
       " 'contains(jaded)': False,\n",
       " 'contains(viewer)': False,\n",
       " 'contains(thankful)': False,\n",
       " 'contains(invention)': False,\n",
       " 'contains(based)': False,\n",
       " 'contains(late)': False,\n",
       " 'contains(1960)': False,\n",
       " 'contains(television)': False,\n",
       " 'contains(show)': False,\n",
       " 'contains(name)': False,\n",
       " 'contains(mod)': False,\n",
       " 'contains(squad)': False,\n",
       " 'contains(tells)': False,\n",
       " 'contains(tale)': False,\n",
       " 'contains(three)': False,\n",
       " 'contains(reformed)': False,\n",
       " 'contains(criminals)': False,\n",
       " 'contains(under)': False,\n",
       " 'contains(employ)': False,\n",
       " 'contains(police)': False,\n",
       " 'contains(undercover)': True,\n",
       " 'contains(however)': True,\n",
       " 'contains(wrong)': True,\n",
       " 'contains(evidence)': False,\n",
       " 'contains(gets)': True,\n",
       " 'contains(stolen)': False,\n",
       " 'contains(immediately)': False,\n",
       " 'contains(suspicion)': False,\n",
       " 'contains(ads)': False,\n",
       " 'contains(cuts)': False,\n",
       " 'contains(claire)': False,\n",
       " 'contains(nice)': False,\n",
       " 'contains(hair)': False,\n",
       " 'contains(cute)': False,\n",
       " 'contains(outfits)': False,\n",
       " 'contains(car)': False,\n",
       " 'contains(chases)': False,\n",
       " 'contains(stuff)': False,\n",
       " 'contains(blowing)': False,\n",
       " 'contains(sounds)': False,\n",
       " 'contains(first)': False,\n",
       " 'contains(fifteen)': False,\n",
       " 'contains(quickly)': False,\n",
       " 'contains(becomes)': False,\n",
       " 'contains(apparent)': False,\n",
       " 'contains(certainly)': False,\n",
       " 'contains(slick)': False,\n",
       " 'contains(looking)': False,\n",
       " 'contains(complete)': False,\n",
       " 'contains(costumes)': False,\n",
       " 'contains(isn)': False,\n",
       " 'contains(enough)': False,\n",
       " 'contains(best)': True,\n",
       " 'contains(described)': False,\n",
       " 'contains(cross)': False,\n",
       " 'contains(between)': True,\n",
       " 'contains(hour)': False,\n",
       " 'contains(long)': False,\n",
       " 'contains(cop)': False,\n",
       " 'contains(stretched)': False,\n",
       " 'contains(span)': False,\n",
       " 'contains(single)': False,\n",
       " 'contains(clich)': False,\n",
       " 'contains(matter)': False,\n",
       " 'contains(elements)': False,\n",
       " 'contains(recycled)': False,\n",
       " 'contains(everything)': True,\n",
       " 'contains(already)': False,\n",
       " 'contains(seen)': False,\n",
       " 'contains(nothing)': False,\n",
       " 'contains(spectacular)': False,\n",
       " 'contains(sometimes)': False,\n",
       " 'contains(bordering)': False,\n",
       " 'contains(wooden)': False,\n",
       " 'contains(danes)': False,\n",
       " 'contains(omar)': False,\n",
       " 'contains(epps)': False,\n",
       " 'contains(deliver)': False,\n",
       " 'contains(their)': False,\n",
       " 'contains(lines)': False,\n",
       " 'contains(bored)': False,\n",
       " 'contains(onto)': False,\n",
       " 'contains(escape)': False,\n",
       " 'contains(relatively)': False,\n",
       " 'contains(unscathed)': False,\n",
       " 'contains(giovanni)': False,\n",
       " 'contains(ribisi)': False,\n",
       " 'contains(plays)': False,\n",
       " 'contains(resident)': False,\n",
       " 'contains(crazy)': False,\n",
       " 'contains(man)': False,\n",
       " 'contains(ultimately)': False,\n",
       " 'contains(being)': False,\n",
       " 'contains(worth)': True,\n",
       " 'contains(watching)': False,\n",
       " 'contains(unfortunately)': False,\n",
       " 'contains(save)': False,\n",
       " 'contains(convoluted)': False,\n",
       " 'contains(apart)': False,\n",
       " 'contains(screen)': True,\n",
       " 'contains(young)': False,\n",
       " 'contains(cast)': False,\n",
       " 'contains(clothes)': False,\n",
       " 'contains(hip)': False,\n",
       " 'contains(soundtrack)': False,\n",
       " 'contains(appears)': False,\n",
       " 'contains(geared)': False,\n",
       " 'contains(towards)': False,\n",
       " 'contains(teenage)': False,\n",
       " 'contains(mindset)': False,\n",
       " 'contains(r)': False,\n",
       " 'contains(rating)': False,\n",
       " 'contains(content)': False,\n",
       " 'contains(justify)': False,\n",
       " 'contains(juvenile)': False,\n",
       " 'contains(older)': False,\n",
       " 'contains(information)': False,\n",
       " 'contains(literally)': False,\n",
       " 'contains(spoon)': False,\n",
       " 'contains(hard)': False,\n",
       " 'contains(instead)': False,\n",
       " 'contains(telling)': False,\n",
       " 'contains(dialogue)': False,\n",
       " 'contains(poorly)': False,\n",
       " 'contains(written)': False,\n",
       " 'contains(extremely)': False,\n",
       " 'contains(predictable)': False,\n",
       " 'contains(progresses)': False,\n",
       " 'contains(won)': False,\n",
       " 'contains(care)': False,\n",
       " 'contains(heroes)': False,\n",
       " 'contains(any)': False,\n",
       " 'contains(jeopardy)': False,\n",
       " 'contains(ll)': False,\n",
       " 'contains(aren)': False,\n",
       " 'contains(nobody)': False,\n",
       " 'contains(remembers)': False,\n",
       " 'contains(questionable)': False,\n",
       " 'contains(wisdom)': False,\n",
       " 'contains(especially)': True,\n",
       " 'contains(considers)': False,\n",
       " 'contains(target)': False,\n",
       " 'contains(fact)': False,\n",
       " 'contains(number)': False,\n",
       " 'contains(memorable)': False,\n",
       " 'contains(can)': False,\n",
       " 'contains(counted)': False,\n",
       " 'contains(hand)': False,\n",
       " 'contains(missing)': False,\n",
       " 'contains(finger)': False,\n",
       " 'contains(times)': False,\n",
       " 'contains(checked)': False,\n",
       " 'contains(six)': False,\n",
       " 'contains(clear)': False,\n",
       " 'contains(indication)': False,\n",
       " 'contains(them)': True,\n",
       " 'contains(than)': False,\n",
       " 'contains(cash)': False,\n",
       " 'contains(spending)': False,\n",
       " 'contains(dollar)': False,\n",
       " 'contains(judging)': False,\n",
       " 'contains(rash)': False,\n",
       " 'contains(awful)': False,\n",
       " 'contains(seeing)': True,\n",
       " 'contains(avoid)': False,\n",
       " 'contains(at)': False,\n",
       " 'contains(costs)': False,\n",
       " 'contains(quest)': False,\n",
       " 'contains(camelot)': False,\n",
       " 'contains(warner)': False,\n",
       " 'contains(bros)': False,\n",
       " 'contains(feature)': False,\n",
       " 'contains(length)': False,\n",
       " 'contains(fully)': False,\n",
       " 'contains(animated)': False,\n",
       " 'contains(steal)': False,\n",
       " 'contains(clout)': False,\n",
       " 'contains(disney)': False,\n",
       " 'contains(cartoon)': False,\n",
       " 'contains(empire)': False,\n",
       " 'contains(mouse)': False,\n",
       " 'contains(reason)': False,\n",
       " 'contains(worried)': False,\n",
       " 'contains(other)': True,\n",
       " 'contains(recent)': False,\n",
       " 'contains(throne)': False,\n",
       " 'contains(last)': False,\n",
       " 'contains(fall)': False,\n",
       " 'contains(promising)': False,\n",
       " 'contains(flawed)': False,\n",
       " 'contains(20th)': False,\n",
       " 'contains(century)': False,\n",
       " 'contains(fox)': False,\n",
       " 'contains(anastasia)': False,\n",
       " 'contains(hercules)': False,\n",
       " 'contains(lively)': False,\n",
       " 'contains(colorful)': False,\n",
       " 'contains(had)': False,\n",
       " 'contains(beat)': False,\n",
       " 'contains(hands)': False,\n",
       " 'contains(crown)': False,\n",
       " 'contains(1997)': False,\n",
       " 'contains(piece)': False,\n",
       " 'contains(animation)': False,\n",
       " 'contains(year)': False,\n",
       " 'contains(contest)': False,\n",
       " 'contains(arrival)': False,\n",
       " 'contains(magic)': False,\n",
       " 'contains(kingdom)': False,\n",
       " 'contains(mediocre)': False,\n",
       " 'contains(--)': True,\n",
       " 'contains(d)': False,\n",
       " 'contains(pocahontas)': False,\n",
       " 'contains(those)': False,\n",
       " 'contains(keeping)': False,\n",
       " 'contains(score)': False,\n",
       " 'contains(nearly)': False,\n",
       " 'contains(dull)': False,\n",
       " 'contains(revolves)': False,\n",
       " 'contains(adventures)': False,\n",
       " 'contains(free)': False,\n",
       " 'contains(spirited)': False,\n",
       " 'contains(voiced)': False,\n",
       " 'contains(early)': True,\n",
       " 'contains(daughter)': False,\n",
       " 'contains(knight)': False,\n",
       " 'contains(king)': False,\n",
       " 'contains(arthur)': False,\n",
       " 'contains(round)': False,\n",
       " 'contains(table)': False,\n",
       " 'contains(dream)': False,\n",
       " 'contains(follow)': False,\n",
       " 'contains(father)': False,\n",
       " 'contains(footsteps)': False,\n",
       " 'contains(she)': True,\n",
       " 'contains(chance)': False,\n",
       " 'contains(evil)': False,\n",
       " 'contains(gary)': False,\n",
       " 'contains(oldman)': False,\n",
       " 'contains(ex)': False,\n",
       " 'contains(gone)': False,\n",
       " 'contains(steals)': False,\n",
       " 'contains(magical)': False,\n",
       " 'contains(sword)': False,\n",
       " 'contains(accidentally)': False,\n",
       " 'contains(loses)': False,\n",
       " 'contains(dangerous)': True,\n",
       " 'contains(trapped)': False,\n",
       " 'contains(forest)': False,\n",
       " 'contains(help)': True,\n",
       " 'contains(hunky)': False,\n",
       " 'contains(blind)': False,\n",
       " 'contains(garrett)': False,\n",
       " 'contains(carey)': False,\n",
       " 'contains(elwes)': False,\n",
       " 'contains(headed)': False,\n",
       " 'contains(dragon)': False,\n",
       " 'contains(eric)': False,\n",
       " 'contains(idle)': False,\n",
       " 'contains(arguing)': False,\n",
       " 'contains(itself)': False,\n",
       " 'contains(able)': False,\n",
       " 'contains(medieval)': False,\n",
       " 'contains(sexist)': False,\n",
       " 'contains(prove)': False,\n",
       " 'contains(fighter)': False,\n",
       " 'contains(side)': False,\n",
       " 'contains(pure)': False,\n",
       " 'contains(essential)': False,\n",
       " 'contains(element)': False,\n",
       " 'contains(expected)': False,\n",
       " 'contains(climb)': False,\n",
       " 'contains(high)': False,\n",
       " 'contains(ranks)': False,\n",
       " 'contains(something)': False,\n",
       " 'contains(saturday)': False,\n",
       " 'contains(morning)': False,\n",
       " 'contains(instantly)': False,\n",
       " 'contains(forgettable)': False,\n",
       " 'contains(songs)': False,\n",
       " 'contains(integrated)': False,\n",
       " 'contains(footage)': False,\n",
       " 'contains(compare)': False,\n",
       " 'contains(run)': False,\n",
       " 'contains(angry)': False,\n",
       " 'contains(ogre)': False,\n",
       " 'contains(battle)': False,\n",
       " 'contains(rest)': False,\n",
       " 'contains(case)': False,\n",
       " 'contains(none)': False,\n",
       " 'contains(remotely)': False,\n",
       " 'contains(interesting)': False,\n",
       " 'contains(race)': False,\n",
       " 'contains(bland)': False,\n",
       " 'contains(end)': False,\n",
       " 'contains(tie)': False,\n",
       " 'contains(win)': False,\n",
       " 'contains(comedy)': True,\n",
       " 'contains(shtick)': False,\n",
       " 'contains(awfully)': False,\n",
       " 'contains(least)': True,\n",
       " 'contains(signs)': False,\n",
       " 'contains(pulse)': False,\n",
       " 'contains(fans)': False,\n",
       " 'contains(90s)': False,\n",
       " 'contains(will)': True,\n",
       " 'contains(thrilled)': False,\n",
       " 'contains(white)': False,\n",
       " 'contains(bronson)': False,\n",
       " 'contains(sharing)': False,\n",
       " 'contains(nicely)': False,\n",
       " 'contains(realized)': False,\n",
       " 'contains(though)': False,\n",
       " 'contains(m)': False,\n",
       " 'contains(loss)': False,\n",
       " 'contains(recall)': False,\n",
       " 'contains(specific)': False,\n",
       " 'contains(providing)': False,\n",
       " 'contains(voice)': False,\n",
       " 'contains(talent)': False,\n",
       " 'contains(enthusiastic)': False,\n",
       " 'contains(paired)': False,\n",
       " 'contains(singers)': False,\n",
       " 'contains(sound)': False,\n",
       " 'contains(musical)': False,\n",
       " 'contains(moments)': False,\n",
       " 'contains(jane)': False,\n",
       " 'contains(seymour)': False,\n",
       " 'contains(celine)': False,\n",
       " 'contains(must)': False,\n",
       " 'contains(strain)': False,\n",
       " 'contains(through)': False,\n",
       " 'contains(aside)': False,\n",
       " 'contains(children)': False,\n",
       " 'contains(probably)': False,\n",
       " 'contains(adults)': False,\n",
       " 'contains(error)': False,\n",
       " 'contains(lack)': False,\n",
       " 'contains(personality)': False,\n",
       " 'contains(learn)': False,\n",
       " 'contains(goes)': False,\n",
       " 'contains(synopsis)': False,\n",
       " 'contains(mentally)': False,\n",
       " 'contains(unstable)': False,\n",
       " 'contains(saves)': False,\n",
       " 'contains(boy)': False,\n",
       " 'contains(potentially)': False,\n",
       " 'contains(fatal)': False,\n",
       " 'contains(falls)': False,\n",
       " 'contains(love)': False,\n",
       " 'contains(mother)': False,\n",
       " 'contains(fledgling)': False,\n",
       " 'contains(unsuccessfully)': False,\n",
       " 'contains(attempting)': False,\n",
       " 'contains(gain)': False,\n",
       " 'contains(woman)': True,\n",
       " 'contains(favor)': False,\n",
       " 'contains(takes)': False,\n",
       " 'contains(pictures)': False,\n",
       " 'contains(kills)': False,\n",
       " 'contains(comments)': True,\n",
       " 'contains(stalked)': False,\n",
       " 'contains(yet)': False,\n",
       " 'contains(seemingly)': False,\n",
       " 'contains(endless)': True,\n",
       " 'contains(string)': False,\n",
       " 'contains(getting)': True,\n",
       " 'contains(revenge)': False,\n",
       " 'contains(type)': False,\n",
       " 'contains(stable)': False,\n",
       " 'contains(category)': False,\n",
       " 'contains(1990s)': False,\n",
       " 'contains(industry)': False,\n",
       " 'contains(theatrical)': False,\n",
       " 'contains(direct)': False,\n",
       " 'contains(may)': False,\n",
       " 'contains(due)': False,\n",
       " 'contains(typically)': False,\n",
       " 'contains(produce)': False,\n",
       " 'contains(special)': False,\n",
       " 'contains(effects)': False,\n",
       " 'contains(stars)': False,\n",
       " 'contains(serve)': False,\n",
       " 'contains(vehicles)': False,\n",
       " 'contains(nudity)': False,\n",
       " 'contains(allowing)': False,\n",
       " 'contains(frequent)': False,\n",
       " 'contains(night)': False,\n",
       " 'contains(cable)': False,\n",
       " 'contains(slightly)': False,\n",
       " 'contains(norm)': False,\n",
       " 'contains(respect)': False,\n",
       " 'contains(psycho)': False,\n",
       " 'contains(never)': True,\n",
       " 'contains(affair)': False,\n",
       " 'contains(;)': False,\n",
       " 'contains(contrary)': False,\n",
       " 'contains(rejected)': False,\n",
       " 'contains(rather)': False,\n",
       " 'contains(lover)': False,\n",
       " 'contains(wife)': True,\n",
       " 'contains(husband)': False,\n",
       " 'contains(entry)': False,\n",
       " 'contains(doomed)': False,\n",
       " 'contains(collect)': False,\n",
       " 'contains(dust)': False,\n",
       " 'contains(viewed)': False,\n",
       " 'contains(midnight)': False,\n",
       " 'contains(provide)': False,\n",
       " 'contains(suspense)': False,\n",
       " 'contains(sets)': False,\n",
       " 'contains(opening)': False,\n",
       " 'contains(credits)': False,\n",
       " 'contains(instance)': False,\n",
       " 'contains(serious)': False,\n",
       " 'contains(sounding)': False,\n",
       " 'contains(narrator)': False,\n",
       " 'contains(ponders)': False,\n",
       " 'contains(cause)': False,\n",
       " 'contains(implied)': False,\n",
       " 'contains(men)': False,\n",
       " 'contains(shown)': False,\n",
       " 'contains(actor)': False,\n",
       " 'contains(jay)': False,\n",
       " 'contains(underwood)': False,\n",
       " 'contains(states)': False,\n",
       " 'contains(daryl)': False,\n",
       " 'contains(stalker)': False,\n",
       " 'contains(brooke)': False,\n",
       " 'contains(daniels)': False,\n",
       " 'contains(meant)': False,\n",
       " 'contains(called)': False,\n",
       " 'contains(required)': False,\n",
       " 'contains(proceeds)': False,\n",
       " 'contains(begins)': False,\n",
       " 'contains(obvious)': False,\n",
       " 'contains(sequence)': False,\n",
       " 'contains(contrived)': False,\n",
       " 'contains(quite)': False,\n",
       " 'contains(brings)': False,\n",
       " 'contains(victim)': False,\n",
       " 'contains(together)': False,\n",
       " 'contains(follows)': False,\n",
       " 'contains(tries)': True,\n",
       " 'contains(woo)': False,\n",
       " 'contains(plans)': False,\n",
       " 'contains(become)': False,\n",
       " 'contains(desperate)': False,\n",
       " 'contains(elaborate)': False,\n",
       " 'contains(include)': False,\n",
       " 'contains(cliche)': False,\n",
       " 'contains(murdered)': False,\n",
       " 'contains(pet)': False,\n",
       " 'contains(require)': False,\n",
       " 'contains(found)': False,\n",
       " 'contains(exception)': False,\n",
       " 'contains(cat)': False,\n",
       " 'contains(shower)': False,\n",
       " 'contains(events)': False,\n",
       " 'contains(lead)': True,\n",
       " 'contains(inevitable)': False,\n",
       " 'contains(showdown)': False,\n",
       " 'contains(survives)': False,\n",
       " 'contains(invariably)': False,\n",
       " 'contains(conclusion)': False,\n",
       " 'contains(turkey)': False,\n",
       " 'contains(uniformly)': False,\n",
       " 'contains(adequate)': False,\n",
       " 'contains(anything)': False,\n",
       " 'contains(home)': False,\n",
       " 'contains(either)': False,\n",
       " 'contains(turns)': False,\n",
       " 'contains(toward)': False,\n",
       " 'contains(melodrama)': False,\n",
       " 'contains(words)': False,\n",
       " 'contains(manages)': False,\n",
       " 'contains(creepy)': False,\n",
       " 'contains(pass)': False,\n",
       " 'contains(demands)': False,\n",
       " 'contains(close)': False,\n",
       " 'contains(played)': True,\n",
       " 'contains(bond)': False,\n",
       " 'contains(chick)': False,\n",
       " 'contains(living)': False,\n",
       " 'contains(equally)': False,\n",
       " 'contains(title)': False,\n",
       " 'contains(ditzy)': False,\n",
       " 'contains(strong)': False,\n",
       " 'contains(independent)': False,\n",
       " 'contains(business)': False,\n",
       " 'contains(owner)': False,\n",
       " 'contains(needs)': False,\n",
       " 'contains(proceed)': False,\n",
       " 'contains(example)': False,\n",
       " 'contains(ensure)': False,\n",
       " 'contains(use)': False,\n",
       " 'contains(excuse)': False,\n",
       " 'contains(decides)': False,\n",
       " 'contains(return)': False,\n",
       " 'contains(left)': False,\n",
       " 'contains(place)': True,\n",
       " 'contains(house)': False,\n",
       " 'contains(leave)': False,\n",
       " 'contains(door)': False,\n",
       " 'contains(answers)': False,\n",
       " 'contains(opens)': False,\n",
       " 'contains(wanders)': False,\n",
       " 'contains(returns)': False,\n",
       " 'contains(enters)': False,\n",
       " 'contains(our)': False,\n",
       " 'contains(heroine)': False,\n",
       " 'contains(danger)': False,\n",
       " 'contains(somehow)': False,\n",
       " 'contains(front)': False,\n",
       " 'contains(right)': False,\n",
       " 'contains(oblivious)': False,\n",
       " 'contains(presence)': False,\n",
       " 'contains(inside)': False,\n",
       " 'contains(whole)': False,\n",
       " 'contains(episode)': False,\n",
       " 'contains(places)': False,\n",
       " 'contains(incredible)': False,\n",
       " 'contains(suspension)': False,\n",
       " 'contains(disbelief)': False,\n",
       " 'contains(questions)': False,\n",
       " 'contains(intelligence)': False,\n",
       " 'contains(receives)': False,\n",
       " 'contains(highly)': False,\n",
       " 'contains(derivative)': False,\n",
       " 'contains(somewhat)': False,\n",
       " 'contains(boring)': False,\n",
       " 'contains(cannot)': False,\n",
       " 'contains(watched)': False,\n",
       " 'contains(rated)': False,\n",
       " 'contains(mostly)': False,\n",
       " 'contains(several)': False,\n",
       " 'contains(murder)': False,\n",
       " 'contains(brief)': True,\n",
       " 'contains(strip)': False,\n",
       " 'contains(bar)': False,\n",
       " 'contains(offensive)': False,\n",
       " 'contains(many)': True,\n",
       " 'contains(thrillers)': False,\n",
       " 'contains(mood)': False,\n",
       " 'contains(stake)': False,\n",
       " 'contains(else)': False,\n",
       " 'contains(capsule)': True,\n",
       " 'contains(planet)': False,\n",
       " 'contains(mars)': False,\n",
       " 'contains(taking)': False,\n",
       " 'contains(custody)': False,\n",
       " 'contains(accused)': False,\n",
       " 'contains(murderer)': False,\n",
       " 'contains(face)': False,\n",
       " 'contains(menace)': False,\n",
       " 'contains(lot)': False,\n",
       " 'contains(fighting)': False,\n",
       " 'contains(john)': False,\n",
       " 'contains(carpenter)': False,\n",
       " 'contains(reprises)': False,\n",
       " 'contains(ideas)': False,\n",
       " 'contains(previous)': False,\n",
       " 'contains(assault)': False,\n",
       " 'contains(precinct)': False,\n",
       " 'contains(13)': False,\n",
       " 'contains(homage)': False,\n",
       " 'contains(himself)': False,\n",
       " 'contains(0)': False,\n",
       " 'contains(+)': False,\n",
       " 'contains(believes)': False,\n",
       " 'contains(fight)': True,\n",
       " 'contains(horrible)': False,\n",
       " 'contains(writer)': False,\n",
       " 'contains(supposedly)': False,\n",
       " 'contains(expert)': False,\n",
       " 'contains(mistake)': False,\n",
       " 'contains(ghosts)': False,\n",
       " ...}"
      ]
     },
     "execution_count": 80,
     "metadata": {},
     "output_type": "execute_result"
    }
   ],
   "source": [
    "# document_features(movie_reviews.words('pos/cv957_8737.txt'))"
   ]
  },
  {
   "cell_type": "markdown",
   "metadata": {
    "editable": true,
    "slideshow": {
     "slide_type": "subslide"
    },
    "tags": []
   },
   "source": [
    "* Now we have tuple of `({features}, label)`"
   ]
  },
  {
   "cell_type": "code",
   "execution_count": 81,
   "metadata": {
    "editable": true,
    "slideshow": {
     "slide_type": "fragment"
    },
    "tags": []
   },
   "outputs": [],
   "source": [
    "train_docs = documents[:1000]\n",
    "test_docs = documents[1000:1500]\n",
    "train_set = [(document_features(d), c) for (d,c) in train_docs]\n",
    "test_set = [(document_features(d), c) for (d,c) in test_docs]\n",
    "classifier = nltk.NaiveBayesClassifier.train(train_set)"
   ]
  },
  {
   "cell_type": "code",
   "execution_count": 82,
   "metadata": {
    "editable": true,
    "slideshow": {
     "slide_type": "fragment"
    },
    "tags": []
   },
   "outputs": [
    {
     "name": "stdout",
     "output_type": "stream",
     "text": [
      "0.8\n"
     ]
    }
   ],
   "source": [
    "print(nltk.classify.accuracy(classifier, test_set))"
   ]
  },
  {
   "cell_type": "code",
   "execution_count": 206,
   "metadata": {
    "editable": true,
    "slideshow": {
     "slide_type": "subslide"
    },
    "tags": []
   },
   "outputs": [
    {
     "name": "stdout",
     "output_type": "stream",
     "text": [
      "Most Informative Features\n",
      "         contains(anger) = True              pos : neg    =     13.3 : 1.0\n",
      "   contains(magnificent) = True              pos : neg    =     13.3 : 1.0\n",
      "      contains(captures) = True              pos : neg    =     11.9 : 1.0\n",
      "        contains(sloppy) = True              neg : pos    =     11.4 : 1.0\n",
      "     contains(ludicrous) = True              neg : pos    =     10.7 : 1.0\n",
      " contains(controversial) = True              pos : neg    =      9.2 : 1.0\n",
      "       contains(courage) = True              pos : neg    =      9.2 : 1.0\n",
      "     contains(uplifting) = True              pos : neg    =      9.2 : 1.0\n",
      "   contains(outstanding) = True              pos : neg    =      8.9 : 1.0\n",
      "     contains(stupidity) = True              neg : pos    =      8.8 : 1.0\n"
     ]
    }
   ],
   "source": [
    "classifier.show_most_informative_features(10)"
   ]
  },
  {
   "cell_type": "code",
   "execution_count": null,
   "metadata": {
    "editable": true,
    "slideshow": {
     "slide_type": "skip"
    },
    "tags": []
   },
   "outputs": [],
   "source": [
    "# Copyright of the original version:\n",
    "\n",
    "# Copyright (c) 2014 Matt Dickenson\n",
    "# \n",
    "# Permission is hereby granted, free of charge, to any person obtaining a copy\n",
    "# of this software and associated documentation files (the \"Software\"), to deal\n",
    "# in the Software without restriction, including without limitation the rights\n",
    "# to use, copy, modify, merge, publish, distribute, sublicense, and/or sell\n",
    "# copies of the Software, and to permit persons to whom the Software is\n",
    "# furnished to do so, subject to the following conditions:\n",
    "# \n",
    "# The above copyright notice and this permission notice shall be included in all\n",
    "# copies or substantial portions of the Software.\n",
    "# \n",
    "# THE SOFTWARE IS PROVIDED \"AS IS\", WITHOUT WARRANTY OF ANY KIND, EXPRESS OR\n",
    "# IMPLIED, INCLUDING BUT NOT LIMITED TO THE WARRANTIES OF MERCHANTABILITY,\n",
    "# FITNESS FOR A PARTICULAR PURPOSE AND NONINFRINGEMENT. IN NO EVENT SHALL THE\n",
    "# AUTHORS OR COPYRIGHT HOLDERS BE LIABLE FOR ANY CLAIM, DAMAGES OR OTHER\n",
    "# LIABILITY, WHETHER IN AN ACTION OF CONTRACT, TORT OR OTHERWISE, ARISING FROM,\n",
    "# OUT OF OR IN CONNECTION WITH THE SOFTWARE OR THE USE OR OTHER DEALINGS IN THE\n",
    "# SOFTWARE.\n"
   ]
  }
 ],
 "metadata": {
  "kernelspec": {
   "display_name": "Python 3 (ipykernel)",
   "language": "python",
   "name": "python3"
  },
  "language_info": {
   "codemirror_mode": {
    "name": "ipython",
    "version": 3
   },
   "file_extension": ".py",
   "mimetype": "text/x-python",
   "name": "python",
   "nbconvert_exporter": "python",
   "pygments_lexer": "ipython3",
   "version": "3.12.5"
  }
 },
 "nbformat": 4,
 "nbformat_minor": 4
}
