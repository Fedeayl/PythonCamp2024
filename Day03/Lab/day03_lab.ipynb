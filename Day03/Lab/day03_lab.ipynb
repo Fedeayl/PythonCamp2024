{
 "cells": [
  {
   "cell_type": "markdown",
   "metadata": {},
   "source": [
    "# Lab: Error Handling"
   ]
  },
  {
   "cell_type": "markdown",
   "metadata": {},
   "source": [
    "1. Complete the function to make all characters capitalized. \n",
    "    - check out the `.upper()` function\n",
    "    - handle the exception when intergers are given instead of strings"
   ]
  },
  {
   "cell_type": "code",
   "execution_count": 5,
   "metadata": {},
   "outputs": [
    {
     "data": {
      "text/plain": [
       "'WORD'"
      ]
     },
     "execution_count": 5,
     "metadata": {},
     "output_type": "execute_result"
    }
   ],
   "source": [
    "def shout(txt):\n",
    "    try:\n",
    "        x = txt.upper()\n",
    "        return x\n",
    "    \n",
    "    except TypeError: \n",
    "        print( \"TypeError: txt should be a string!\" )\n",
    "\n",
    "shout(\"word\")"
   ]
  },
  {
   "cell_type": "markdown",
   "metadata": {},
   "source": [
    "2. Reverse all characters in a string\n",
    "    - handle the exception when integers are given \n",
    "    - use a different method to handle this from 1."
   ]
  },
  {
   "cell_type": "code",
   "execution_count": 12,
   "metadata": {},
   "outputs": [
    {
     "name": "stdout",
     "output_type": "stream",
     "text": [
      "TypeError: word should be a string!\n"
     ]
    }
   ],
   "source": [
    "def reverse(txt):\n",
    "    if isinstance(txt, str):\n",
    "        return txt[::-1]\n",
    "    else:\n",
    "        print( \"TypeError: txt should be a string!\" )\n",
    "    \n",
    "\n",
    "reverse(\"word\")\n",
    "reverse(234)"
   ]
  },
  {
   "cell_type": "markdown",
   "metadata": {},
   "source": [
    "3. Reverse the word ordering in a string\n",
    "    - assume words are separated by space\n",
    "    - think of one error that could occur and handle it accordingly"
   ]
  },
  {
   "cell_type": "code",
   "execution_count": 63,
   "metadata": {},
   "outputs": [
    {
     "name": "stdout",
     "output_type": "stream",
     "text": [
      "y t i s r e v i n U   n o t g n i h s a W\n",
      "Error: Input string contains only spaces.\n"
     ]
    }
   ],
   "source": [
    "def reversewords(txt):\n",
    "    if  len(txt.split()) == 0:\n",
    "        print(\"Error: Input string contains only spaces.\")\n",
    "    else:\n",
    "        words = txt.split()\n",
    "        rev = \" \".join(txt[::-1])\n",
    "        print(rev)\n",
    "\n",
    "reversewords(\"Washington University\")  \n",
    "reversewords(\"    \")                 "
   ]
  },
  {
   "cell_type": "markdown",
   "metadata": {},
   "source": [
    "4. Reverse letters in each word in the string\n",
    "    - The word ordering is preserved\n",
    "    - Only the letters are reversed "
   ]
  },
  {
   "cell_type": "code",
   "execution_count": 69,
   "metadata": {},
   "outputs": [
    {
     "name": "stdout",
     "output_type": "stream",
     "text": [
      "TypeError: txt should be a string!\n"
     ]
    }
   ],
   "source": [
    "def reversewordletters(txt):\n",
    "    \n",
    "    txt = txt.split\n",
    "    \n",
    "    if isinstance(txt, str):\n",
    "        return txt[::-1].join\n",
    "    else:\n",
    "        print( \"TypeError: txt should be a string!\" )\n",
    "    \n",
    "\n",
    "\n",
    "reversewordletters(\"Washington University in St Louis\")\n"
   ]
  },
  {
   "cell_type": "markdown",
   "metadata": {},
   "source": [
    "5. (Optional) Change text to piglatin... Google it! \n",
    "    - Handle errors accordingly"
   ]
  },
  {
   "cell_type": "code",
   "execution_count": null,
   "metadata": {},
   "outputs": [],
   "source": [
    "def piglatin(txt):\n",
    "    # YOUR CODE HERE"
   ]
  },
  {
   "cell_type": "code",
   "execution_count": null,
   "metadata": {},
   "outputs": [],
   "source": []
  }
 ],
 "metadata": {
  "kernelspec": {
   "display_name": "Python 3 (ipykernel)",
   "language": "python",
   "name": "python3"
  },
  "language_info": {
   "codemirror_mode": {
    "name": "ipython",
    "version": 3
   },
   "file_extension": ".py",
   "mimetype": "text/x-python",
   "name": "python",
   "nbconvert_exporter": "python",
   "pygments_lexer": "ipython3",
   "version": "3.12.4"
  }
 },
 "nbformat": 4,
 "nbformat_minor": 4
}
