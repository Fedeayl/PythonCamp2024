{
 "cells": [
  {
   "cell_type": "markdown",
   "metadata": {},
   "source": [
    "# Exercise: Error Handling"
   ]
  },
  {
   "cell_type": "markdown",
   "metadata": {},
   "source": [
    "1. Write a function that counts how many vowels (aeiou) are in a word\n",
    "    - Raise a TypeError with an informative message if 'word' is passed as an integer\n",
    "    - When done, run the test in your script and see your results."
   ]
  },
  {
   "cell_type": "code",
   "execution_count": 39,
   "metadata": {},
   "outputs": [],
   "source": [
    "def count_vowels(word):\n",
    "    vowels = ['a' , 'e', 'i', 'o', 'u', 'A', 'E', 'I', 'O', 'U']\n",
    "    count = 0\n",
    "\n",
    "    try:\n",
    "        for i in range(len(word)):\n",
    "            if word[i] in vowels:\n",
    "                count += 1\n",
    "                \n",
    "        return count\n",
    "    \n",
    "    except TypeError: \n",
    "        print( \"TypeError: word should be a string!\" )\n",
    "        \n",
    "   \n"
   ]
  },
  {
   "cell_type": "code",
   "execution_count": 40,
   "metadata": {},
   "outputs": [
    {
     "data": {
      "text/plain": [
       "2"
      ]
     },
     "execution_count": 40,
     "metadata": {},
     "output_type": "execute_result"
    }
   ],
   "source": [
    "count_vowels('dasrfe')"
   ]
  },
  {
   "cell_type": "markdown",
   "metadata": {},
   "source": [
    "* The following should raise your error:"
   ]
  },
  {
   "cell_type": "code",
   "execution_count": 41,
   "metadata": {},
   "outputs": [
    {
     "name": "stdout",
     "output_type": "stream",
     "text": [
      "TypeError: word should be a string!\n"
     ]
    }
   ],
   "source": [
    "count_vowels(1)"
   ]
  },
  {
   "cell_type": "markdown",
   "metadata": {},
   "source": [
    "2. Write a function that divides two numbers. It should handle the exception when you divide a number by zero. Use a try-except block."
   ]
  },
  {
   "cell_type": "code",
   "execution_count": 45,
   "metadata": {},
   "outputs": [
    {
     "name": "stdout",
     "output_type": "stream",
     "text": [
      "Your answer is 0.6666666666666666\n",
      "Cannot divide by zero!\n"
     ]
    }
   ],
   "source": [
    "def divide_numbers(x, y):\n",
    "    try: \n",
    "        result = x / y\n",
    "        print('Your answer is {}'.format(result))\n",
    "    except ZeroDivisionError: \n",
    "        print(\"Cannot divide by zero!\")\n",
    "\n",
    "divide_numbers(2,3)\n",
    "divide_numbers(2,0)"
   ]
  },
  {
   "cell_type": "markdown",
   "metadata": {},
   "source": [
    "3. Write a function that prints out the value at a given index in a list. Handle the exception when your index is out of range. "
   ]
  },
  {
   "cell_type": "code",
   "execution_count": 49,
   "metadata": {},
   "outputs": [
    {
     "name": "stdout",
     "output_type": "stream",
     "text": [
      "30\n",
      "Error: Index out of range.\n"
     ]
    }
   ],
   "source": [
    "def test_index(your_list, index):\n",
    "    try:\n",
    "        print(your_list[index])\n",
    "    except IndexError:\n",
    "        print(\"Error: Index out of range.\")\n",
    "\n",
    "test_index([10, 20, 30, 40, 50], 2)\n",
    "test_index([10, 20, 30, 40, 50], 10)\n",
    "\n",
    "    "
   ]
  }
 ],
 "metadata": {
  "kernelspec": {
   "display_name": "Python 3 (ipykernel)",
   "language": "python",
   "name": "python3"
  },
  "language_info": {
   "codemirror_mode": {
    "name": "ipython",
    "version": 3
   },
   "file_extension": ".py",
   "mimetype": "text/x-python",
   "name": "python",
   "nbconvert_exporter": "python",
   "pygments_lexer": "ipython3",
   "version": "3.12.4"
  }
 },
 "nbformat": 4,
 "nbformat_minor": 4
}
