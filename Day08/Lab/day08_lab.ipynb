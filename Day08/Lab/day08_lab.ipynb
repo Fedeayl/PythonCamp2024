{
 "cells": [
  {
   "cell_type": "markdown",
   "metadata": {},
   "source": [
    "# Lab: SQL and Database"
   ]
  },
  {
   "cell_type": "markdown",
   "metadata": {},
   "source": [
    "This lab focuses on extracting and displaying information from a database. \n",
    "\n",
    "Please run all the code chunks until you see the lab exercises (at the very bottom). "
   ]
  },
  {
   "cell_type": "code",
   "execution_count": 10,
   "metadata": {},
   "outputs": [
    {
     "name": "stderr",
     "output_type": "stream",
     "text": [
      "/var/folders/rc/6my2lrc536j9hknp62n5hbsm0000gp/T/ipykernel_77260/4260505936.py:10: MovedIn20Warning: The ``declarative_base()`` function is now available as sqlalchemy.orm.declarative_base(). (deprecated since: 2.0) (Background on SQLAlchemy 2.0 at: https://sqlalche.me/e/b8d9)\n",
      "  Base = declarative_base()\n"
     ]
    }
   ],
   "source": [
    "# import libraries\n",
    "import sqlalchemy\n",
    "from sqlalchemy.ext.declarative import declarative_base\n",
    "from sqlalchemy import Column, Integer, String, ForeignKey, and_, or_\n",
    "from sqlalchemy.orm import relationship, sessionmaker\n",
    "from sqlalchemy import func\n",
    "\n",
    "# Setting things up:\n",
    "engine = sqlalchemy.create_engine('sqlite:///geog.db')\n",
    "Base = declarative_base() \n",
    "\n",
    "# Schemas\n",
    "class Region(Base):\n",
    "  __tablename__ = 'regions'\n",
    "\n",
    "  id = Column(Integer, primary_key=True)\n",
    "  name = Column(String)\n",
    "  departments = relationship(\"Department\", backref = \"region\")\n",
    "\n",
    "  def __init__(self, name):\n",
    "    self.name = name \n",
    "\n",
    "  def __repr__(self):\n",
    "    return \"<Region('%s')>\" % self.id \n",
    "\n",
    "class Department(Base):\n",
    "  __tablename__ = 'departments'\n",
    "\n",
    "  id = Column(Integer, primary_key=True)\n",
    "  deptname = Column(String)\n",
    "  region_id = Column(Integer, ForeignKey('regions.id')) \n",
    "  towns = relationship(\"Town\", backref = \"department\")\n",
    "\n",
    "  def __init__(self, deptname):\n",
    "    self.deptname = deptname \n",
    "\n",
    "  def __repr__(self):\n",
    "    return \"<Department('%s')>\" % self.id \n",
    "\n",
    "class Town(Base):\n",
    "  __tablename__ = 'towns'\n",
    "\n",
    "  id = Column(Integer, primary_key=True)\n",
    "  name = Column(String)\n",
    "  population = Column(Integer)\n",
    "  dept_id = Column(Integer, ForeignKey('departments.id'))\n",
    "\n",
    "  def __init__(self, name, population):\n",
    "    self.name = name \n",
    "    self.population = population\n",
    "\n",
    "  def __repr__(self):\n",
    "    return \"<Town('%s')>\" % (self.name)\n",
    "\n",
    "#First time create tables\n",
    "Base.metadata.create_all(engine) \n",
    "\n",
    "#Create a session to actually store things in the db\n",
    "Session = sessionmaker(bind=engine)\n",
    "session = Session()\n",
    "\n",
    "# Create regions\n",
    "reg1 = Region('Region 1')\n",
    "reg2 = Region('Region 2')\n",
    "reg3 = Region('Region 3')\n",
    "\n",
    "# Create departments, nested in regions\n",
    "dept1 = Department('Department 1')\n",
    "reg1.departments.append(dept1)\n",
    "\n",
    "dept2 = Department('Department 2')\n",
    "reg1.departments.append(dept2)\n",
    "\n",
    "dept3 = Department('Department 3')\n",
    "reg3.departments.append(dept3)\n",
    "\n",
    "dept4 = Department('Department 4')\n",
    "reg2.departments.append(dept4)\n",
    "\n",
    "\n",
    "# Create towns, nested in departments\n",
    "t1 = Town(\"a\", 10000)\n",
    "t2 = Town(\"b\", 20000)\n",
    "dept1.towns = [t1, t2]\n",
    "\n",
    "t3 = Town(\"c\", 30000)\n",
    "t4 = Town(\"d\", 40000)\n",
    "dept2.towns = [t3, t4]\n",
    "\n",
    "t5 = Town(\"e\", 50000)\n",
    "t6 = Town(\"f\", 60000)\n",
    "dept3.towns = [t5, t6]\n",
    "\n",
    "t7 = Town(\"g\", 70000)\n",
    "t8 = Town(\"h\", 80000)\n",
    "dept4.towns = [t7, t8]\n",
    "\n",
    "session.add_all([reg1, reg2, reg3])\n",
    "session.add_all([dept1, dept2, dept3, dept4])\n",
    "session.add_all([t1, t2, t3, t4, t5, t6, t7, t8])\n",
    "\n",
    "session.commit()"
   ]
  },
  {
   "cell_type": "markdown",
   "metadata": {},
   "source": [
    "1. Print all of the towns, and order them by Town.id in descending order."
   ]
  },
  {
   "cell_type": "code",
   "execution_count": 15,
   "metadata": {},
   "outputs": [
    {
     "name": "stdout",
     "output_type": "stream",
     "text": [
      "Town(id=56, name='f', population=60000)\n",
      "Town(id=55, name='e', population=50000)\n",
      "Town(id=54, name='h', population=80000)\n",
      "Town(id=53, name='g', population=70000)\n",
      "Town(id=52, name='d', population=40000)\n",
      "Town(id=51, name='c', population=30000)\n",
      "Town(id=50, name='b', population=20000)\n",
      "Town(id=49, name='a', population=10000)\n",
      "Town(id=48, name='f', population=60000)\n",
      "Town(id=47, name='e', population=50000)\n",
      "Town(id=46, name='h', population=80000)\n",
      "Town(id=45, name='g', population=70000)\n",
      "Town(id=44, name='d', population=40000)\n",
      "Town(id=43, name='c', population=30000)\n",
      "Town(id=42, name='b', population=20000)\n",
      "Town(id=41, name='a', population=10000)\n",
      "Town(id=40, name='f', population=60000)\n",
      "Town(id=39, name='e', population=50000)\n",
      "Town(id=38, name='h', population=80000)\n",
      "Town(id=37, name='g', population=70000)\n",
      "Town(id=36, name='d', population=40000)\n",
      "Town(id=35, name='c', population=30000)\n",
      "Town(id=34, name='b', population=20000)\n",
      "Town(id=33, name='a', population=10000)\n",
      "Town(id=32, name='f', population=60000)\n",
      "Town(id=31, name='e', population=50000)\n",
      "Town(id=30, name='h', population=80000)\n",
      "Town(id=29, name='g', population=70000)\n",
      "Town(id=28, name='d', population=40000)\n",
      "Town(id=27, name='c', population=30000)\n",
      "Town(id=26, name='b', population=20000)\n",
      "Town(id=25, name='a', population=10000)\n",
      "Town(id=24, name='f', population=60000)\n",
      "Town(id=23, name='e', population=50000)\n",
      "Town(id=22, name='h', population=80000)\n",
      "Town(id=21, name='g', population=70000)\n",
      "Town(id=20, name='d', population=40000)\n",
      "Town(id=19, name='c', population=30000)\n",
      "Town(id=18, name='b', population=20000)\n",
      "Town(id=17, name='a', population=10000)\n",
      "Town(id=16, name='f', population=60000)\n",
      "Town(id=15, name='e', population=50000)\n",
      "Town(id=14, name='h', population=80000)\n",
      "Town(id=13, name='g', population=70000)\n",
      "Town(id=12, name='d', population=40000)\n",
      "Town(id=11, name='c', population=30000)\n",
      "Town(id=10, name='b', population=20000)\n",
      "Town(id=9, name='a', population=10000)\n",
      "Town(id=8, name='f', population=60000)\n",
      "Town(id=7, name='e', population=50000)\n",
      "Town(id=6, name='h', population=80000)\n",
      "Town(id=5, name='g', population=70000)\n",
      "Town(id=4, name='d', population=40000)\n",
      "Town(id=3, name='c', population=30000)\n",
      "Town(id=2, name='b', population=20000)\n",
      "Town(id=1, name='a', population=10000)\n"
     ]
    }
   ],
   "source": [
    "towns = session.query(Town).order_by(Town.id.desc()).all()\n",
    "\n",
    "for town in towns:\n",
    "    print(f\"Town(id={town.id}, name='{town.name}', population={town.population})\")\n"
   ]
  },
  {
   "cell_type": "markdown",
   "metadata": {},
   "source": [
    "2. Display, by department, the cities having more than 50,000 inhabitants."
   ]
  },
  {
   "cell_type": "code",
   "execution_count": 18,
   "metadata": {},
   "outputs": [
    {
     "name": "stdout",
     "output_type": "stream",
     "text": [
      "Department: Department 4\n",
      "  Town: g, Population: 70000\n",
      "  Town: h, Population: 80000\n",
      "Department: Department 3\n",
      "  Town: f, Population: 60000\n",
      "Department: Department 4\n",
      "  Town: g, Population: 70000\n",
      "  Town: h, Population: 80000\n",
      "Department: Department 3\n",
      "  Town: f, Population: 60000\n",
      "Department: Department 4\n",
      "  Town: g, Population: 70000\n",
      "  Town: h, Population: 80000\n",
      "Department: Department 3\n",
      "  Town: f, Population: 60000\n"
     ]
    }
   ],
   "source": [
    "departments = session.query(Department).join(Town).filter(Town.population > 50000).all()\n",
    "\n",
    "for department in departments:\n",
    "    print(f\"Department: {department.deptname}\")\n",
    "    for town in department.towns:\n",
    "        if town.population > 50000:\n",
    "            print(f\"  Town: {town.name}, Population: {town.population}\")\n"
   ]
  },
  {
   "cell_type": "markdown",
   "metadata": {},
   "source": [
    "3. Display the total number of inhabitants per department using only a query. (no lists!)"
   ]
  },
  {
   "cell_type": "code",
   "execution_count": 19,
   "metadata": {},
   "outputs": [
    {
     "name": "stdout",
     "output_type": "stream",
     "text": [
      "Department: Department 1, Total Population: 30000\n",
      "Department: Department 2, Total Population: 70000\n",
      "Department: Department 4, Total Population: 150000\n",
      "Department: Department 3, Total Population: 110000\n",
      "Department: Department 1, Total Population: 30000\n",
      "Department: Department 2, Total Population: 70000\n",
      "Department: Department 4, Total Population: 150000\n",
      "Department: Department 3, Total Population: 110000\n",
      "Department: Department 1, Total Population: 30000\n",
      "Department: Department 2, Total Population: 70000\n",
      "Department: Department 4, Total Population: 150000\n",
      "Department: Department 3, Total Population: 110000\n"
     ]
    }
   ],
   "source": [
    "from sqlalchemy import func\n",
    "\n",
    "result = session.query(\n",
    "    Department.deptname, \n",
    "    func.sum(Town.population).label('total_population')\n",
    ").join(Town).group_by(Department.id).all()\n",
    "\n",
    "for deptname, total_population in result:\n",
    "    print(f\"Department: {deptname}, Total Population: {total_population}\")\n"
   ]
  },
  {
   "cell_type": "code",
   "execution_count": null,
   "metadata": {},
   "outputs": [],
   "source": []
  }
 ],
 "metadata": {
  "kernelspec": {
   "display_name": "Python 3 (ipykernel)",
   "language": "python",
   "name": "python3"
  },
  "language_info": {
   "codemirror_mode": {
    "name": "ipython",
    "version": 3
   },
   "file_extension": ".py",
   "mimetype": "text/x-python",
   "name": "python",
   "nbconvert_exporter": "python",
   "pygments_lexer": "ipython3",
   "version": "3.12.5"
  }
 },
 "nbformat": 4,
 "nbformat_minor": 4
}
