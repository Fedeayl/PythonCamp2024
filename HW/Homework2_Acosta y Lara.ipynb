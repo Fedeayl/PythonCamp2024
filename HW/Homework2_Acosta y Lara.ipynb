{
 "cells": [
  {
   "cell_type": "code",
   "execution_count": 4,
   "id": "b2a4ae58-52a6-47bd-82ab-3ad2fecd7ec5",
   "metadata": {},
   "outputs": [],
   "source": [
    "import urllib.request\n",
    "import datetime\n",
    "import csv\n",
    "import time\n",
    "import random\n",
    "import re\n",
    "from bs4 import BeautifulSoup"
   ]
  },
  {
   "cell_type": "code",
   "execution_count": 5,
   "id": "51bdd096-d7f3-4182-8f92-dddcf829cafb",
   "metadata": {},
   "outputs": [
    {
     "name": "stdout",
     "output_type": "stream",
     "text": [
      "Reached speeches before Biden's presidency.\n"
     ]
    }
   ],
   "source": [
    "\n",
    "\n",
    "web_address = 'https://www.presidency.ucsb.edu/documents/app-categories/presidential/spoken-addresses-and-remarks?items_per_page=60&page='\n",
    "web_aux = 'https://www.presidency.ucsb.edu'\n",
    "date_start = datetime.datetime(2021, 1, 20, 0, 0)  # date in which Biden's term starts\n",
    "speech = {}\n",
    "page_number = 0\n",
    "\n",
    "with open('pres_speech.csv', 'w', newline='', encoding='utf-8') as f:\n",
    "    w = csv.DictWriter(f, fieldnames=[\"date\", \"title\", \"content\", \"citation\", \"footnote\"])  # define the columns name\n",
    "    w.writeheader()\n",
    "\n",
    "    while True:  # Use a while loop to handle pagination\n",
    "        try:\n",
    "            web_page = urllib.request.urlopen(web_address + str(page_number))\n",
    "            soup = BeautifulSoup(web_page, 'html.parser')\n",
    "            all_date_speech = soup.find_all(class_=re.compile(\"col-sm-8\"))\n",
    "\n",
    "            for i in range(len(all_date_speech)):  # Loop through posts on the page\n",
    "                date_speech_element = all_date_speech[i].find('span')\n",
    "                if date_speech_element:\n",
    "                    speech['date'] = date_speech_element.attrs['content'][:10]  # Get the date and cut the time\n",
    "                    speech['date'] = datetime.datetime.strptime(speech['date'], '%Y-%m-%d')\n",
    "                    \n",
    "                    if speech['date'] < date_start:\n",
    "                        print(\"Reached speeches before Biden's presidency.\")\n",
    "                        break\n",
    "\n",
    "                    inner_page_url = web_aux + all_date_speech[i].find('a').attrs['href']\n",
    "                    inner_page = urllib.request.urlopen(inner_page_url)\n",
    "                    inner_soup = BeautifulSoup(inner_page, 'html.parser')\n",
    "\n",
    "                    speech['title'] = inner_soup.find('h1').text if inner_soup.find('h1') else ''\n",
    "                    speech['content'] = inner_soup.find('div', {'class': 'field-docs-content'}).text if inner_soup.find('div', {'class': 'field-docs-content'}) else ''\n",
    "                    speech['footnote'] = inner_soup.find('div', {'class': 'field-docs-footnote'}).text if inner_soup.find('div', {'class': 'field-docs-footnote'}) else ''\n",
    "                    speech['citation'] = inner_soup.find('div', {'class': 'field-prez-document-citation'}).text if inner_soup.find('div', {'class': 'field-prez-document-citation'}) else ''\n",
    "\n",
    "                    w.writerow(speech)\n",
    "                    time.sleep(2)  \n",
    "\n",
    "            page_number += 1\n",
    "\n",
    "            if speech['date'] < date_start:\n",
    "                break  # Stop the loop if we've reached dates before Biden's presidency\n",
    "\n",
    "        except Exception as e:\n",
    "            print(f\"An error occurred: {e}\")\n",
    "            page_number += 1  # Ensure we move to the next page even if there's an error\n",
    "            continue  # Continue to the next iteration\n"
   ]
  },
  {
   "cell_type": "code",
   "execution_count": null,
   "id": "e05fc70a-3f39-4d6f-9c0b-f5a8c48dcd8c",
   "metadata": {},
   "outputs": [],
   "source": []
  },
  {
   "cell_type": "code",
   "execution_count": 7,
   "id": "094d1164-ac0d-44d3-9c32-2483b8731e95",
   "metadata": {},
   "outputs": [
    {
     "name": "stdout",
     "output_type": "stream",
     "text": [
      "hello\n"
     ]
    }
   ],
   "source": []
  },
  {
   "cell_type": "code",
   "execution_count": null,
   "id": "27aada86-f694-4dbd-b752-350e0eda6a59",
   "metadata": {},
   "outputs": [],
   "source": []
  }
 ],
 "metadata": {
  "kernelspec": {
   "display_name": "Python 3 (ipykernel)",
   "language": "python",
   "name": "python3"
  },
  "language_info": {
   "codemirror_mode": {
    "name": "ipython",
    "version": 3
   },
   "file_extension": ".py",
   "mimetype": "text/x-python",
   "name": "python",
   "nbconvert_exporter": "python",
   "pygments_lexer": "ipython3",
   "version": "3.12.5"
  }
 },
 "nbformat": 4,
 "nbformat_minor": 5
}
