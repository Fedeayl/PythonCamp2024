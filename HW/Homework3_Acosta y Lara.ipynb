{
 "cells": [
  {
   "cell_type": "code",
   "execution_count": null,
   "id": "daad12dc-4b4a-4def-83e4-eb235516cb05",
   "metadata": {},
   "outputs": [],
   "source": [
    "#HOMEWORK 3"
   ]
  },
  {
   "cell_type": "code",
   "execution_count": null,
   "id": "4f95d68b-195d-425c-a90e-8c974908a31a",
   "metadata": {},
   "outputs": [],
   "source": [
    "# Spotify API\n",
    "# Using the Spotify API and the spotipy library, answer the following:\n",
    "\n",
    "# In the following playlist of Eurovision 2021 Country submissions (found here) what song has the most energy? Dancability?\n",
    "# Of the artists in this playlist, who has the song with the most energy? Dancability?\n"
   ]
  },
  {
   "cell_type": "code",
   "execution_count": 2,
   "id": "0d8528c0-3e52-4978-926b-b18dd9e02ba1",
   "metadata": {},
   "outputs": [
    {
     "name": "stdout",
     "output_type": "stream",
     "text": [
      "The ong with the highest energy is Dark Side by Blind Channel with energy 0.955\n",
      "The song with the highest danceability is RUSSIAN WOMAN by Manizha with danceability 0.89\n"
     ]
    }
   ],
   "source": [
    "import spotipy\n",
    "from spotipy.oauth2 import SpotifyClientCredentials\n",
    "\n",
    "# API credentials\n",
    "client_id = 'ffe952d4af3e4c25bdc3bdd633bc77b5'\n",
    "client_secret = '82621b352bd14fa1bfce37c6129a9fa7'\n",
    "\n",
    "sp = spotipy.Spotify(auth_manager=SpotifyClientCredentials(client_id=client_id, client_secret=client_secret))\n",
    "\n",
    "# Playlist\n",
    "playlist_id = '0mhTJOr2GHvDdPtAwl8TtS' \n",
    "playlist_tracks = sp.playlist_tracks(playlist_id)\n",
    "\n",
    "# Set objects to values\n",
    "highest_energy_song = None\n",
    "highest_energy_value = 0\n",
    "highest_danceability_song = None\n",
    "highest_danceability_value = 0\n",
    "\n",
    "for item in playlist_tracks['items']:\n",
    "    track = item['track']\n",
    "    track_id = track['id']\n",
    "    track_name = track['name']\n",
    "    artist_name = track['artists'][0]['name']\n",
    "    \n",
    "    audio_features = sp.audio_features(track_id)[0]  # Get audio features\n",
    "    \n",
    "    # Energy values\n",
    "    if audio_features['energy'] > highest_energy_value:\n",
    "        highest_energy_value = audio_features['energy']\n",
    "        highest_energy_song = {'track_name': track_name, 'artist_name': artist_name, 'energy': highest_energy_value}\n",
    "\n",
    "    # Danceability values\n",
    "    if audio_features['danceability'] > highest_danceability_value:\n",
    "        highest_danceability_value = audio_features['danceability']\n",
    "        highest_danceability_song = {'track_name': track_name, 'artist_name': artist_name, 'danceability': highest_danceability_value}\n",
    "\n",
    "# Print\n",
    "print(\"The song with the highest energy is {} by {} with energy {}\".format(highest_energy_song['track_name'], highest_energy_song['artist_name'], highest_energy_song['energy']))\n",
    "print(\"The song with the highest danceability is {} by {} with danceability {}\".format(highest_danceability_song['track_name'], highest_danceability_song['artist_name'], highest_danceability_song['danceability']))"
   ]
  },
  {
   "cell_type": "code",
   "execution_count": null,
   "id": "a81e5965-cc4c-4e8c-ac1e-20f52a5ed723",
   "metadata": {},
   "outputs": [],
   "source": [
    "\n",
    "### OpenFEC\n",
    "\n",
    "#Using only the requests library, answer the following:\n",
    "# Print the top 30 results for Missouri Federal House and Senate candidates sorted by candidate_id as follows: – “Name - Party - District”\n",
    "\n",
    "# Print the top 5 states that contributed to Democratic Presidential candidates in 2020 as follows: – “State - Amount” \n",
    "#– Amount must have a dollar sign in front of it, along with appropriate thousandsseparators. You may use the re library to achieve this."
   ]
  },
  {
   "cell_type": "code",
   "execution_count": 5,
   "id": "1e5b1207-65c6-458f-8d0a-fd588f340685",
   "metadata": {},
   "outputs": [
    {
     "name": "stdout",
     "output_type": "stream",
     "text": [
      "CARNAHAN, JOHN RUSSELL - DEM - 01\n",
      "HILL, ELSA DEBRA - DEM - 01\n",
      "SMOTHERSON, MELVIN - DEM - 01\n",
      "GRACE, DAVID - DEM - 01\n",
      "KNIGHT, KYLE Z - REP - 01\n",
      "PIOTROWSKI, WAYNE GENE - REP - 01\n",
      "CLAY, WILLIAM LACY JR - DEM - 01\n",
      "DOOLEY, CHARLIE A - DEM - 01\n",
      "MONDRAK, JOE - DEM - 01\n",
      "PENNINGROTH, ROBERT - REF - 01\n",
      "REDDICK, BRENDA (ZIAH) - GRE - 01\n",
      "BRITTON, CANDICE LEE - DEM - 01\n",
      "HAMLIN, ROBYN L - REP - 01\n",
      "BAKER, MARTIN D - REP - 01\n",
      "SAUER, FRED N - REP - 01\n",
      "WORKS, GEORGE MARSHALL - REP - 07\n",
      "STONE, JULIE - LIB - 01\n",
      "HEARTSTRONG, WINNIE BRIDGET DR. - REP - 01\n",
      "BRUCKNER, KATHERINE (KAT) - DEM - 01\n",
      "ROGERS, ANTHONY - REP - 01\n",
      "FURMAN, ALEX - LIB - 01\n",
      "CATALANO, THOMAS - OTH - 01\n",
      "BAKER, MARTIN D - IND - 01\n",
      "SHIELDS, JOHN O - REP - 02\n",
      "ROHAN, JOSEPH JOHN - REP - 02\n",
      "MURRAY, HUGH V - REP - 02\n",
      "MYERS, NORMAN A - REP - 02\n",
      "ANDERSON, WALLACE (WALLY) - REP - 03\n",
      "HORN, JOAN KELLY - DEM - 02\n",
      "BAINE, JOHN M - DEM - 02\n"
     ]
    }
   ],
   "source": [
    "import requests\n",
    "import re\n",
    "\n",
    "api_key = 'pmrRevDX62dmMqXN6pCkA94FrKfcbzCj0b6i2Fiz'\n",
    "url = 'https://api.open.fec.gov/v1/candidates/'\n",
    "\n",
    "params = {\n",
    "    'api_key': api_key,\n",
    "    'state': 'MO',\n",
    "    'office': ['H', 'S'],  # 'H' for House, 'S' for Senate\n",
    "    'per_page': 30,\n",
    "    'sort': 'candidate_id'\n",
    "}\n",
    "\n",
    "# Request\n",
    "response = requests.get(url, params=params)\n",
    "candidates = response.json()['results']\n",
    "\n",
    "# Print\n",
    "for candidate in candidates:\n",
    "    name = candidate['name']\n",
    "    party = candidate.get('party')\n",
    "    district = candidate.get('district')\n",
    "    print(\"{} - {} - {}\".format(name, party, district))"
   ]
  },
  {
   "cell_type": "code",
   "execution_count": 12,
   "id": "9bf61b76-ee5d-44e6-8138-67a186904b71",
   "metadata": {},
   "outputs": [
    {
     "name": "stdout",
     "output_type": "stream",
     "text": [
      "CA - $524,503,766.83\n",
      "VA - $308,039,628.67\n",
      "NY - $228,593,481.77\n",
      "CA - $170,161,675.76\n",
      "CA - $148,533,451.35\n"
     ]
    }
   ],
   "source": [
    "api_key = 'pmrRevDX62dmMqXN6pCkA94FrKfcbzCj0b6i2Fiz'\n",
    "url = 'https://api.open.fec.gov/v1/schedules/schedule_a/by_state/'\n",
    "\n",
    "params = {\n",
    "    'api_key': api_key,\n",
    "    'cycle': 2020,\n",
    "    'party': 'DEM',\n",
    "    'per_page': 5,\n",
    "    'sort': '-total',\n",
    "    'office': 'P'  \n",
    "}\n",
    "\n",
    "# Request\n",
    "response = requests.get(url, params=params)\n",
    "states_contributions = response.json()['results']\n",
    "\n",
    "def format_currency(amount):\n",
    "    amount = float(amount)  # Convert string to float\n",
    "    return \"${:,.2f}\".format(amount)\n",
    "\n",
    "# Print\n",
    "for state_contribution in states_contributions:\n",
    "    state = state_contribution['state']\n",
    "    amount = format_currency(state_contribution['total'])\n",
    "    print(\"{} - {}\".format(state, amount))\n",
    "    "
   ]
  },
  {
   "cell_type": "code",
   "execution_count": null,
   "id": "7fc95692-95f8-4740-945f-d1b4b1c5a233",
   "metadata": {},
   "outputs": [],
   "source": []
  }
 ],
 "metadata": {
  "kernelspec": {
   "display_name": "Python 3 (ipykernel)",
   "language": "python",
   "name": "python3"
  },
  "language_info": {
   "codemirror_mode": {
    "name": "ipython",
    "version": 3
   },
   "file_extension": ".py",
   "mimetype": "text/x-python",
   "name": "python",
   "nbconvert_exporter": "python",
   "pygments_lexer": "ipython3",
   "version": "3.12.5"
  }
 },
 "nbformat": 4,
 "nbformat_minor": 5
}
